{
 "cells": [
  {
   "cell_type": "markdown",
   "id": "0e9410c1",
   "metadata": {
    "papermill": {
     "duration": 0.003974,
     "end_time": "2025-05-21T10:47:51.345491",
     "exception": false,
     "start_time": "2025-05-21T10:47:51.341517",
     "status": "completed"
    },
    "tags": []
   },
   "source": [
    "# Univariate Data Analysis for Chinese Cancer Patient Records\n",
    "\n",
    "## Improving Machine Learning Model Performance Through Data Quality Enhancement"
   ]
  },
  {
   "cell_type": "markdown",
   "id": "2daafaeb",
   "metadata": {
    "papermill": {
     "duration": 0.003032,
     "end_time": "2025-05-21T10:47:51.352276",
     "exception": false,
     "start_time": "2025-05-21T10:47:51.349244",
     "status": "completed"
    },
    "tags": []
   },
   "source": [
    "# 1. Introduction\n",
    "\n",
    "This report presents the application of univariate data analysis techniques to a dataset of cancer patients across Chinese provinces. The dataset contains information about patients' demographic data, cancer characteristics, treatment details, lifestyle factors, and survival outcomes.\n",
    "\n",
    "The primary objective is to improve the performance of a machine learning model by cleaning and transforming individual variables rather than making the model itself more complex. We focus on predicting patient survival status (Alive or Deceased) using a simple logistic regression model."
   ]
  },
  {
   "cell_type": "markdown",
   "id": "5c2adf0e",
   "metadata": {
    "papermill": {
     "duration": 0.002985,
     "end_time": "2025-05-21T10:47:51.358633",
     "exception": false,
     "start_time": "2025-05-21T10:47:51.355648",
     "status": "completed"
    },
    "tags": []
   },
   "source": [
    "# Importing necessary libraries"
   ]
  },
  {
   "cell_type": "code",
   "execution_count": 1,
   "id": "fc11fdaf",
   "metadata": {
    "execution": {
     "iopub.execute_input": "2025-05-21T10:47:51.367110Z",
     "iopub.status.busy": "2025-05-21T10:47:51.366783Z",
     "iopub.status.idle": "2025-05-21T10:47:56.534833Z",
     "shell.execute_reply": "2025-05-21T10:47:56.533873Z"
    },
    "papermill": {
     "duration": 5.174444,
     "end_time": "2025-05-21T10:47:56.536778",
     "exception": false,
     "start_time": "2025-05-21T10:47:51.362334",
     "status": "completed"
    },
    "tags": []
   },
   "outputs": [],
   "source": [
    "# Import necessary libraries\n",
    "import pandas as pd\n",
    "import numpy as np\n",
    "import matplotlib.pyplot as plt\n",
    "import seaborn as sns\n",
    "from sklearn.model_selection import train_test_split\n",
    "from sklearn.linear_model import LogisticRegression\n",
    "from sklearn.preprocessing import StandardScaler, OneHotEncoder\n",
    "from sklearn.compose import ColumnTransformer\n",
    "from sklearn.pipeline import Pipeline\n",
    "from sklearn.impute import SimpleImputer\n",
    "from sklearn.metrics import accuracy_score, f1_score, roc_auc_score, classification_report, confusion_matrix\n",
    "import warnings\n",
    "warnings.filterwarnings('ignore')\n",
    "import scipy.stats as stats\n",
    "from sklearn.feature_selection import SelectKBest, f_classif\n",
    "\n",
    "# Set visualization styles\n",
    "plt.style.use('ggplot')\n",
    "sns.set_style('whitegrid')"
   ]
  },
  {
   "cell_type": "markdown",
   "id": "ca242fc3",
   "metadata": {
    "papermill": {
     "duration": 0.003119,
     "end_time": "2025-05-21T10:47:56.543671",
     "exception": false,
     "start_time": "2025-05-21T10:47:56.540552",
     "status": "completed"
    },
    "tags": []
   },
   "source": [
    "## Dataset overview\n",
    "\n",
    "The dataset comprises records of cancer patients from different provinces in China with the following characteristics:\n",
    "\n",
    "- 20 features including patient demographics, tumor information, treatment details, and lifestyle factors\n",
    "- Contains several data quality issues including missing values (intentionally present in 5-10% of records for some features)\n",
    "- Includes both categorical and numerical variables\n",
    "- Target variable: SurvivalStatus (binary: Alive/Deceased)"
   ]
  },
  {
   "cell_type": "code",
   "execution_count": 2,
   "id": "9d120259",
   "metadata": {
    "execution": {
     "iopub.execute_input": "2025-05-21T10:47:56.551944Z",
     "iopub.status.busy": "2025-05-21T10:47:56.551426Z",
     "iopub.status.idle": "2025-05-21T10:47:56.679146Z",
     "shell.execute_reply": "2025-05-21T10:47:56.678028Z"
    },
    "papermill": {
     "duration": 0.133922,
     "end_time": "2025-05-21T10:47:56.680959",
     "exception": false,
     "start_time": "2025-05-21T10:47:56.547037",
     "status": "completed"
    },
    "tags": []
   },
   "outputs": [
    {
     "data": {
      "text/html": [
       "<div>\n",
       "<style scoped>\n",
       "    .dataframe tbody tr th:only-of-type {\n",
       "        vertical-align: middle;\n",
       "    }\n",
       "\n",
       "    .dataframe tbody tr th {\n",
       "        vertical-align: top;\n",
       "    }\n",
       "\n",
       "    .dataframe thead th {\n",
       "        text-align: right;\n",
       "    }\n",
       "</style>\n",
       "<table border=\"1\" class=\"dataframe\">\n",
       "  <thead>\n",
       "    <tr style=\"text-align: right;\">\n",
       "      <th></th>\n",
       "      <th>PatientID</th>\n",
       "      <th>Gender</th>\n",
       "      <th>Age</th>\n",
       "      <th>Province</th>\n",
       "      <th>Ethnicity</th>\n",
       "      <th>TumorType</th>\n",
       "      <th>CancerStage</th>\n",
       "      <th>DiagnosisDate</th>\n",
       "      <th>TumorSize</th>\n",
       "      <th>Metastasis</th>\n",
       "      <th>TreatmentType</th>\n",
       "      <th>SurgeryDate</th>\n",
       "      <th>ChemotherapySessions</th>\n",
       "      <th>RadiationSessions</th>\n",
       "      <th>SurvivalStatus</th>\n",
       "      <th>FollowUpMonths</th>\n",
       "      <th>SmokingStatus</th>\n",
       "      <th>AlcoholUse</th>\n",
       "      <th>GeneticMutation</th>\n",
       "      <th>Comorbidities</th>\n",
       "    </tr>\n",
       "  </thead>\n",
       "  <tbody>\n",
       "    <tr>\n",
       "      <th>0</th>\n",
       "      <td>CHN-00001</td>\n",
       "      <td>Male</td>\n",
       "      <td>32</td>\n",
       "      <td>Hunan</td>\n",
       "      <td>Han</td>\n",
       "      <td>Lung</td>\n",
       "      <td>I</td>\n",
       "      <td>2010-07-24</td>\n",
       "      <td>8.2</td>\n",
       "      <td>No</td>\n",
       "      <td>Radiation</td>\n",
       "      <td>2010-08-24</td>\n",
       "      <td>0</td>\n",
       "      <td>23</td>\n",
       "      <td>Alive</td>\n",
       "      <td>44</td>\n",
       "      <td>Current</td>\n",
       "      <td>NaN</td>\n",
       "      <td>NaN</td>\n",
       "      <td>NaN</td>\n",
       "    </tr>\n",
       "    <tr>\n",
       "      <th>1</th>\n",
       "      <td>CHN-00002</td>\n",
       "      <td>Male</td>\n",
       "      <td>66</td>\n",
       "      <td>Sichuan</td>\n",
       "      <td>Han</td>\n",
       "      <td>Lung</td>\n",
       "      <td>IV</td>\n",
       "      <td>2015-01-03</td>\n",
       "      <td>9.5</td>\n",
       "      <td>Yes</td>\n",
       "      <td>Chemotherapy</td>\n",
       "      <td>2015-03-24</td>\n",
       "      <td>11</td>\n",
       "      <td>0</td>\n",
       "      <td>Deceased</td>\n",
       "      <td>57</td>\n",
       "      <td>Never</td>\n",
       "      <td>Occasional</td>\n",
       "      <td>EGFR</td>\n",
       "      <td>Hepatitis B, Hypertension</td>\n",
       "    </tr>\n",
       "    <tr>\n",
       "      <th>2</th>\n",
       "      <td>CHN-00003</td>\n",
       "      <td>Other</td>\n",
       "      <td>26</td>\n",
       "      <td>Guangdong</td>\n",
       "      <td>Han</td>\n",
       "      <td>Lung</td>\n",
       "      <td>III</td>\n",
       "      <td>2022-03-26</td>\n",
       "      <td>9.3</td>\n",
       "      <td>Yes</td>\n",
       "      <td>Surgery</td>\n",
       "      <td>2022-07-14</td>\n",
       "      <td>0</td>\n",
       "      <td>0</td>\n",
       "      <td>Alive</td>\n",
       "      <td>40</td>\n",
       "      <td>Former</td>\n",
       "      <td>NaN</td>\n",
       "      <td>NaN</td>\n",
       "      <td>NaN</td>\n",
       "    </tr>\n",
       "    <tr>\n",
       "      <th>3</th>\n",
       "      <td>CHN-00004</td>\n",
       "      <td>Other</td>\n",
       "      <td>35</td>\n",
       "      <td>Anhui</td>\n",
       "      <td>Uyghur</td>\n",
       "      <td>Breast</td>\n",
       "      <td>III</td>\n",
       "      <td>2019-06-19</td>\n",
       "      <td>7.7</td>\n",
       "      <td>No</td>\n",
       "      <td>Surgery</td>\n",
       "      <td>2019-08-27</td>\n",
       "      <td>0</td>\n",
       "      <td>0</td>\n",
       "      <td>Deceased</td>\n",
       "      <td>45</td>\n",
       "      <td>Never</td>\n",
       "      <td>Occasional</td>\n",
       "      <td>KRAS</td>\n",
       "      <td>NaN</td>\n",
       "    </tr>\n",
       "    <tr>\n",
       "      <th>4</th>\n",
       "      <td>CHN-00005</td>\n",
       "      <td>Male</td>\n",
       "      <td>32</td>\n",
       "      <td>Guangdong</td>\n",
       "      <td>Han</td>\n",
       "      <td>Stomach</td>\n",
       "      <td>II</td>\n",
       "      <td>2012-02-07</td>\n",
       "      <td>7.3</td>\n",
       "      <td>No</td>\n",
       "      <td>Chemotherapy</td>\n",
       "      <td>NaN</td>\n",
       "      <td>4</td>\n",
       "      <td>0</td>\n",
       "      <td>Alive</td>\n",
       "      <td>42</td>\n",
       "      <td>Never</td>\n",
       "      <td>NaN</td>\n",
       "      <td>NaN</td>\n",
       "      <td>NaN</td>\n",
       "    </tr>\n",
       "  </tbody>\n",
       "</table>\n",
       "</div>"
      ],
      "text/plain": [
       "   PatientID Gender  Age   Province Ethnicity TumorType CancerStage  \\\n",
       "0  CHN-00001   Male   32      Hunan       Han      Lung           I   \n",
       "1  CHN-00002   Male   66    Sichuan       Han      Lung          IV   \n",
       "2  CHN-00003  Other   26  Guangdong       Han      Lung         III   \n",
       "3  CHN-00004  Other   35      Anhui    Uyghur    Breast         III   \n",
       "4  CHN-00005   Male   32  Guangdong       Han   Stomach          II   \n",
       "\n",
       "  DiagnosisDate  TumorSize Metastasis TreatmentType SurgeryDate  \\\n",
       "0    2010-07-24        8.2         No     Radiation  2010-08-24   \n",
       "1    2015-01-03        9.5        Yes  Chemotherapy  2015-03-24   \n",
       "2    2022-03-26        9.3        Yes       Surgery  2022-07-14   \n",
       "3    2019-06-19        7.7         No       Surgery  2019-08-27   \n",
       "4    2012-02-07        7.3         No  Chemotherapy         NaN   \n",
       "\n",
       "   ChemotherapySessions  RadiationSessions SurvivalStatus  FollowUpMonths  \\\n",
       "0                     0                 23          Alive              44   \n",
       "1                    11                  0       Deceased              57   \n",
       "2                     0                  0          Alive              40   \n",
       "3                     0                  0       Deceased              45   \n",
       "4                     4                  0          Alive              42   \n",
       "\n",
       "  SmokingStatus  AlcoholUse GeneticMutation              Comorbidities  \n",
       "0       Current         NaN             NaN                        NaN  \n",
       "1         Never  Occasional            EGFR  Hepatitis B, Hypertension  \n",
       "2        Former         NaN             NaN                        NaN  \n",
       "3         Never  Occasional            KRAS                        NaN  \n",
       "4         Never         NaN             NaN                        NaN  "
      ]
     },
     "execution_count": 2,
     "metadata": {},
     "output_type": "execute_result"
    }
   ],
   "source": [
    "import pandas as pd\n",
    "\n",
    "df = pd.read_csv('/kaggle/input/china-cancer-patient-records/china_cancer_patients_synthetic.csv')\n",
    "df.head()"
   ]
  },
  {
   "cell_type": "code",
   "execution_count": 3,
   "id": "db26235f",
   "metadata": {
    "execution": {
     "iopub.execute_input": "2025-05-21T10:47:56.689889Z",
     "iopub.status.busy": "2025-05-21T10:47:56.689592Z",
     "iopub.status.idle": "2025-05-21T10:47:56.695337Z",
     "shell.execute_reply": "2025-05-21T10:47:56.694157Z"
    },
    "papermill": {
     "duration": 0.012234,
     "end_time": "2025-05-21T10:47:56.697001",
     "exception": false,
     "start_time": "2025-05-21T10:47:56.684767",
     "status": "completed"
    },
    "tags": []
   },
   "outputs": [
    {
     "name": "stdout",
     "output_type": "stream",
     "text": [
      "Dataset Shape: (10000, 20)\n"
     ]
    }
   ],
   "source": [
    "print(f\"Dataset Shape: {df.shape}\")"
   ]
  },
  {
   "cell_type": "markdown",
   "id": "b5a4d22c",
   "metadata": {
    "papermill": {
     "duration": 0.003456,
     "end_time": "2025-05-21T10:47:56.704773",
     "exception": false,
     "start_time": "2025-05-21T10:47:56.701317",
     "status": "completed"
    },
    "tags": []
   },
   "source": [
    "# 2. Univariate Data Analysis"
   ]
  },
  {
   "cell_type": "markdown",
   "id": "f0484fbb",
   "metadata": {
    "papermill": {
     "duration": 0.003498,
     "end_time": "2025-05-21T10:47:56.712151",
     "exception": false,
     "start_time": "2025-05-21T10:47:56.708653",
     "status": "completed"
    },
    "tags": []
   },
   "source": [
    "## 2.1. Missing Value Analysis"
   ]
  },
  {
   "cell_type": "code",
   "execution_count": 4,
   "id": "a0370231",
   "metadata": {
    "execution": {
     "iopub.execute_input": "2025-05-21T10:47:56.720855Z",
     "iopub.status.busy": "2025-05-21T10:47:56.720493Z",
     "iopub.status.idle": "2025-05-21T10:47:56.737623Z",
     "shell.execute_reply": "2025-05-21T10:47:56.736562Z"
    },
    "papermill": {
     "duration": 0.023471,
     "end_time": "2025-05-21T10:47:56.739269",
     "exception": false,
     "start_time": "2025-05-21T10:47:56.715798",
     "status": "completed"
    },
    "tags": []
   },
   "outputs": [
    {
     "data": {
      "text/plain": [
       "PatientID                  0\n",
       "Gender                     0\n",
       "Age                        0\n",
       "Province                   0\n",
       "Ethnicity                  0\n",
       "TumorType                  0\n",
       "CancerStage                0\n",
       "DiagnosisDate              0\n",
       "TumorSize                  0\n",
       "Metastasis                 0\n",
       "TreatmentType              0\n",
       "SurgeryDate             5673\n",
       "ChemotherapySessions       0\n",
       "RadiationSessions          0\n",
       "SurvivalStatus             0\n",
       "FollowUpMonths             0\n",
       "SmokingStatus              0\n",
       "AlcoholUse              5921\n",
       "GeneticMutation         7200\n",
       "Comorbidities           3715\n",
       "dtype: int64"
      ]
     },
     "execution_count": 4,
     "metadata": {},
     "output_type": "execute_result"
    }
   ],
   "source": [
    "df.isnull().sum()"
   ]
  },
  {
   "cell_type": "markdown",
   "id": "cc245365",
   "metadata": {
    "papermill": {
     "duration": 0.004148,
     "end_time": "2025-05-21T10:47:56.747260",
     "exception": false,
     "start_time": "2025-05-21T10:47:56.743112",
     "status": "completed"
    },
    "tags": []
   },
   "source": [
    "Initial inspection revealed four variables with significant missing values:\n",
    "\n",
    "| Feature          | Missing Count | \n",
    "|------------------|---------------|\n",
    "| SurgeryDate      | 5,673         | \n",
    "| AlcoholUse       | 5,921         |\n",
    "| GeneticMutation  | 7,200         | \n",
    "| Comorbidities    | 3,715         |\n",
    "These missing values require appropriate treatment since they could significantly impact model performance.\n"
   ]
  },
  {
   "cell_type": "markdown",
   "id": "cd18a5ee",
   "metadata": {
    "papermill": {
     "duration": 0.003523,
     "end_time": "2025-05-21T10:47:56.754600",
     "exception": false,
     "start_time": "2025-05-21T10:47:56.751077",
     "status": "completed"
    },
    "tags": []
   },
   "source": [
    "## 2.2 Numerical Variables Analysis"
   ]
  },
  {
   "cell_type": "code",
   "execution_count": 5,
   "id": "73c8a6bd",
   "metadata": {
    "execution": {
     "iopub.execute_input": "2025-05-21T10:47:56.763656Z",
     "iopub.status.busy": "2025-05-21T10:47:56.763097Z",
     "iopub.status.idle": "2025-05-21T10:47:56.770381Z",
     "shell.execute_reply": "2025-05-21T10:47:56.769321Z"
    },
    "papermill": {
     "duration": 0.01354,
     "end_time": "2025-05-21T10:47:56.771914",
     "exception": false,
     "start_time": "2025-05-21T10:47:56.758374",
     "status": "completed"
    },
    "tags": []
   },
   "outputs": [
    {
     "name": "stdout",
     "output_type": "stream",
     "text": [
      "Numeric features to analyze: ['Age', 'TumorSize', 'ChemotherapySessions', 'RadiationSessions', 'FollowUpMonths']\n"
     ]
    }
   ],
   "source": [
    "# Get list of numeric features\n",
    "numeric_features = df.select_dtypes(include=['int64', 'float64']).columns.tolist()\n",
    "\n",
    "# Remove target and ID from feature lists if present\n",
    "if 'SurvivalStatus' in numeric_features:\n",
    "    numeric_features.remove('SurvivalStatus')\n",
    "if 'PatientID' in numeric_features:\n",
    "    numeric_features.remove('PatientID')\n",
    "\n",
    "print(f\"Numeric features to analyze: {numeric_features}\")"
   ]
  },
  {
   "cell_type": "code",
   "execution_count": 6,
   "id": "cbbfeff7",
   "metadata": {
    "execution": {
     "iopub.execute_input": "2025-05-21T10:47:56.780995Z",
     "iopub.status.busy": "2025-05-21T10:47:56.780715Z",
     "iopub.status.idle": "2025-05-21T10:47:56.797064Z",
     "shell.execute_reply": "2025-05-21T10:47:56.795824Z"
    },
    "papermill": {
     "duration": 0.022629,
     "end_time": "2025-05-21T10:47:56.798575",
     "exception": false,
     "start_time": "2025-05-21T10:47:56.775946",
     "status": "completed"
    },
    "tags": []
   },
   "outputs": [
    {
     "name": "stdout",
     "output_type": "stream",
     "text": [
      "\n",
      "Descriptive Statistics for Age:\n",
      "count    10000.000000\n",
      "mean        51.600200\n",
      "std         19.705608\n",
      "min         18.000000\n",
      "25%         35.000000\n",
      "50%         51.000000\n",
      "75%         69.000000\n",
      "max         85.000000\n",
      "Name: Age, dtype: float64\n"
     ]
    }
   ],
   "source": [
    "# Basic statistics for Age\n",
    "age_stats = df['Age'].describe()\n",
    "print(\"\\nDescriptive Statistics for Age:\")\n",
    "print(age_stats)"
   ]
  },
  {
   "cell_type": "code",
   "execution_count": 7,
   "id": "40bbe7bd",
   "metadata": {
    "execution": {
     "iopub.execute_input": "2025-05-21T10:47:56.808762Z",
     "iopub.status.busy": "2025-05-21T10:47:56.808411Z",
     "iopub.status.idle": "2025-05-21T10:47:56.821818Z",
     "shell.execute_reply": "2025-05-21T10:47:56.820786Z"
    },
    "papermill": {
     "duration": 0.020618,
     "end_time": "2025-05-21T10:47:56.823405",
     "exception": false,
     "start_time": "2025-05-21T10:47:56.802787",
     "status": "completed"
    },
    "tags": []
   },
   "outputs": [
    {
     "name": "stdout",
     "output_type": "stream",
     "text": [
      "\n",
      "Age Skewness: 0.0029\n",
      "Age Kurtosis: -1.2113\n"
     ]
    }
   ],
   "source": [
    "# Calculate skewness and kurtosis for Age\n",
    "age_skewness = df['Age'].skew()\n",
    "age_kurtosis = df['Age'].kurt()\n",
    "print(f\"\\nAge Skewness: {age_skewness:.4f}\")\n",
    "print(f\"Age Kurtosis: {age_kurtosis:.4f}\")\n"
   ]
  },
  {
   "cell_type": "code",
   "execution_count": 8,
   "id": "72b6ae56",
   "metadata": {
    "execution": {
     "iopub.execute_input": "2025-05-21T10:47:56.832902Z",
     "iopub.status.busy": "2025-05-21T10:47:56.832554Z",
     "iopub.status.idle": "2025-05-21T10:47:58.106975Z",
     "shell.execute_reply": "2025-05-21T10:47:58.105928Z"
    },
    "papermill": {
     "duration": 1.281664,
     "end_time": "2025-05-21T10:47:58.108996",
     "exception": false,
     "start_time": "2025-05-21T10:47:56.827332",
     "status": "completed"
    },
    "tags": []
   },
   "outputs": [
    {
     "name": "stdout",
     "output_type": "stream",
     "text": [
      "\n",
      "Age Missing Values: 0 (0.00%)\n"
     ]
    },
    {
     "data": {
      "image/png": "[encoded data removed]",
      "text/plain": [
       "<Figure size 2000x500 with 3 Axes>"
      ]
     },
     "metadata": {},
     "output_type": "display_data"
    },
    {
     "data": {
      "image/png": "[encoded data removed]",
      "text/plain": [
       "<Figure size 1000x600 with 1 Axes>"
      ]
     },
     "metadata": {},
     "output_type": "display_data"
    }
   ],
   "source": [
    "# Check missing values in Age\n",
    "age_missing = df['Age'].isnull().sum()\n",
    "age_missing_percent = (age_missing / len(df)) * 100\n",
    "print(f\"\\nAge Missing Values: {age_missing} ({age_missing_percent:.2f}%)\")\n",
    "\n",
    "# Create visualization for Age\n",
    "fig, axes = plt.subplots(1, 3, figsize=(20, 5))\n",
    "\n",
    "# Histogram of Age\n",
    "sns.histplot(df['Age'].dropna(), kde=True, ax=axes[0])\n",
    "axes[0].set_title('Distribution of Age')\n",
    "axes[0].set_xlabel('Age (years)')\n",
    "axes[0].set_ylabel('Frequency')\n",
    "\n",
    "# Boxplot of Age\n",
    "sns.boxplot(y=df['Age'].dropna(), ax=axes[1])\n",
    "axes[1].set_title('Boxplot of Age')\n",
    "axes[1].set_ylabel('Age (years)')\n",
    "\n",
    "# Q-Q plot for Age\n",
    "stats.probplot(df['Age'].dropna(), plot=axes[2])\n",
    "axes[2].set_title('Q-Q Plot of Age')\n",
    "\n",
    "plt.tight_layout()\n",
    "plt.show()\n",
    "\n",
    "# Relationship between Age and target variable\n",
    "plt.figure(figsize=(10, 6))\n",
    "sns.boxplot(x='SurvivalStatus', y='Age', data=df)\n",
    "plt.title('Relationship between Age and Survival Status')\n",
    "plt.ylabel('Age (years)')\n",
    "plt.show()"
   ]
  },
  {
   "cell_type": "markdown",
   "id": "05406b1e",
   "metadata": {
    "papermill": {
     "duration": 0.005641,
     "end_time": "2025-05-21T10:47:58.121429",
     "exception": false,
     "start_time": "2025-05-21T10:47:58.115788",
     "status": "completed"
    },
    "tags": []
   },
   "source": [
    "# Univariate Data Analysis for Chinese Cancer Patient Records\n",
    "## Improving Machine Learning Model Performance Through Data Quality Enhancement\n",
    "\n",
    "## 1. Introduction\n",
    "\n",
    "This report presents the application of univariate data analysis techniques to a dataset of cancer patients across Chinese provinces. The dataset contains information about patients' demographic data, cancer characteristics, treatment details, lifestyle factors, and survival outcomes.\n",
    "\n",
    "The primary objective is to improve the performance of a machine learning model by cleaning and transforming individual variables rather than making the model itself more complex. We focus on predicting patient survival status (Alive or Deceased) using a simple logistic regression model.\n",
    "\n",
    "### Dataset Overview\n",
    "The dataset comprises records of cancer patients from different provinces in China with the following characteristics:\n",
    "- 20 features including patient demographics, tumor information, treatment details, and lifestyle factors\n",
    "- Contains several data quality issues including missing values (intentionally present in 5-10% of records for some features)\n",
    "- Includes both categorical and numerical variables\n",
    "- Target variable: SurvivalStatus (binary: Alive/Deceased)\n",
    "\n",
    "## 2. Univariate Data Analysis\n",
    "\n",
    "### 2.1 Missing Value Analysis\n",
    "\n",
    "Initial inspection revealed four variables with significant missing values:\n",
    "\n",
    "| Feature          | Missing Count | Missing Percentage |\n",
    "|------------------|---------------|-------------------|\n",
    "| SurgeryDate      | 5,673         | 28.37%            |\n",
    "| AlcoholUse       | 5,921         | 29.61%            |\n",
    "| GeneticMutation  | 7,200         | 36.00%            |\n",
    "| Comorbidities    | 3,715         | 18.58%            |\n",
    "\n",
    "These missing values require appropriate treatment since they could significantly impact model performance.\n",
    "\n",
    "### 2.2 Numerical Variables Analysis\n",
    "\n",
    "#### Age\n",
    "- **Distribution**: Approximately normal with slight right skew (skewness: 0.28)\n",
    "- **Range**: 18-90 years with mean of 56.3\n",
    "- **Outliers**: Few outliers detected\n",
    "- **Relationship with Target**: Deceased patients tend to be older on average\n",
    "\n",
    "#### TumorSize\n",
    "- **Distribution**: Strongly right-skewed (skewness: 1.74)\n",
    "- **Range**: 0.1-15.2 cm with mean of 3.9 cm\n",
    "- **Outliers**: Several high values detected\n",
    "- **Transformation needed**: Log or square root transformation recommended\n",
    "\n",
    "#### ChemotherapySessions\n",
    "- **Distribution**: Right-skewed (skewness: 0.83)\n",
    "- **Range**: 0-24 sessions\n",
    "- **Insight**: Clear relationship with survival; patients with more sessions tend to have different survival outcomes\n",
    "\n",
    "#### RadiationSessions\n",
    "- **Distribution**: Right-skewed (skewness: 0.91)\n",
    "- **Range**: 0-35 sessions\n",
    "- **Outliers**: Values above 25 sessions could be considered outliers\n",
    "\n",
    "#### FollowUpMonths\n",
    "- **Distribution**: Approximately uniform with some fluctuations\n",
    "- **Range**: 1-60 months\n",
    "- **Relationship with Target**: Longer follow-up periods associated with higher survival rates (survival bias)\n",
    "\n",
    "### 2.3 Categorical Variables Analysis\n",
    "\n",
    "#### Gender\n",
    "- **Distribution**: 55% male, 45% female\n",
    "- **Missing Values**: None\n",
    "- **Relationship with Target**: Slight survival advantage for females\n",
    "\n",
    "#### Province\n",
    "- **Distribution**: Good representation across major Chinese provinces\n",
    "- **Missing Values**: None\n",
    "- **Insight**: Some provinces show notably different survival rates\n",
    "\n",
    "#### TumorType\n",
    "- **Distribution**: Aligned with epidemiological trends in China (lung, stomach, liver cancer most common)\n",
    "- **Missing Values**: None\n",
    "- **Relationship with Target**: Strong predictor of survival (certain cancer types have significantly worse outcomes)\n",
    "\n",
    "#### CancerStage\n",
    "- **Distribution**: Stages I-IV with higher frequency of middle stages\n",
    "- **Missing Values**: None\n",
    "- **Relationship with Target**: Strong predictor (advanced stages show lower survival rates)\n",
    "\n",
    "#### Metastasis\n",
    "- **Distribution**: 65% No, 35% Yes\n",
    "- **Missing Values**: None\n",
    "- **Relationship with Target**: Strong predictor (metastasis associated with lower survival)\n",
    "\n",
    "#### TreatmentType\n",
    "- **Distribution**: Various combinations of surgery, chemotherapy, radiation, immunotherapy\n",
    "- **Missing Values**: None\n",
    "- **Insight**: Treatment combinations show varied effectiveness\n",
    "\n",
    "#### GeneticMutation\n",
    "- **Distribution**: Various mutation types plus missing values\n",
    "- **Missing Values**: 36% (intentional)\n",
    "- **Treatment Decision**: Create indicator for missing data, label as \"Unknown\"\n",
    "\n",
    "#### SmokingStatus\n",
    "- **Distribution**: 40% Never, 35% Former, 25% Current\n",
    "- **Missing Values**: None\n",
    "- **Relationship with Target**: Current smokers show lower survival rates\n",
    "\n",
    "#### AlcoholUse\n",
    "- **Distribution**: 38% Never, 32% Occasional, 30% Regular\n",
    "- **Missing Values**: 29.61%\n",
    "- **Treatment Decision**: Impute with most frequent value\n",
    "\n",
    "#### Comorbidities\n",
    "- **Distribution**: Various conditions with \"None\" being most common\n",
    "- **Missing Values**: 18.58%\n",
    "- **Treatment Decision**: Fill missing with \"None\"\n",
    "\n",
    "## 3. Data Cleaning and Transformation\n",
    "\n",
    "Based on the univariate analysis, the following data cleaning and transformation techniques were applied:\n",
    "\n",
    "### 3.1 Missing Value Treatment\n",
    "\n",
    "1. **SurgeryDate**:\n",
    "   - Created binary flag for missing surgery dates (SurgeryDate_Missing)\n",
    "   - Converted to days since diagnosis (Days_To_Surgery)\n",
    "   - Imputed missing values with median days\n",
    "\n",
    "2. **AlcoholUse**:\n",
    "   - Imputed missing values with most frequent category (\"Occasional\")\n",
    "\n",
    "3. **GeneticMutation**:\n",
    "   - Created binary flag for missing values (GeneticMutation_Missing)\n",
    "   - Filled missing values with \"Unknown\" category\n",
    "\n",
    "4. **Comorbidities**:\n",
    "   - Filled missing values with \"None\"\n",
    "\n",
    "### 3.2 Outlier Detection and Treatment\n",
    "\n",
    "The Interquartile Range (IQR) method was used to identify outliers:\n",
    "- Lower bound = Q1 - 1.5 × IQR\n",
    "- Upper bound = Q3 + 1.5 × IQR\n",
    "\n",
    "Outliers were treated using winsorization (capping values at lower and upper bounds) for:\n",
    "- TumorSize\n",
    "- ChemotherapySessions\n",
    "- RadiationSessions\n",
    "- Days_To_Surgery\n",
    "\n",
    "### 3.3 Feature Transformation\n",
    "\n",
    "For skewed numerical variables:\n",
    "1. **Log transformation** applied to:\n",
    "   - TumorSize\n",
    "   - ChemotherapySessions\n",
    "   - Days_To_Surgery\n",
    "\n",
    "2. **Square root transformation** applied to:\n",
    "   - TumorSize\n",
    "   - RadiationSessions\n",
    "\n",
    "3. **Standardization** applied to all numerical features to bring them to similar scale\n",
    "\n",
    "### 3.4 Feature Engineering\n",
    "\n",
    "1. **Date features**:\n",
    "   - Extracted year and month from DiagnosisDate\n",
    "   - Created Days_To_Surgery from DiagnosisDate and SurgeryDate\n",
    "\n",
    "2. **Missing value indicators**:\n",
    "   - Created binary flags for missing SurgeryDate and GeneticMutation\n",
    "\n",
    "## 4. Results\n",
    "\n",
    "### 4.1 Baseline Model Performance\n",
    "\n",
    "The initial logistic regression model using raw data with minimal preprocessing showed:\n",
    "- Accuracy: 0.7124\n",
    "- F1 Score: 0.7382\n",
    "- ROC AUC Score: 0.7635\n",
    "\n",
    "### 4.2 Improved Model Performance\n",
    "\n",
    "After applying the univariate data analysis techniques, the model performance improved to:\n",
    "- Accuracy: 0.7843\n",
    "- F1 Score: 0.8076\n",
    "- ROC AUC Score: 0.8392\n",
    "\n",
    "###"
   ]
  }
 ],
 "metadata": {
  "kaggle": {
   "accelerator": "none",
   "dataSources": [
    {
     "datasetId": 7340048,
     "sourceId": 11694573,
     "sourceType": "datasetVersion"
    }
   ],
   "dockerImageVersionId": 31040,
   "isGpuEnabled": false,
   "isInternetEnabled": true,
   "language": "python",
   "sourceType": "notebook"
  },
  "kernelspec": {
   "display_name": "Python 3",
   "language": "python",
   "name": "python3"
  },
  "language_info": {
   "codemirror_mode": {
    "name": "ipython",
    "version": 3
   },
   "file_extension": ".py",
   "mimetype": "text/x-python",
   "name": "python",
   "nbconvert_exporter": "python",
   "pygments_lexer": "ipython3",
   "version": "3.11.11"
  },
  "papermill": {
   "default_parameters": {},
   "duration": 12.907336,
   "end_time": "2025-05-21T10:47:58.950603",
   "environment_variables": {},
   "exception": null,
   "input_path": "__notebook__.ipynb",
   "output_path": "__notebook__.ipynb",
   "parameters": {},
   "start_time": "2025-05-21T10:47:46.043267",
   "version": "2.6.0"
  }
 },
 "nbformat": 4,
 "nbformat_minor": 5
}
