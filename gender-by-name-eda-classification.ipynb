{
 "cells": [
  {
   "cell_type": "raw",
   "id": "1850b476",
   "metadata": {
    "_cell_guid": "b1076dfc-b9ad-4769-8c92-a6c4dae69d19",
    "_uuid": "8f2839f25d086af736a60e9eeb907d3b93b6e0e5",
    "papermill": {
     "duration": 0.004319,
     "end_time": "2024-02-12T13:54:53.731492",
     "exception": false,
     "start_time": "2024-02-12T13:54:53.727173",
     "status": "completed"
    },
    "tags": []
   },
   "source": [
    "# This Python 3 environment comes with many helpful analytics libraries installed\n",
    "# It is defined by the kaggle/python Docker image: https://github.com/kaggle/docker-python\n",
    "# For example, here's several helpful packages to load\n",
    "\n",
    "import numpy as np # linear algebra\n",
    "import pandas as pd # data processing, CSV file I/O (e.g. pd.read_csv)\n",
    "\n",
    "# Input data files are available in the read-only \"../input/\" directory\n",
    "# For example, running this (by clicking run or pressing Shift+Enter) will list all files under the input directory\n",
    "\n",
    "import os\n",
    "for dirname, _, filenames in os.walk('/kaggle/input'):\n",
    "    for filename in filenames:\n",
    "        print(os.path.join(dirname, filename))\n",
    "\n",
    "# You can write up to 20GB to the current directory (/kaggle/working/) that gets preserved as output when you create a version using \"Save & Run All\" \n",
    "# You can also write temporary files to /kaggle/temp/, but they won't be saved outside of the current session"
   ]
  },
  {
   "cell_type": "markdown",
   "id": "650e4983",
   "metadata": {
    "papermill": {
     "duration": 0.003663,
     "end_time": "2024-02-12T13:54:53.739370",
     "exception": false,
     "start_time": "2024-02-12T13:54:53.735707",
     "status": "completed"
    },
    "tags": []
   },
   "source": [
    "# Import data and libraries"
   ]
  },
  {
   "cell_type": "code",
   "execution_count": 1,
   "id": "c22e7196",
   "metadata": {
    "execution": {
     "iopub.execute_input": "2024-02-12T13:54:53.749053Z",
     "iopub.status.busy": "2024-02-12T13:54:53.748611Z",
     "iopub.status.idle": "2024-02-12T13:54:57.194182Z",
     "shell.execute_reply": "2024-02-12T13:54:57.192777Z"
    },
    "papermill": {
     "duration": 3.454302,
     "end_time": "2024-02-12T13:54:57.197613",
     "exception": false,
     "start_time": "2024-02-12T13:54:53.743311",
     "status": "completed"
    },
    "tags": []
   },
   "outputs": [],
   "source": [
    "import numpy as np\n",
    "import pandas as pd\n",
    "from sklearn.model_selection import train_test_split\n",
    "from sklearn.preprocessing import StandardScaler\n",
    "from sklearn.metrics import accuracy_score, confusion_matrix, classification_report\n",
    "from sklearn.linear_model import LogisticRegression\n",
    "from sklearn.tree import DecisionTreeClassifier\n",
    "from sklearn.ensemble import RandomForestClassifier\n",
    "from sklearn.svm import SVC\n",
    "from sklearn.neighbors import KNeighborsClassifier\n",
    "\n",
    "import matplotlib.pyplot as plt\n",
    "import seaborn as sns"
   ]
  },
  {
   "cell_type": "code",
   "execution_count": 2,
   "id": "d545250d",
   "metadata": {
    "execution": {
     "iopub.execute_input": "2024-02-12T13:54:57.209588Z",
     "iopub.status.busy": "2024-02-12T13:54:57.208974Z",
     "iopub.status.idle": "2024-02-12T13:54:57.477562Z",
     "shell.execute_reply": "2024-02-12T13:54:57.476307Z"
    },
    "papermill": {
     "duration": 0.277961,
     "end_time": "2024-02-12T13:54:57.480612",
     "exception": false,
     "start_time": "2024-02-12T13:54:57.202651",
     "status": "completed"
    },
    "tags": []
   },
   "outputs": [
    {
     "data": {
      "text/html": [
       "<div>\n",
       "<style scoped>\n",
       "    .dataframe tbody tr th:only-of-type {\n",
       "        vertical-align: middle;\n",
       "    }\n",
       "\n",
       "    .dataframe tbody tr th {\n",
       "        vertical-align: top;\n",
       "    }\n",
       "\n",
       "    .dataframe thead th {\n",
       "        text-align: right;\n",
       "    }\n",
       "</style>\n",
       "<table border=\"1\" class=\"dataframe\">\n",
       "  <thead>\n",
       "    <tr style=\"text-align: right;\">\n",
       "      <th></th>\n",
       "      <th>Name</th>\n",
       "      <th>Gender</th>\n",
       "      <th>Count</th>\n",
       "      <th>Probability</th>\n",
       "    </tr>\n",
       "  </thead>\n",
       "  <tbody>\n",
       "    <tr>\n",
       "      <th>0</th>\n",
       "      <td>James</td>\n",
       "      <td>M</td>\n",
       "      <td>5304407</td>\n",
       "      <td>0.014517</td>\n",
       "    </tr>\n",
       "    <tr>\n",
       "      <th>1</th>\n",
       "      <td>John</td>\n",
       "      <td>M</td>\n",
       "      <td>5260831</td>\n",
       "      <td>0.014398</td>\n",
       "    </tr>\n",
       "    <tr>\n",
       "      <th>2</th>\n",
       "      <td>Robert</td>\n",
       "      <td>M</td>\n",
       "      <td>4970386</td>\n",
       "      <td>0.013603</td>\n",
       "    </tr>\n",
       "    <tr>\n",
       "      <th>3</th>\n",
       "      <td>Michael</td>\n",
       "      <td>M</td>\n",
       "      <td>4579950</td>\n",
       "      <td>0.012534</td>\n",
       "    </tr>\n",
       "    <tr>\n",
       "      <th>4</th>\n",
       "      <td>William</td>\n",
       "      <td>M</td>\n",
       "      <td>4226608</td>\n",
       "      <td>0.011567</td>\n",
       "    </tr>\n",
       "  </tbody>\n",
       "</table>\n",
       "</div>"
      ],
      "text/plain": [
       "      Name Gender    Count  Probability\n",
       "0    James      M  5304407     0.014517\n",
       "1     John      M  5260831     0.014398\n",
       "2   Robert      M  4970386     0.013603\n",
       "3  Michael      M  4579950     0.012534\n",
       "4  William      M  4226608     0.011567"
      ]
     },
     "execution_count": 2,
     "metadata": {},
     "output_type": "execute_result"
    }
   ],
   "source": [
    "df = pd.read_csv('/kaggle/input/gender-by-name/name_gender_dataset.csv')\n",
    "df.head()"
   ]
  },
  {
   "cell_type": "markdown",
   "id": "2be94cea",
   "metadata": {
    "papermill": {
     "duration": 0.00442,
     "end_time": "2024-02-12T13:54:57.489820",
     "exception": false,
     "start_time": "2024-02-12T13:54:57.485400",
     "status": "completed"
    },
    "tags": []
   },
   "source": [
    "# EDA - Exploratory Data Analysis"
   ]
  },
  {
   "cell_type": "markdown",
   "id": "359c92a1",
   "metadata": {
    "papermill": {
     "duration": 0.004339,
     "end_time": "2024-02-12T13:54:57.498708",
     "exception": false,
     "start_time": "2024-02-12T13:54:57.494369",
     "status": "completed"
    },
    "tags": []
   },
   "source": [
    "1. Summary statistics"
   ]
  },
  {
   "cell_type": "code",
   "execution_count": 3,
   "id": "d54467f9",
   "metadata": {
    "execution": {
     "iopub.execute_input": "2024-02-12T13:54:57.510201Z",
     "iopub.status.busy": "2024-02-12T13:54:57.509508Z",
     "iopub.status.idle": "2024-02-12T13:54:57.559028Z",
     "shell.execute_reply": "2024-02-12T13:54:57.557766Z"
    },
    "papermill": {
     "duration": 0.057827,
     "end_time": "2024-02-12T13:54:57.561506",
     "exception": false,
     "start_time": "2024-02-12T13:54:57.503679",
     "status": "completed"
    },
    "tags": []
   },
   "outputs": [
    {
     "data": {
      "text/html": [
       "<div>\n",
       "<style scoped>\n",
       "    .dataframe tbody tr th:only-of-type {\n",
       "        vertical-align: middle;\n",
       "    }\n",
       "\n",
       "    .dataframe tbody tr th {\n",
       "        vertical-align: top;\n",
       "    }\n",
       "\n",
       "    .dataframe thead th {\n",
       "        text-align: right;\n",
       "    }\n",
       "</style>\n",
       "<table border=\"1\" class=\"dataframe\">\n",
       "  <thead>\n",
       "    <tr style=\"text-align: right;\">\n",
       "      <th></th>\n",
       "      <th>Count</th>\n",
       "      <th>Probability</th>\n",
       "    </tr>\n",
       "  </thead>\n",
       "  <tbody>\n",
       "    <tr>\n",
       "      <th>count</th>\n",
       "      <td>1.472690e+05</td>\n",
       "      <td>1.472690e+05</td>\n",
       "    </tr>\n",
       "    <tr>\n",
       "      <th>mean</th>\n",
       "      <td>2.481161e+03</td>\n",
       "      <td>6.790295e-06</td>\n",
       "    </tr>\n",
       "    <tr>\n",
       "      <th>std</th>\n",
       "      <td>4.645472e+04</td>\n",
       "      <td>1.271345e-04</td>\n",
       "    </tr>\n",
       "    <tr>\n",
       "      <th>min</th>\n",
       "      <td>1.000000e+00</td>\n",
       "      <td>2.736740e-09</td>\n",
       "    </tr>\n",
       "    <tr>\n",
       "      <th>25%</th>\n",
       "      <td>5.000000e+00</td>\n",
       "      <td>1.368370e-08</td>\n",
       "    </tr>\n",
       "    <tr>\n",
       "      <th>50%</th>\n",
       "      <td>1.700000e+01</td>\n",
       "      <td>4.652460e-08</td>\n",
       "    </tr>\n",
       "    <tr>\n",
       "      <th>75%</th>\n",
       "      <td>1.320000e+02</td>\n",
       "      <td>3.612500e-07</td>\n",
       "    </tr>\n",
       "    <tr>\n",
       "      <th>max</th>\n",
       "      <td>5.304407e+06</td>\n",
       "      <td>1.451679e-02</td>\n",
       "    </tr>\n",
       "  </tbody>\n",
       "</table>\n",
       "</div>"
      ],
      "text/plain": [
       "              Count   Probability\n",
       "count  1.472690e+05  1.472690e+05\n",
       "mean   2.481161e+03  6.790295e-06\n",
       "std    4.645472e+04  1.271345e-04\n",
       "min    1.000000e+00  2.736740e-09\n",
       "25%    5.000000e+00  1.368370e-08\n",
       "50%    1.700000e+01  4.652460e-08\n",
       "75%    1.320000e+02  3.612500e-07\n",
       "max    5.304407e+06  1.451679e-02"
      ]
     },
     "execution_count": 3,
     "metadata": {},
     "output_type": "execute_result"
    }
   ],
   "source": [
    "df.describe()"
   ]
  },
  {
   "cell_type": "code",
   "execution_count": 4,
   "id": "3a95e8bb",
   "metadata": {
    "execution": {
     "iopub.execute_input": "2024-02-12T13:54:57.572138Z",
     "iopub.status.busy": "2024-02-12T13:54:57.571762Z",
     "iopub.status.idle": "2024-02-12T13:54:57.613610Z",
     "shell.execute_reply": "2024-02-12T13:54:57.611930Z"
    },
    "papermill": {
     "duration": 0.050255,
     "end_time": "2024-02-12T13:54:57.616331",
     "exception": false,
     "start_time": "2024-02-12T13:54:57.566076",
     "status": "completed"
    },
    "tags": []
   },
   "outputs": [
    {
     "name": "stdout",
     "output_type": "stream",
     "text": [
      "<class 'pandas.core.frame.DataFrame'>\n",
      "RangeIndex: 147269 entries, 0 to 147268\n",
      "Data columns (total 4 columns):\n",
      " #   Column       Non-Null Count   Dtype  \n",
      "---  ------       --------------   -----  \n",
      " 0   Name         147269 non-null  object \n",
      " 1   Gender       147269 non-null  object \n",
      " 2   Count        147269 non-null  int64  \n",
      " 3   Probability  147269 non-null  float64\n",
      "dtypes: float64(1), int64(1), object(2)\n",
      "memory usage: 4.5+ MB\n"
     ]
    }
   ],
   "source": [
    "df.info()"
   ]
  },
  {
   "cell_type": "code",
   "execution_count": 5,
   "id": "613eb00a",
   "metadata": {
    "execution": {
     "iopub.execute_input": "2024-02-12T13:54:57.627275Z",
     "iopub.status.busy": "2024-02-12T13:54:57.626567Z",
     "iopub.status.idle": "2024-02-12T13:54:57.633445Z",
     "shell.execute_reply": "2024-02-12T13:54:57.632407Z"
    },
    "papermill": {
     "duration": 0.014661,
     "end_time": "2024-02-12T13:54:57.635544",
     "exception": false,
     "start_time": "2024-02-12T13:54:57.620883",
     "status": "completed"
    },
    "tags": []
   },
   "outputs": [
    {
     "data": {
      "text/plain": [
       "(147269, 4)"
      ]
     },
     "execution_count": 5,
     "metadata": {},
     "output_type": "execute_result"
    }
   ],
   "source": [
    "df.shape"
   ]
  },
  {
   "cell_type": "markdown",
   "id": "93e9e545",
   "metadata": {
    "papermill": {
     "duration": 0.004779,
     "end_time": "2024-02-12T13:54:57.645190",
     "exception": false,
     "start_time": "2024-02-12T13:54:57.640411",
     "status": "completed"
    },
    "tags": []
   },
   "source": [
    "Checking missing values:"
   ]
  },
  {
   "cell_type": "code",
   "execution_count": 6,
   "id": "8cf369f7",
   "metadata": {
    "execution": {
     "iopub.execute_input": "2024-02-12T13:54:57.658272Z",
     "iopub.status.busy": "2024-02-12T13:54:57.656641Z",
     "iopub.status.idle": "2024-02-12T13:54:57.684330Z",
     "shell.execute_reply": "2024-02-12T13:54:57.683079Z"
    },
    "papermill": {
     "duration": 0.037114,
     "end_time": "2024-02-12T13:54:57.687082",
     "exception": false,
     "start_time": "2024-02-12T13:54:57.649968",
     "status": "completed"
    },
    "tags": []
   },
   "outputs": [
    {
     "data": {
      "text/plain": [
       "Name           0\n",
       "Gender         0\n",
       "Count          0\n",
       "Probability    0\n",
       "dtype: int64"
      ]
     },
     "execution_count": 6,
     "metadata": {},
     "output_type": "execute_result"
    }
   ],
   "source": [
    "df.isnull().sum()"
   ]
  },
  {
   "cell_type": "markdown",
   "id": "31f43812",
   "metadata": {
    "papermill": {
     "duration": 0.004874,
     "end_time": "2024-02-12T13:54:57.697229",
     "exception": false,
     "start_time": "2024-02-12T13:54:57.692355",
     "status": "completed"
    },
    "tags": []
   },
   "source": [
    "We don't have any missing values. That's really good!"
   ]
  },
  {
   "cell_type": "markdown",
   "id": "9e09a16e",
   "metadata": {
    "papermill": {
     "duration": 0.005506,
     "end_time": "2024-02-12T13:54:57.708444",
     "exception": false,
     "start_time": "2024-02-12T13:54:57.702938",
     "status": "completed"
    },
    "tags": []
   },
   "source": [
    "2. Gender Distribution\n",
    "\n",
    "Plot a bar chart and pie chart to visualize the distribution of genders ('M' and 'F') in the dataset."
   ]
  },
  {
   "cell_type": "code",
   "execution_count": 7,
   "id": "ae458429",
   "metadata": {
    "execution": {
     "iopub.execute_input": "2024-02-12T13:54:57.722921Z",
     "iopub.status.busy": "2024-02-12T13:54:57.721272Z",
     "iopub.status.idle": "2024-02-12T13:54:57.988951Z",
     "shell.execute_reply": "2024-02-12T13:54:57.987274Z"
    },
    "papermill": {
     "duration": 0.278051,
     "end_time": "2024-02-12T13:54:57.991940",
     "exception": false,
     "start_time": "2024-02-12T13:54:57.713889",
     "status": "completed"
    },
    "tags": []
   },
   "outputs": [
    {
     "data": {
      "image/png": "[encoded data removed]",
      "text/plain": [
       "<Figure size 1200x600 with 1 Axes>"
      ]
     },
     "metadata": {},
     "output_type": "display_data"
    }
   ],
   "source": [
    "sns.set(style = 'whitegrid')\n",
    "\n",
    "num_gender = df[\"Gender\"].value_counts()\n",
    "\n",
    "plt.figure(figsize=(12,6))\n",
    "sns.barplot(x = num_gender.index, y = num_gender.values)\n",
    "plt.title('Gender Distribution')\n",
    "plt.show()"
   ]
  },
  {
   "cell_type": "markdown",
   "id": "073548ae",
   "metadata": {
    "papermill": {
     "duration": 0.007538,
     "end_time": "2024-02-12T13:54:58.005323",
     "exception": false,
     "start_time": "2024-02-12T13:54:57.997785",
     "status": "completed"
    },
    "tags": []
   },
   "source": [
    "3. Correlation analysis"
   ]
  },
  {
   "cell_type": "code",
   "execution_count": null,
   "id": "3d10409d",
   "metadata": {
    "papermill": {
     "duration": 0.006663,
     "end_time": "2024-02-12T13:54:58.018255",
     "exception": false,
     "start_time": "2024-02-12T13:54:58.011592",
     "status": "completed"
    },
    "tags": []
   },
   "outputs": [],
   "source": []
  }
 ],
 "metadata": {
  "kaggle": {
   "accelerator": "none",
   "dataSources": [
    {
     "datasetId": 4390841,
     "sourceId": 7540388,
     "sourceType": "datasetVersion"
    }
   ],
   "dockerImageVersionId": 30646,
   "isGpuEnabled": false,
   "isInternetEnabled": true,
   "language": "python",
   "sourceType": "notebook"
  },
  "kernelspec": {
   "display_name": "Python 3",
   "language": "python",
   "name": "python3"
  },
  "language_info": {
   "codemirror_mode": {
    "name": "ipython",
    "version": 3
   },
   "file_extension": ".py",
   "mimetype": "text/x-python",
   "name": "python",
   "nbconvert_exporter": "python",
   "pygments_lexer": "ipython3",
   "version": "3.10.13"
  },
  "papermill": {
   "default_parameters": {},
   "duration": 10.272629,
   "end_time": "2024-02-12T13:55:00.797434",
   "environment_variables": {},
   "exception": null,
   "input_path": "__notebook__.ipynb",
   "output_path": "__notebook__.ipynb",
   "parameters": {},
   "start_time": "2024-02-12T13:54:50.524805",
   "version": "2.5.0"
  }
 },
 "nbformat": 4,
 "nbformat_minor": 5
}
