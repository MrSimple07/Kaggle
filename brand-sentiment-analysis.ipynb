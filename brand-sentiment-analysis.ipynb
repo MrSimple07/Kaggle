{
 "cells": [
  {
   "cell_type": "code",
   "execution_count": 1,
   "id": "c584fe6a",
   "metadata": {
    "_cell_guid": "b1076dfc-b9ad-4769-8c92-a6c4dae69d19",
    "_uuid": "8f2839f25d086af736a60e9eeb907d3b93b6e0e5",
    "execution": {
     "iopub.execute_input": "2024-04-23T07:50:55.983148Z",
     "iopub.status.busy": "2024-04-23T07:50:55.982103Z",
     "iopub.status.idle": "2024-04-23T07:50:57.078193Z",
     "shell.execute_reply": "2024-04-23T07:50:57.076681Z"
    },
    "papermill": {
     "duration": 1.109101,
     "end_time": "2024-04-23T07:50:57.080846",
     "exception": false,
     "start_time": "2024-04-23T07:50:55.971745",
     "status": "completed"
    },
    "tags": []
   },
   "outputs": [
    {
     "name": "stdout",
     "output_type": "stream",
     "text": [
      "/kaggle/input/brand-sentiment-analysis-dataset/Dataset - Train.csv\n",
      "/kaggle/input/brand-sentiment-analysis-dataset/Dataset - Test.csv\n",
      "/kaggle/input/brand-sentiment-analysis-dataset/Dataset Card.csv\n"
     ]
    }
   ],
   "source": [
    "# This Python 3 environment comes with many helpful analytics libraries installed\n",
    "# It is defined by the kaggle/python Docker image: https://github.com/kaggle/docker-python\n",
    "# For example, here's several helpful packages to load\n",
    "\n",
    "import numpy as np # linear algebra\n",
    "import pandas as pd # data processing, CSV file I/O (e.g. pd.read_csv)\n",
    "\n",
    "# Input data files are available in the read-only \"../input/\" directory\n",
    "# For example, running this (by clicking run or pressing Shift+Enter) will list all files under the input directory\n",
    "\n",
    "import os\n",
    "for dirname, _, filenames in os.walk('/kaggle/input'):\n",
    "    for filename in filenames:\n",
    "        print(os.path.join(dirname, filename))\n",
    "\n",
    "# You can write up to 20GB to the current directory (/kaggle/working/) that gets preserved as output when you create a version using \"Save & Run All\" \n",
    "# You can also write temporary files to /kaggle/temp/, but they won't be saved outside of the current session"
   ]
  },
  {
   "cell_type": "code",
   "execution_count": 2,
   "id": "7d7bf290",
   "metadata": {
    "execution": {
     "iopub.execute_input": "2024-04-23T07:50:57.100068Z",
     "iopub.status.busy": "2024-04-23T07:50:57.099498Z",
     "iopub.status.idle": "2024-04-23T07:50:57.184953Z",
     "shell.execute_reply": "2024-04-23T07:50:57.183647Z"
    },
    "papermill": {
     "duration": 0.098386,
     "end_time": "2024-04-23T07:50:57.187930",
     "exception": false,
     "start_time": "2024-04-23T07:50:57.089544",
     "status": "completed"
    },
    "tags": []
   },
   "outputs": [
    {
     "data": {
      "text/html": [
       "<div>\n",
       "<style scoped>\n",
       "    .dataframe tbody tr th:only-of-type {\n",
       "        vertical-align: middle;\n",
       "    }\n",
       "\n",
       "    .dataframe tbody tr th {\n",
       "        vertical-align: top;\n",
       "    }\n",
       "\n",
       "    .dataframe thead th {\n",
       "        text-align: right;\n",
       "    }\n",
       "</style>\n",
       "<table border=\"1\" class=\"dataframe\">\n",
       "  <thead>\n",
       "    <tr style=\"text-align: right;\">\n",
       "      <th></th>\n",
       "      <th>tweet_text</th>\n",
       "      <th>emotion_in_tweet_is_directed_at</th>\n",
       "      <th>is_there_an_emotion_directed_at_a_brand_or_product</th>\n",
       "    </tr>\n",
       "  </thead>\n",
       "  <tbody>\n",
       "    <tr>\n",
       "      <th>0</th>\n",
       "      <td>.@wesley83 I have a 3G iPhone. After 3 hrs twe...</td>\n",
       "      <td>iPhone</td>\n",
       "      <td>Negative emotion</td>\n",
       "    </tr>\n",
       "    <tr>\n",
       "      <th>1</th>\n",
       "      <td>@jessedee Know about @fludapp ? Awesome iPad/i...</td>\n",
       "      <td>iPad or iPhone App</td>\n",
       "      <td>Positive emotion</td>\n",
       "    </tr>\n",
       "    <tr>\n",
       "      <th>2</th>\n",
       "      <td>@swonderlin Can not wait for #iPad 2 also. The...</td>\n",
       "      <td>iPad</td>\n",
       "      <td>Positive emotion</td>\n",
       "    </tr>\n",
       "    <tr>\n",
       "      <th>3</th>\n",
       "      <td>@sxsw I hope this year's festival isn't as cra...</td>\n",
       "      <td>iPad or iPhone App</td>\n",
       "      <td>Negative emotion</td>\n",
       "    </tr>\n",
       "    <tr>\n",
       "      <th>4</th>\n",
       "      <td>@sxtxstate great stuff on Fri #SXSW: Marissa M...</td>\n",
       "      <td>Google</td>\n",
       "      <td>Positive emotion</td>\n",
       "    </tr>\n",
       "  </tbody>\n",
       "</table>\n",
       "</div>"
      ],
      "text/plain": [
       "                                          tweet_text  \\\n",
       "0  .@wesley83 I have a 3G iPhone. After 3 hrs twe...   \n",
       "1  @jessedee Know about @fludapp ? Awesome iPad/i...   \n",
       "2  @swonderlin Can not wait for #iPad 2 also. The...   \n",
       "3  @sxsw I hope this year's festival isn't as cra...   \n",
       "4  @sxtxstate great stuff on Fri #SXSW: Marissa M...   \n",
       "\n",
       "  emotion_in_tweet_is_directed_at  \\\n",
       "0                          iPhone   \n",
       "1              iPad or iPhone App   \n",
       "2                            iPad   \n",
       "3              iPad or iPhone App   \n",
       "4                          Google   \n",
       "\n",
       "  is_there_an_emotion_directed_at_a_brand_or_product  \n",
       "0                                   Negative emotion  \n",
       "1                                   Positive emotion  \n",
       "2                                   Positive emotion  \n",
       "3                                   Negative emotion  \n",
       "4                                   Positive emotion  "
      ]
     },
     "execution_count": 2,
     "metadata": {},
     "output_type": "execute_result"
    }
   ],
   "source": [
    "import pandas as pd\n",
    "\n",
    "df_train = pd.read_csv('/kaggle/input/brand-sentiment-analysis-dataset/Dataset - Train.csv')\n",
    "df_test = pd.read_csv('/kaggle/input/brand-sentiment-analysis-dataset/Dataset - Test.csv')\n",
    "\n",
    "df_train.head()"
   ]
  },
  {
   "cell_type": "code",
   "execution_count": 3,
   "id": "1eb56a22",
   "metadata": {
    "execution": {
     "iopub.execute_input": "2024-04-23T07:50:57.216651Z",
     "iopub.status.busy": "2024-04-23T07:50:57.215407Z",
     "iopub.status.idle": "2024-04-23T07:50:57.229333Z",
     "shell.execute_reply": "2024-04-23T07:50:57.228511Z"
    },
    "papermill": {
     "duration": 0.030884,
     "end_time": "2024-04-23T07:50:57.231838",
     "exception": false,
     "start_time": "2024-04-23T07:50:57.200954",
     "status": "completed"
    },
    "tags": []
   },
   "outputs": [
    {
     "data": {
      "text/html": [
       "<div>\n",
       "<style scoped>\n",
       "    .dataframe tbody tr th:only-of-type {\n",
       "        vertical-align: middle;\n",
       "    }\n",
       "\n",
       "    .dataframe tbody tr th {\n",
       "        vertical-align: top;\n",
       "    }\n",
       "\n",
       "    .dataframe thead th {\n",
       "        text-align: right;\n",
       "    }\n",
       "</style>\n",
       "<table border=\"1\" class=\"dataframe\">\n",
       "  <thead>\n",
       "    <tr style=\"text-align: right;\">\n",
       "      <th></th>\n",
       "      <th>Tweet</th>\n",
       "    </tr>\n",
       "  </thead>\n",
       "  <tbody>\n",
       "    <tr>\n",
       "      <th>0</th>\n",
       "      <td>Hand-Held ���Hobo�۪: Drafthouse launches ���Ho...</td>\n",
       "    </tr>\n",
       "    <tr>\n",
       "      <th>1</th>\n",
       "      <td>Again? RT @mention Line at the Apple store is ...</td>\n",
       "    </tr>\n",
       "    <tr>\n",
       "      <th>2</th>\n",
       "      <td>Boooo! RT @mention Flipboard is developing an ...</td>\n",
       "    </tr>\n",
       "    <tr>\n",
       "      <th>3</th>\n",
       "      <td>Thanks to @mention for publishing the news of ...</td>\n",
       "    </tr>\n",
       "    <tr>\n",
       "      <th>4</th>\n",
       "      <td>���@mention &amp;quot;Apple has opened a pop-up st...</td>\n",
       "    </tr>\n",
       "    <tr>\n",
       "      <th>...</th>\n",
       "      <td>...</td>\n",
       "    </tr>\n",
       "    <tr>\n",
       "      <th>499</th>\n",
       "      <td>Hey is anyone doing #sxsw signing up for the g...</td>\n",
       "    </tr>\n",
       "    <tr>\n",
       "      <th>500</th>\n",
       "      <td>@mention you can buy my used iPad and I'll pic...</td>\n",
       "    </tr>\n",
       "    <tr>\n",
       "      <th>501</th>\n",
       "      <td>@mention You could buy a new iPad 2 tmrw at th...</td>\n",
       "    </tr>\n",
       "    <tr>\n",
       "      <th>502</th>\n",
       "      <td>Guys, if you ever plan on attending #SXSW, you...</td>\n",
       "    </tr>\n",
       "    <tr>\n",
       "      <th>503</th>\n",
       "      <td>&amp;quot;Do you know what Apple is really good at...</td>\n",
       "    </tr>\n",
       "  </tbody>\n",
       "</table>\n",
       "<p>504 rows × 1 columns</p>\n",
       "</div>"
      ],
      "text/plain": [
       "                                                 Tweet\n",
       "0    Hand-Held ���Hobo�۪: Drafthouse launches ���Ho...\n",
       "1    Again? RT @mention Line at the Apple store is ...\n",
       "2    Boooo! RT @mention Flipboard is developing an ...\n",
       "3    Thanks to @mention for publishing the news of ...\n",
       "4    ���@mention &quot;Apple has opened a pop-up st...\n",
       "..                                                 ...\n",
       "499  Hey is anyone doing #sxsw signing up for the g...\n",
       "500  @mention you can buy my used iPad and I'll pic...\n",
       "501  @mention You could buy a new iPad 2 tmrw at th...\n",
       "502  Guys, if you ever plan on attending #SXSW, you...\n",
       "503  &quot;Do you know what Apple is really good at...\n",
       "\n",
       "[504 rows x 1 columns]"
      ]
     },
     "execution_count": 3,
     "metadata": {},
     "output_type": "execute_result"
    }
   ],
   "source": [
    "df_test"
   ]
  },
  {
   "cell_type": "markdown",
   "id": "317b51c0",
   "metadata": {
    "papermill": {
     "duration": 0.010862,
     "end_time": "2024-04-23T07:50:57.252462",
     "exception": false,
     "start_time": "2024-04-23T07:50:57.241600",
     "status": "completed"
    },
    "tags": []
   },
   "source": [
    "And now, we start analyse the test data. First, we have to check missing values"
   ]
  },
  {
   "cell_type": "code",
   "execution_count": 4,
   "id": "eeff65f6",
   "metadata": {
    "execution": {
     "iopub.execute_input": "2024-04-23T07:50:57.272720Z",
     "iopub.status.busy": "2024-04-23T07:50:57.271661Z",
     "iopub.status.idle": "2024-04-23T07:50:57.282754Z",
     "shell.execute_reply": "2024-04-23T07:50:57.281286Z"
    },
    "papermill": {
     "duration": 0.024073,
     "end_time": "2024-04-23T07:50:57.285483",
     "exception": false,
     "start_time": "2024-04-23T07:50:57.261410",
     "status": "completed"
    },
    "tags": []
   },
   "outputs": [
    {
     "data": {
      "text/plain": [
       "Tweet    0\n",
       "dtype: int64"
      ]
     },
     "execution_count": 4,
     "metadata": {},
     "output_type": "execute_result"
    }
   ],
   "source": [
    "df_test.isna().sum()"
   ]
  },
  {
   "cell_type": "markdown",
   "id": "9651b5c8",
   "metadata": {
    "papermill": {
     "duration": 0.009557,
     "end_time": "2024-04-23T07:50:57.306484",
     "exception": false,
     "start_time": "2024-04-23T07:50:57.296927",
     "status": "completed"
    },
    "tags": []
   },
   "source": [
    "There is no missing values. It is good to know. And now we have to check the 'tweet_text' column is properly formatted"
   ]
  },
  {
   "cell_type": "code",
   "execution_count": 5,
   "id": "60ea4a53",
   "metadata": {
    "execution": {
     "iopub.execute_input": "2024-04-23T07:50:57.333299Z",
     "iopub.status.busy": "2024-04-23T07:50:57.332436Z",
     "iopub.status.idle": "2024-04-23T07:50:57.375879Z",
     "shell.execute_reply": "2024-04-23T07:50:57.374663Z"
    },
    "papermill": {
     "duration": 0.058723,
     "end_time": "2024-04-23T07:50:57.378330",
     "exception": false,
     "start_time": "2024-04-23T07:50:57.319607",
     "status": "completed"
    },
    "tags": []
   },
   "outputs": [
    {
     "data": {
      "text/html": [
       "<div>\n",
       "<style scoped>\n",
       "    .dataframe tbody tr th:only-of-type {\n",
       "        vertical-align: middle;\n",
       "    }\n",
       "\n",
       "    .dataframe tbody tr th {\n",
       "        vertical-align: top;\n",
       "    }\n",
       "\n",
       "    .dataframe thead th {\n",
       "        text-align: right;\n",
       "    }\n",
       "</style>\n",
       "<table border=\"1\" class=\"dataframe\">\n",
       "  <thead>\n",
       "    <tr style=\"text-align: right;\">\n",
       "      <th></th>\n",
       "      <th>Tweet</th>\n",
       "      <th>Tokens</th>\n",
       "    </tr>\n",
       "  </thead>\n",
       "  <tbody>\n",
       "    <tr>\n",
       "      <th>0</th>\n",
       "      <td>hand-held ���hobo�۪: drafthouse launches ���ho...</td>\n",
       "      <td>[hand, held, hobo, drafthouse, launches, hobo,...</td>\n",
       "    </tr>\n",
       "    <tr>\n",
       "      <th>1</th>\n",
       "      <td>again? rt  line at the apple store is insane.....</td>\n",
       "      <td>[again, rt, line, at, the, apple, store, is, i...</td>\n",
       "    </tr>\n",
       "    <tr>\n",
       "      <th>2</th>\n",
       "      <td>boooo! rt  flipboard is developing an iphone v...</td>\n",
       "      <td>[boooo, rt, flipboard, is, developing, an, iph...</td>\n",
       "    </tr>\n",
       "    <tr>\n",
       "      <th>3</th>\n",
       "      <td>thanks to  for publishing the news of  new med...</td>\n",
       "      <td>[thanks, to, for, publishing, the, news, of, n...</td>\n",
       "    </tr>\n",
       "    <tr>\n",
       "      <th>4</th>\n",
       "      <td>��� &amp;quot;apple has opened a pop-up store in a...</td>\n",
       "      <td>[quot, apple, has, opened, a, pop, up, store, ...</td>\n",
       "    </tr>\n",
       "  </tbody>\n",
       "</table>\n",
       "</div>"
      ],
      "text/plain": [
       "                                               Tweet  \\\n",
       "0  hand-held ���hobo�۪: drafthouse launches ���ho...   \n",
       "1  again? rt  line at the apple store is insane.....   \n",
       "2  boooo! rt  flipboard is developing an iphone v...   \n",
       "3  thanks to  for publishing the news of  new med...   \n",
       "4  ��� &quot;apple has opened a pop-up store in a...   \n",
       "\n",
       "                                              Tokens  \n",
       "0  [hand, held, hobo, drafthouse, launches, hobo,...  \n",
       "1  [again, rt, line, at, the, apple, store, is, i...  \n",
       "2  [boooo, rt, flipboard, is, developing, an, iph...  \n",
       "3  [thanks, to, for, publishing, the, news, of, n...  \n",
       "4  [quot, apple, has, opened, a, pop, up, store, ...  "
      ]
     },
     "execution_count": 5,
     "metadata": {},
     "output_type": "execute_result"
    }
   ],
   "source": [
    "import pandas as pd\n",
    "\n",
    "df_test = pd.read_csv('/kaggle/input/brand-sentiment-analysis-dataset/Dataset - Test.csv')\n",
    "import re\n",
    "\n",
    "\n",
    "df_test['Tweet'] =df_test['Tweet'].str.lower()\n",
    "df_test['Tweet'] = df_test['Tweet'].apply(lambda x: re.sub(r'http\\S+|www\\S+|https\\S+|\\@\\w+|\\#', '', x, flags=re.MULTILINE))\n",
    "df_test['Tokens'] = df_test['Tweet'].apply(lambda x: re.findall(r'\\b\\w+\\b', x))\n",
    "\n",
    "df_test.head()\n",
    " "
   ]
  },
  {
   "cell_type": "markdown",
   "id": "e5827ad2",
   "metadata": {
    "papermill": {
     "duration": 0.009135,
     "end_time": "2024-04-23T07:50:57.397318",
     "exception": false,
     "start_time": "2024-04-23T07:50:57.388183",
     "status": "completed"
    },
    "tags": []
   },
   "source": [
    "And now we are going to find the most common words"
   ]
  },
  {
   "cell_type": "code",
   "execution_count": 6,
   "id": "19b76036",
   "metadata": {
    "execution": {
     "iopub.execute_input": "2024-04-23T07:50:57.418486Z",
     "iopub.status.busy": "2024-04-23T07:50:57.417732Z",
     "iopub.status.idle": "2024-04-23T07:51:00.004328Z",
     "shell.execute_reply": "2024-04-23T07:51:00.002989Z"
    },
    "papermill": {
     "duration": 2.60029,
     "end_time": "2024-04-23T07:51:00.007093",
     "exception": false,
     "start_time": "2024-04-23T07:50:57.406803",
     "status": "completed"
    },
    "tags": []
   },
   "outputs": [
    {
     "name": "stdout",
     "output_type": "stream",
     "text": [
      "Top 10 most frequent words:\n",
      "[('sxsw', 514), ('link', 192), ('google', 165), ('rt', 150), ('ipad', 134), ('apple', 109), ('quot', 105), ('iphone', 102), ('store', 69), ('new', 54)]\n"
     ]
    }
   ],
   "source": [
    "import pandas as pd\n",
    "from nltk.tokenize import word_tokenize\n",
    "from nltk.corpus import stopwords\n",
    "from nltk.probability import FreqDist\n",
    "import string\n",
    "\n",
    "df_test['Tokens'] = df_test['Tweet'].apply(word_tokenize)\n",
    "\n",
    "stop_words = set(stopwords.words('english'))\n",
    "df_test['Tokens'] = df_test['Tokens'].apply(lambda x: [word for word in x if word.isalnum() and word not in stop_words])\n",
    "\n",
    "all_tokens = [token for sublist in df_test['Tokens'] for token in sublist]\n",
    "\n",
    "freq_dist = FreqDist(all_tokens)\n",
    "\n",
    "# Display the most common words\n",
    "print(\"Top 10 most frequent words:\")\n",
    "print(freq_dist.most_common(10))\n"
   ]
  },
  {
   "cell_type": "code",
   "execution_count": 7,
   "id": "29494144",
   "metadata": {
    "execution": {
     "iopub.execute_input": "2024-04-23T07:51:00.028605Z",
     "iopub.status.busy": "2024-04-23T07:51:00.028174Z",
     "iopub.status.idle": "2024-04-23T07:51:00.060738Z",
     "shell.execute_reply": "2024-04-23T07:51:00.059666Z"
    },
    "papermill": {
     "duration": 0.046913,
     "end_time": "2024-04-23T07:51:00.063745",
     "exception": false,
     "start_time": "2024-04-23T07:51:00.016832",
     "status": "completed"
    },
    "tags": []
   },
   "outputs": [
    {
     "data": {
      "text/plain": [
       "count                                                 504\n",
       "unique                                                504\n",
       "top       [drafthouse, launches, iphone, app, sxsw, link]\n",
       "freq                                                    1\n",
       "Name: Tokens, dtype: object"
      ]
     },
     "execution_count": 7,
     "metadata": {},
     "output_type": "execute_result"
    }
   ],
   "source": [
    "df_test['Tokens'].describe()"
   ]
  },
  {
   "cell_type": "markdown",
   "id": "4d335e56",
   "metadata": {
    "papermill": {
     "duration": 0.009249,
     "end_time": "2024-04-23T07:51:00.082810",
     "exception": false,
     "start_time": "2024-04-23T07:51:00.073561",
     "status": "completed"
    },
    "tags": []
   },
   "source": [
    "Let's now visualize Tweet lengths"
   ]
  },
  {
   "cell_type": "code",
   "execution_count": 8,
   "id": "641999ea",
   "metadata": {
    "execution": {
     "iopub.execute_input": "2024-04-23T07:51:00.104401Z",
     "iopub.status.busy": "2024-04-23T07:51:00.103706Z",
     "iopub.status.idle": "2024-04-23T07:51:00.113050Z",
     "shell.execute_reply": "2024-04-23T07:51:00.112161Z"
    },
    "papermill": {
     "duration": 0.023015,
     "end_time": "2024-04-23T07:51:00.115410",
     "exception": false,
     "start_time": "2024-04-23T07:51:00.092395",
     "status": "completed"
    },
    "tags": []
   },
   "outputs": [
    {
     "data": {
      "text/plain": [
       "0       6\n",
       "1       5\n",
       "2       9\n",
       "3      12\n",
       "4      13\n",
       "       ..\n",
       "499    13\n",
       "500     7\n",
       "501    10\n",
       "502    15\n",
       "503    16\n",
       "Name: Tweet_length, Length: 504, dtype: int64"
      ]
     },
     "execution_count": 8,
     "metadata": {},
     "output_type": "execute_result"
    }
   ],
   "source": [
    "df_test['Tweet_length'] = df_test['Tokens'].apply(len)\n",
    "df_test['Tweet_length']"
   ]
  },
  {
   "cell_type": "code",
   "execution_count": 9,
   "id": "f014e226",
   "metadata": {
    "execution": {
     "iopub.execute_input": "2024-04-23T07:51:00.137432Z",
     "iopub.status.busy": "2024-04-23T07:51:00.136744Z",
     "iopub.status.idle": "2024-04-23T07:51:00.837030Z",
     "shell.execute_reply": "2024-04-23T07:51:00.835846Z"
    },
    "papermill": {
     "duration": 0.714155,
     "end_time": "2024-04-23T07:51:00.839580",
     "exception": false,
     "start_time": "2024-04-23T07:51:00.125425",
     "status": "completed"
    },
    "tags": []
   },
   "outputs": [
    {
     "data": {
      "image/png": "[encoded data removed]",
      "text/plain": [
       "<Figure size 640x480 with 1 Axes>"
      ]
     },
     "metadata": {},
     "output_type": "display_data"
    }
   ],
   "source": [
    "import matplotlib.pyplot as plt\n",
    "import seaborn as sns\n",
    "\n",
    "plt.hist(df_test['Tweet_length'], bins = 30)\n",
    "plt.xlabel('Frequency')\n",
    "plt.ylabel('Length')\n",
    "plt.grid(True)\n",
    "plt.show()"
   ]
  },
  {
   "cell_type": "markdown",
   "id": "839d5391",
   "metadata": {
    "papermill": {
     "duration": 0.010072,
     "end_time": "2024-04-23T07:51:00.859992",
     "exception": false,
     "start_time": "2024-04-23T07:51:00.849920",
     "status": "completed"
    },
    "tags": []
   },
   "source": [
    "And now we are going to analyze the train dataset"
   ]
  },
  {
   "cell_type": "code",
   "execution_count": 10,
   "id": "6712142d",
   "metadata": {
    "execution": {
     "iopub.execute_input": "2024-04-23T07:51:00.882461Z",
     "iopub.status.busy": "2024-04-23T07:51:00.882028Z",
     "iopub.status.idle": "2024-04-23T07:51:00.924301Z",
     "shell.execute_reply": "2024-04-23T07:51:00.923197Z"
    },
    "papermill": {
     "duration": 0.056339,
     "end_time": "2024-04-23T07:51:00.926747",
     "exception": false,
     "start_time": "2024-04-23T07:51:00.870408",
     "status": "completed"
    },
    "tags": []
   },
   "outputs": [
    {
     "data": {
      "text/html": [
       "<div>\n",
       "<style scoped>\n",
       "    .dataframe tbody tr th:only-of-type {\n",
       "        vertical-align: middle;\n",
       "    }\n",
       "\n",
       "    .dataframe tbody tr th {\n",
       "        vertical-align: top;\n",
       "    }\n",
       "\n",
       "    .dataframe thead th {\n",
       "        text-align: right;\n",
       "    }\n",
       "</style>\n",
       "<table border=\"1\" class=\"dataframe\">\n",
       "  <thead>\n",
       "    <tr style=\"text-align: right;\">\n",
       "      <th></th>\n",
       "      <th>tweet_text</th>\n",
       "      <th>emotion_in_tweet_is_directed_at</th>\n",
       "      <th>is_there_an_emotion_directed_at_a_brand_or_product</th>\n",
       "    </tr>\n",
       "  </thead>\n",
       "  <tbody>\n",
       "    <tr>\n",
       "      <th>0</th>\n",
       "      <td>.@wesley83 I have a 3G iPhone. After 3 hrs twe...</td>\n",
       "      <td>iPhone</td>\n",
       "      <td>Negative emotion</td>\n",
       "    </tr>\n",
       "    <tr>\n",
       "      <th>1</th>\n",
       "      <td>@jessedee Know about @fludapp ? Awesome iPad/i...</td>\n",
       "      <td>iPad or iPhone App</td>\n",
       "      <td>Positive emotion</td>\n",
       "    </tr>\n",
       "    <tr>\n",
       "      <th>2</th>\n",
       "      <td>@swonderlin Can not wait for #iPad 2 also. The...</td>\n",
       "      <td>iPad</td>\n",
       "      <td>Positive emotion</td>\n",
       "    </tr>\n",
       "    <tr>\n",
       "      <th>3</th>\n",
       "      <td>@sxsw I hope this year's festival isn't as cra...</td>\n",
       "      <td>iPad or iPhone App</td>\n",
       "      <td>Negative emotion</td>\n",
       "    </tr>\n",
       "    <tr>\n",
       "      <th>4</th>\n",
       "      <td>@sxtxstate great stuff on Fri #SXSW: Marissa M...</td>\n",
       "      <td>Google</td>\n",
       "      <td>Positive emotion</td>\n",
       "    </tr>\n",
       "  </tbody>\n",
       "</table>\n",
       "</div>"
      ],
      "text/plain": [
       "                                          tweet_text  \\\n",
       "0  .@wesley83 I have a 3G iPhone. After 3 hrs twe...   \n",
       "1  @jessedee Know about @fludapp ? Awesome iPad/i...   \n",
       "2  @swonderlin Can not wait for #iPad 2 also. The...   \n",
       "3  @sxsw I hope this year's festival isn't as cra...   \n",
       "4  @sxtxstate great stuff on Fri #SXSW: Marissa M...   \n",
       "\n",
       "  emotion_in_tweet_is_directed_at  \\\n",
       "0                          iPhone   \n",
       "1              iPad or iPhone App   \n",
       "2                            iPad   \n",
       "3              iPad or iPhone App   \n",
       "4                          Google   \n",
       "\n",
       "  is_there_an_emotion_directed_at_a_brand_or_product  \n",
       "0                                   Negative emotion  \n",
       "1                                   Positive emotion  \n",
       "2                                   Positive emotion  \n",
       "3                                   Negative emotion  \n",
       "4                                   Positive emotion  "
      ]
     },
     "execution_count": 10,
     "metadata": {},
     "output_type": "execute_result"
    }
   ],
   "source": [
    "df_train = pd.read_csv('/kaggle/input/brand-sentiment-analysis-dataset/Dataset - Train.csv')\n",
    "df_train.head()"
   ]
  },
  {
   "cell_type": "markdown",
   "id": "fa3e4a4e",
   "metadata": {
    "papermill": {
     "duration": 0.01037,
     "end_time": "2024-04-23T07:51:00.947459",
     "exception": false,
     "start_time": "2024-04-23T07:51:00.937089",
     "status": "completed"
    },
    "tags": []
   },
   "source": [
    "We replace column names to make it easier to work with"
   ]
  },
  {
   "cell_type": "code",
   "execution_count": 11,
   "id": "e077d32c",
   "metadata": {
    "execution": {
     "iopub.execute_input": "2024-04-23T07:51:00.969968Z",
     "iopub.status.busy": "2024-04-23T07:51:00.969588Z",
     "iopub.status.idle": "2024-04-23T07:51:00.983170Z",
     "shell.execute_reply": "2024-04-23T07:51:00.982134Z"
    },
    "papermill": {
     "duration": 0.02785,
     "end_time": "2024-04-23T07:51:00.985544",
     "exception": false,
     "start_time": "2024-04-23T07:51:00.957694",
     "status": "completed"
    },
    "tags": []
   },
   "outputs": [
    {
     "data": {
      "text/html": [
       "<div>\n",
       "<style scoped>\n",
       "    .dataframe tbody tr th:only-of-type {\n",
       "        vertical-align: middle;\n",
       "    }\n",
       "\n",
       "    .dataframe tbody tr th {\n",
       "        vertical-align: top;\n",
       "    }\n",
       "\n",
       "    .dataframe thead th {\n",
       "        text-align: right;\n",
       "    }\n",
       "</style>\n",
       "<table border=\"1\" class=\"dataframe\">\n",
       "  <thead>\n",
       "    <tr style=\"text-align: right;\">\n",
       "      <th></th>\n",
       "      <th>tweet_text</th>\n",
       "      <th>product</th>\n",
       "      <th>emotion</th>\n",
       "    </tr>\n",
       "  </thead>\n",
       "  <tbody>\n",
       "    <tr>\n",
       "      <th>0</th>\n",
       "      <td>.@wesley83 I have a 3G iPhone. After 3 hrs twe...</td>\n",
       "      <td>iPhone</td>\n",
       "      <td>Negative emotion</td>\n",
       "    </tr>\n",
       "    <tr>\n",
       "      <th>1</th>\n",
       "      <td>@jessedee Know about @fludapp ? Awesome iPad/i...</td>\n",
       "      <td>iPad or iPhone App</td>\n",
       "      <td>Positive emotion</td>\n",
       "    </tr>\n",
       "    <tr>\n",
       "      <th>2</th>\n",
       "      <td>@swonderlin Can not wait for #iPad 2 also. The...</td>\n",
       "      <td>iPad</td>\n",
       "      <td>Positive emotion</td>\n",
       "    </tr>\n",
       "    <tr>\n",
       "      <th>3</th>\n",
       "      <td>@sxsw I hope this year's festival isn't as cra...</td>\n",
       "      <td>iPad or iPhone App</td>\n",
       "      <td>Negative emotion</td>\n",
       "    </tr>\n",
       "    <tr>\n",
       "      <th>4</th>\n",
       "      <td>@sxtxstate great stuff on Fri #SXSW: Marissa M...</td>\n",
       "      <td>Google</td>\n",
       "      <td>Positive emotion</td>\n",
       "    </tr>\n",
       "  </tbody>\n",
       "</table>\n",
       "</div>"
      ],
      "text/plain": [
       "                                          tweet_text             product  \\\n",
       "0  .@wesley83 I have a 3G iPhone. After 3 hrs twe...              iPhone   \n",
       "1  @jessedee Know about @fludapp ? Awesome iPad/i...  iPad or iPhone App   \n",
       "2  @swonderlin Can not wait for #iPad 2 also. The...                iPad   \n",
       "3  @sxsw I hope this year's festival isn't as cra...  iPad or iPhone App   \n",
       "4  @sxtxstate great stuff on Fri #SXSW: Marissa M...              Google   \n",
       "\n",
       "            emotion  \n",
       "0  Negative emotion  \n",
       "1  Positive emotion  \n",
       "2  Positive emotion  \n",
       "3  Negative emotion  \n",
       "4  Positive emotion  "
      ]
     },
     "execution_count": 11,
     "metadata": {},
     "output_type": "execute_result"
    }
   ],
   "source": [
    "df_train.columns =df_train.columns.str.replace('emotion_in_tweet_is_directed_at', 'product', regex = True)\n",
    "df_train.columns =df_train.columns.str.replace('is_there_an_emotion_directed_at_a_brand_or_product', 'emotion', regex = True)\n",
    "df_train.head()"
   ]
  },
  {
   "cell_type": "markdown",
   "id": "16fd032e",
   "metadata": {
    "papermill": {
     "duration": 0.010701,
     "end_time": "2024-04-23T07:51:01.007472",
     "exception": false,
     "start_time": "2024-04-23T07:51:00.996771",
     "status": "completed"
    },
    "tags": []
   },
   "source": [
    "Let's just check the number of iPhone tweets vc other tweets"
   ]
  },
  {
   "cell_type": "code",
   "execution_count": 12,
   "id": "5176b732",
   "metadata": {
    "execution": {
     "iopub.execute_input": "2024-04-23T07:51:01.030434Z",
     "iopub.status.busy": "2024-04-23T07:51:01.030013Z",
     "iopub.status.idle": "2024-04-23T07:51:01.038839Z",
     "shell.execute_reply": "2024-04-23T07:51:01.037964Z"
    },
    "papermill": {
     "duration": 0.023424,
     "end_time": "2024-04-23T07:51:01.041504",
     "exception": false,
     "start_time": "2024-04-23T07:51:01.018080",
     "status": "completed"
    },
    "tags": []
   },
   "outputs": [
    {
     "name": "stdout",
     "output_type": "stream",
     "text": [
      "8292\n"
     ]
    }
   ],
   "source": [
    "iphone_count = df_train['product'].eq('iPhone').sum()\n",
    "\n",
    "other_products = df_train['product'].ne('iPhone').sum()\n",
    "\n",
    "print(other_products)\n"
   ]
  },
  {
   "cell_type": "code",
   "execution_count": 13,
   "id": "ac537d06",
   "metadata": {
    "execution": {
     "iopub.execute_input": "2024-04-23T07:51:01.065940Z",
     "iopub.status.busy": "2024-04-23T07:51:01.065504Z",
     "iopub.status.idle": "2024-04-23T07:51:01.323132Z",
     "shell.execute_reply": "2024-04-23T07:51:01.322003Z"
    },
    "papermill": {
     "duration": 0.273648,
     "end_time": "2024-04-23T07:51:01.326064",
     "exception": false,
     "start_time": "2024-04-23T07:51:01.052416",
     "status": "completed"
    },
    "tags": []
   },
   "outputs": [
    {
     "data": {
      "image/png": "[encoded data removed]",
      "text/plain": [
       "<Figure size 640x480 with 1 Axes>"
      ]
     },
     "metadata": {},
     "output_type": "display_data"
    }
   ],
   "source": [
    "plot_df = pd.DataFrame({'products': ['iPhone', 'other_products'],\n",
    "                      'sum': [iphone_count, other_products]})\n",
    "\n",
    "sns.histplot(data = plot_df, x=  'products', weights = 'sum', bins =2)\n",
    "plt.show()"
   ]
  },
  {
   "cell_type": "code",
   "execution_count": 14,
   "id": "7c773c50",
   "metadata": {
    "execution": {
     "iopub.execute_input": "2024-04-23T07:51:01.351322Z",
     "iopub.status.busy": "2024-04-23T07:51:01.350598Z",
     "iopub.status.idle": "2024-04-23T07:51:01.363194Z",
     "shell.execute_reply": "2024-04-23T07:51:01.361984Z"
    },
    "papermill": {
     "duration": 0.028105,
     "end_time": "2024-04-23T07:51:01.365958",
     "exception": false,
     "start_time": "2024-04-23T07:51:01.337853",
     "status": "completed"
    },
    "tags": []
   },
   "outputs": [
    {
     "data": {
      "text/html": [
       "<div>\n",
       "<style scoped>\n",
       "    .dataframe tbody tr th:only-of-type {\n",
       "        vertical-align: middle;\n",
       "    }\n",
       "\n",
       "    .dataframe tbody tr th {\n",
       "        vertical-align: top;\n",
       "    }\n",
       "\n",
       "    .dataframe thead th {\n",
       "        text-align: right;\n",
       "    }\n",
       "</style>\n",
       "<table border=\"1\" class=\"dataframe\">\n",
       "  <thead>\n",
       "    <tr style=\"text-align: right;\">\n",
       "      <th></th>\n",
       "      <th>tweet_text</th>\n",
       "      <th>product</th>\n",
       "      <th>emotion</th>\n",
       "    </tr>\n",
       "  </thead>\n",
       "  <tbody>\n",
       "    <tr>\n",
       "      <th>0</th>\n",
       "      <td>.@wesley83 I have a 3G iPhone. After 3 hrs twe...</td>\n",
       "      <td>iPhone</td>\n",
       "      <td>Negative emotion</td>\n",
       "    </tr>\n",
       "    <tr>\n",
       "      <th>1</th>\n",
       "      <td>@jessedee Know about @fludapp ? Awesome iPad/i...</td>\n",
       "      <td>iPad or iPhone App</td>\n",
       "      <td>Positive emotion</td>\n",
       "    </tr>\n",
       "    <tr>\n",
       "      <th>2</th>\n",
       "      <td>@swonderlin Can not wait for #iPad 2 also. The...</td>\n",
       "      <td>iPad</td>\n",
       "      <td>Positive emotion</td>\n",
       "    </tr>\n",
       "    <tr>\n",
       "      <th>3</th>\n",
       "      <td>@sxsw I hope this year's festival isn't as cra...</td>\n",
       "      <td>iPad or iPhone App</td>\n",
       "      <td>Negative emotion</td>\n",
       "    </tr>\n",
       "    <tr>\n",
       "      <th>4</th>\n",
       "      <td>@sxtxstate great stuff on Fri #SXSW: Marissa M...</td>\n",
       "      <td>Google</td>\n",
       "      <td>Positive emotion</td>\n",
       "    </tr>\n",
       "  </tbody>\n",
       "</table>\n",
       "</div>"
      ],
      "text/plain": [
       "                                          tweet_text             product  \\\n",
       "0  .@wesley83 I have a 3G iPhone. After 3 hrs twe...              iPhone   \n",
       "1  @jessedee Know about @fludapp ? Awesome iPad/i...  iPad or iPhone App   \n",
       "2  @swonderlin Can not wait for #iPad 2 also. The...                iPad   \n",
       "3  @sxsw I hope this year's festival isn't as cra...  iPad or iPhone App   \n",
       "4  @sxtxstate great stuff on Fri #SXSW: Marissa M...              Google   \n",
       "\n",
       "            emotion  \n",
       "0  Negative emotion  \n",
       "1  Positive emotion  \n",
       "2  Positive emotion  \n",
       "3  Negative emotion  \n",
       "4  Positive emotion  "
      ]
     },
     "execution_count": 14,
     "metadata": {},
     "output_type": "execute_result"
    }
   ],
   "source": [
    "df_train.head()"
   ]
  },
  {
   "cell_type": "markdown",
   "id": "f8bbb6d8",
   "metadata": {
    "papermill": {
     "duration": 0.011275,
     "end_time": "2024-04-23T07:51:01.389222",
     "exception": false,
     "start_time": "2024-04-23T07:51:01.377947",
     "status": "completed"
    },
    "tags": []
   },
   "source": [
    "Sentiment analysis of the train data"
   ]
  },
  {
   "cell_type": "code",
   "execution_count": 15,
   "id": "9117feda",
   "metadata": {
    "execution": {
     "iopub.execute_input": "2024-04-23T07:51:01.414119Z",
     "iopub.status.busy": "2024-04-23T07:51:01.413698Z",
     "iopub.status.idle": "2024-04-23T07:51:04.294451Z",
     "shell.execute_reply": "2024-04-23T07:51:04.293228Z"
    },
    "papermill": {
     "duration": 2.896699,
     "end_time": "2024-04-23T07:51:04.297429",
     "exception": false,
     "start_time": "2024-04-23T07:51:01.400730",
     "status": "completed"
    },
    "tags": []
   },
   "outputs": [
    {
     "name": "stderr",
     "output_type": "stream",
     "text": [
      "/opt/conda/lib/python3.10/site-packages/nltk/twitter/__init__.py:20: UserWarning: The twython library has not been installed. Some functionality from the twitter package will not be available.\n",
      "  warnings.warn(\"The twython library has not been installed. \"\n"
     ]
    },
    {
     "name": "stdout",
     "output_type": "stream",
     "text": [
      "                                          tweet_text  sentiment_score  \\\n",
      "0  .@wesley83 i have a 3g iphone. after 3 hrs twe...          -0.6800   \n",
      "1  @jessedee know about @fludapp ? awesome ipad/i...           0.9100   \n",
      "2  @swonderlin can not wait for #ipad 2 also. the...           0.0000   \n",
      "3  @sxsw i hope this year's festival isn't as cra...           0.7269   \n",
      "4  @sxtxstate great stuff on fri #sxsw: marissa m...           0.6249   \n",
      "\n",
      "  sentiment  \n",
      "0  Negative  \n",
      "1  Positive  \n",
      "2   Neutral  \n",
      "3  Positive  \n",
      "4  Positive  \n"
     ]
    }
   ],
   "source": [
    "import pandas as pd\n",
    "from nltk.sentiment import SentimentIntensityAnalyzer\n",
    "\n",
    "df_train['tweet_text'] = df_train['tweet_text'].astype(str).str.lower()\n",
    "\n",
    "sid = SentimentIntensityAnalyzer()\n",
    "\n",
    "# Apply sentiment analysis to each tweet and create a new column 'sentiment_score'\n",
    "df_train['sentiment_score'] = df_train['tweet_text'].apply(lambda x: sid.polarity_scores(x)['compound'] if isinstance(x, str) else None)\n",
    "\n",
    "# Map sentiment scores to categories (Positive, Neutral, Negative)\n",
    "df_train['sentiment'] = df_train['sentiment_score'].apply(lambda x: 'Positive' if x > 0 else ('Neutral' if x == 0 else 'Negative') if pd.notnull(x) else None)\n",
    "\n",
    "# Display the updated DataFrame\n",
    "print(df_train[['tweet_text', 'sentiment_score', 'sentiment']].head())\n"
   ]
  },
  {
   "cell_type": "markdown",
   "id": "e6aaf293",
   "metadata": {
    "papermill": {
     "duration": 0.01133,
     "end_time": "2024-04-23T07:51:04.320798",
     "exception": false,
     "start_time": "2024-04-23T07:51:04.309468",
     "status": "completed"
    },
    "tags": []
   },
   "source": [
    "Checking what is the accuracy of our model"
   ]
  },
  {
   "cell_type": "code",
   "execution_count": 16,
   "id": "f94c38d0",
   "metadata": {
    "execution": {
     "iopub.execute_input": "2024-04-23T07:51:04.346587Z",
     "iopub.status.busy": "2024-04-23T07:51:04.345556Z",
     "iopub.status.idle": "2024-04-23T07:51:04.354414Z",
     "shell.execute_reply": "2024-04-23T07:51:04.353383Z"
    },
    "papermill": {
     "duration": 0.024722,
     "end_time": "2024-04-23T07:51:04.357250",
     "exception": false,
     "start_time": "2024-04-23T07:51:04.332528",
     "status": "completed"
    },
    "tags": []
   },
   "outputs": [],
   "source": [
    "emotion_toSentiment = {'Negative emotion': 'Negative', 'Positive emotion': 'Positive', 'Neutral emotion': 'Neutral'}\n",
    "\n",
    "df_train['true_sentiment'] = df_train['emotion'].map(emotion_toSentiment)"
   ]
  },
  {
   "cell_type": "code",
   "execution_count": 17,
   "id": "a83f5737",
   "metadata": {
    "execution": {
     "iopub.execute_input": "2024-04-23T07:51:04.383604Z",
     "iopub.status.busy": "2024-04-23T07:51:04.382805Z",
     "iopub.status.idle": "2024-04-23T07:51:04.400165Z",
     "shell.execute_reply": "2024-04-23T07:51:04.398886Z"
    },
    "papermill": {
     "duration": 0.032846,
     "end_time": "2024-04-23T07:51:04.402399",
     "exception": false,
     "start_time": "2024-04-23T07:51:04.369553",
     "status": "completed"
    },
    "tags": []
   },
   "outputs": [
    {
     "name": "stdout",
     "output_type": "stream",
     "text": [
      "0.5806957066750235\n"
     ]
    }
   ],
   "source": [
    "from sklearn.metrics import accuracy_score\n",
    "\n",
    "df_train_sentiment = df_train.dropna(subset=['true_sentiment', 'sentiment'])\n",
    "\n",
    "accuracy = accuracy_score(df_train_sentiment['true_sentiment'], df_train_sentiment['sentiment'])\n",
    "\n",
    "print(accuracy)"
   ]
  },
  {
   "cell_type": "code",
   "execution_count": null,
   "id": "bc77c0b0",
   "metadata": {
    "papermill": {
     "duration": 0.011493,
     "end_time": "2024-04-23T07:51:04.425687",
     "exception": false,
     "start_time": "2024-04-23T07:51:04.414194",
     "status": "completed"
    },
    "tags": []
   },
   "outputs": [],
   "source": []
  }
 ],
 "metadata": {
  "kaggle": {
   "accelerator": "none",
   "dataSources": [
    {
     "datasetId": 4274196,
     "sourceId": 7358691,
     "sourceType": "datasetVersion"
    }
   ],
   "dockerImageVersionId": 30626,
   "isGpuEnabled": false,
   "isInternetEnabled": true,
   "language": "python",
   "sourceType": "notebook"
  },
  "kernelspec": {
   "display_name": "Python 3",
   "language": "python",
   "name": "python3"
  },
  "language_info": {
   "codemirror_mode": {
    "name": "ipython",
    "version": 3
   },
   "file_extension": ".py",
   "mimetype": "text/x-python",
   "name": "python",
   "nbconvert_exporter": "python",
   "pygments_lexer": "ipython3",
   "version": "3.10.12"
  },
  "papermill": {
   "default_parameters": {},
   "duration": 13.8103,
   "end_time": "2024-04-23T07:51:05.158114",
   "environment_variables": {},
   "exception": null,
   "input_path": "__notebook__.ipynb",
   "output_path": "__notebook__.ipynb",
   "parameters": {},
   "start_time": "2024-04-23T07:50:51.347814",
   "version": "2.4.0"
  }
 },
 "nbformat": 4,
 "nbformat_minor": 5
}
