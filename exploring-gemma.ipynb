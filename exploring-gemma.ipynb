{
 "cells": [
  {
   "cell_type": "code",
   "execution_count": 1,
   "id": "1d930129",
   "metadata": {
    "_cell_guid": "b1076dfc-b9ad-4769-8c92-a6c4dae69d19",
    "_uuid": "8f2839f25d086af736a60e9eeb907d3b93b6e0e5",
    "execution": {
     "iopub.execute_input": "2024-02-25T14:15:04.829681Z",
     "iopub.status.busy": "2024-02-25T14:15:04.828989Z",
     "iopub.status.idle": "2024-02-25T14:15:05.834047Z",
     "shell.execute_reply": "2024-02-25T14:15:05.832819Z"
    },
    "papermill": {
     "duration": 1.014138,
     "end_time": "2024-02-25T14:15:05.837325",
     "exception": false,
     "start_time": "2024-02-25T14:15:04.823187",
     "status": "completed"
    },
    "tags": []
   },
   "outputs": [
    {
     "name": "stdout",
     "output_type": "stream",
     "text": [
      "/kaggle/input/data-assistants-with-gemma/submission_categories.txt\n",
      "/kaggle/input/data-assistants-with-gemma/submission_instructions.txt\n",
      "/kaggle/input/gemma/pytorch/2b/2/config.json\n",
      "/kaggle/input/gemma/pytorch/2b/2/gemma-2b.ckpt\n",
      "/kaggle/input/gemma/pytorch/2b/2/tokenizer.model\n",
      "/kaggle/input/gemma/keras/gemma_instruct_2b_en/2/config.json\n",
      "/kaggle/input/gemma/keras/gemma_instruct_2b_en/2/tokenizer.json\n",
      "/kaggle/input/gemma/keras/gemma_instruct_2b_en/2/metadata.json\n",
      "/kaggle/input/gemma/keras/gemma_instruct_2b_en/2/model.weights.h5\n",
      "/kaggle/input/gemma/keras/gemma_instruct_2b_en/2/assets/tokenizer/vocabulary.spm\n"
     ]
    }
   ],
   "source": [
    "# This Python 3 environment comes with many helpful analytics libraries installed\n",
    "# It is defined by the kaggle/python Docker image: https://github.com/kaggle/docker-python\n",
    "# For example, here's several helpful packages to load\n",
    "\n",
    "import numpy as np # linear algebra\n",
    "import pandas as pd # data processing, CSV file I/O (e.g. pd.read_csv)\n",
    "\n",
    "# Input data files are available in the read-only \"../input/\" directory\n",
    "# For example, running this (by clicking run or pressing Shift+Enter) will list all files under the input directory\n",
    "\n",
    "import os\n",
    "for dirname, _, filenames in os.walk('/kaggle/input'):\n",
    "    for filename in filenames:\n",
    "        print(os.path.join(dirname, filename))\n",
    "\n",
    "# You can write up to 20GB to the current directory (/kaggle/working/) that gets preserved as output when you create a version using \"Save & Run All\" \n",
    "# You can also write temporary files to /kaggle/temp/, but they won't be saved outside of the current session"
   ]
  },
  {
   "cell_type": "markdown",
   "id": "5f4f8843",
   "metadata": {
    "papermill": {
     "duration": 0.002725,
     "end_time": "2024-02-25T14:15:05.843360",
     "exception": false,
     "start_time": "2024-02-25T14:15:05.840635",
     "status": "completed"
    },
    "tags": []
   },
   "source": [
    "## Importing Libraries and Load the model"
   ]
  },
  {
   "cell_type": "code",
   "execution_count": 2,
   "id": "f72dbb10",
   "metadata": {
    "execution": {
     "iopub.execute_input": "2024-02-25T14:15:05.851945Z",
     "iopub.status.busy": "2024-02-25T14:15:05.851423Z",
     "iopub.status.idle": "2024-02-25T14:15:52.224142Z",
     "shell.execute_reply": "2024-02-25T14:15:52.222261Z"
    },
    "papermill": {
     "duration": 46.380684,
     "end_time": "2024-02-25T14:15:52.226998",
     "exception": false,
     "start_time": "2024-02-25T14:15:05.846314",
     "status": "completed"
    },
    "tags": []
   },
   "outputs": [
    {
     "name": "stdout",
     "output_type": "stream",
     "text": [
      "\u001b[31mERROR: pip's dependency resolver does not currently take into account all the packages that are installed. This behaviour is the source of the following dependency conflicts.\r\n",
      "tensorflow 2.15.0 requires keras<2.16,>=2.15.0, but you have keras 3.0.5 which is incompatible.\r\n",
      "tensorflowjs 4.16.0 requires packaging~=23.1, but you have packaging 21.3 which is incompatible.\u001b[0m\u001b[31m\r\n",
      "\u001b[0m"
     ]
    },
    {
     "name": "stderr",
     "output_type": "stream",
     "text": [
      "2024-02-25 14:15:39.046806: E external/local_xla/xla/stream_executor/cuda/cuda_dnn.cc:9261] Unable to register cuDNN factory: Attempting to register factory for plugin cuDNN when one has already been registered\n",
      "2024-02-25 14:15:39.046995: E external/local_xla/xla/stream_executor/cuda/cuda_fft.cc:607] Unable to register cuFFT factory: Attempting to register factory for plugin cuFFT when one has already been registered\n",
      "2024-02-25 14:15:39.219466: E external/local_xla/xla/stream_executor/cuda/cuda_blas.cc:1515] Unable to register cuBLAS factory: Attempting to register factory for plugin cuBLAS when one has already been registered\n"
     ]
    }
   ],
   "source": [
    "!pip install -U -q keras-nlp\n",
    "!pip install -U -q keras\n",
    "import keras\n",
    "import keras_nlp\n",
    "import numpy as np\n",
    "from IPython.display import display, Markdown\n",
    "from tqdm.notebook import tqdm"
   ]
  },
  {
   "cell_type": "code",
   "execution_count": 3,
   "id": "c27c3c0a",
   "metadata": {
    "execution": {
     "iopub.execute_input": "2024-02-25T14:15:52.236525Z",
     "iopub.status.busy": "2024-02-25T14:15:52.235841Z",
     "iopub.status.idle": "2024-02-25T14:17:18.187046Z",
     "shell.execute_reply": "2024-02-25T14:17:18.185829Z"
    },
    "papermill": {
     "duration": 85.958783,
     "end_time": "2024-02-25T14:17:18.189418",
     "exception": false,
     "start_time": "2024-02-25T14:15:52.230635",
     "status": "completed"
    },
    "tags": []
   },
   "outputs": [
    {
     "name": "stderr",
     "output_type": "stream",
     "text": [
      "Attaching 'config.json' from model 'keras/gemma/keras/gemma_instruct_2b_en/2' to your Kaggle notebook...\n",
      "Attaching 'config.json' from model 'keras/gemma/keras/gemma_instruct_2b_en/2' to your Kaggle notebook...\n",
      "Attaching 'model.weights.h5' from model 'keras/gemma/keras/gemma_instruct_2b_en/2' to your Kaggle notebook...\n",
      "Attaching 'tokenizer.json' from model 'keras/gemma/keras/gemma_instruct_2b_en/2' to your Kaggle notebook...\n",
      "Attaching 'assets/tokenizer/vocabulary.spm' from model 'keras/gemma/keras/gemma_instruct_2b_en/2' to your Kaggle notebook...\n",
      "normalizer.cc(51) LOG(INFO) precompiled_charsmap is empty. use identity normalization.\n"
     ]
    }
   ],
   "source": [
    "import warnings\n",
    "warnings.filterwarnings('ignore')\n",
    "gemma_lm = keras_nlp.models.GemmaCausalLM.from_preset(\"gemma_instruct_2b_en\")"
   ]
  },
  {
   "cell_type": "code",
   "execution_count": 4,
   "id": "27b98d7b",
   "metadata": {
    "execution": {
     "iopub.execute_input": "2024-02-25T14:17:18.198897Z",
     "iopub.status.busy": "2024-02-25T14:17:18.197888Z",
     "iopub.status.idle": "2024-02-25T14:30:08.896476Z",
     "shell.execute_reply": "2024-02-25T14:30:08.895422Z"
    },
    "papermill": {
     "duration": 770.709277,
     "end_time": "2024-02-25T14:30:08.902376",
     "exception": false,
     "start_time": "2024-02-25T14:17:18.193099",
     "status": "completed"
    },
    "tags": []
   },
   "outputs": [
    {
     "name": "stderr",
     "output_type": "stream",
     "text": [
      "WARNING: All log messages before absl::InitializeLog() is called are written to STDERR\n",
      "I0000 00:00:1708870667.334846      18 device_compiler.h:186] Compiled cluster using XLA!  This line is logged at most once for the lifetime of the process.\n",
      "2024-02-25 14:17:47.376280: E external/local_xla/xla/stream_executor/stream_executor_internal.h:177] SetPriority unimplemented for this stream.\n"
     ]
    },
    {
     "data": {
      "text/markdown": [
       "Could you brainstorm a few thoughtful questions related to Data Science?\n",
       "\n",
       "**General Questions:**\n",
       "\n",
       "* How can we effectively communicate complex data science insights to a non-technical audience?\n",
       "* What are the ethical considerations and challenges associated with data science?\n",
       "* How can we ensure data quality and integrity throughout the data science lifecycle?\n",
       "* What are the most important skills and knowledge needed to succeed in data science?\n",
       "* How can we foster a collaborative and diverse data science community?\n",
       "\n",
       "**Specific Questions:**\n",
       "\n",
       "* How can we leverage machine learning algorithms to automate data analysis tasks?\n",
       "* What are the best practices for data wrangling and cleaning?\n",
       "* How can we handle missing data and outliers in data science projects?\n",
       "* What are the different types of data mining techniques, and when would each be appropriate?\n",
       "* How can we evaluate the performance of different data science models?\n",
       "\n",
       "**Future-focused Questions:**\n",
       "\n",
       "* What are the emerging trends and technologies that will shape the future of data science?\n",
       "* How can we prepare for the increasing demand for data scientists?\n",
       "* What are the ethical and societal implications of large-scale data collection and analysis?\n",
       "* How can we ensure data science solutions are accessible and inclusive?\n",
       "* What are the challenges and opportunities for democratizing data science?\n",
       "\n",
       "These are just a few examples, and you can certainly come up with more questions based on your specific interests and areas of expertise."
      ],
      "text/plain": [
       "<IPython.core.display.Markdown object>"
      ]
     },
     "metadata": {},
     "output_type": "display_data"
    },
    {
     "name": "stdout",
     "output_type": "stream",
     "text": [
      "CPU times: user 22min 59s, sys: 5.18 s, total: 23min 4s\n",
      "Wall time: 12min 50s\n"
     ]
    }
   ],
   "source": [
    "%%time\n",
    "topic = \"Data Science\"\n",
    "answer = gemma_lm.generate(f\"Could you brainstorm a few thoughtful questions related to {topic}?\", max_length=4096)\n",
    "display(Markdown(answer))\n",
    "sentences = answer.split(\"\\n\")\n",
    "questions = []\n",
    "for sentence in sentences:\n",
    "    if sentence.startswith(\"* \"):\n",
    "        questions.append(sentence)"
   ]
  },
  {
   "cell_type": "markdown",
   "id": "a66f6401",
   "metadata": {
    "papermill": {
     "duration": 0.003851,
     "end_time": "2024-02-25T14:30:08.910863",
     "exception": false,
     "start_time": "2024-02-25T14:30:08.907012",
     "status": "completed"
    },
    "tags": []
   },
   "source": [
    "### Simple usage"
   ]
  },
  {
   "cell_type": "code",
   "execution_count": 5,
   "id": "bc3f95ff",
   "metadata": {
    "execution": {
     "iopub.execute_input": "2024-02-25T14:30:08.922773Z",
     "iopub.status.busy": "2024-02-25T14:30:08.922081Z",
     "iopub.status.idle": "2024-02-25T14:35:18.999535Z",
     "shell.execute_reply": "2024-02-25T14:35:18.997964Z"
    },
    "papermill": {
     "duration": 310.095263,
     "end_time": "2024-02-25T14:35:19.011393",
     "exception": false,
     "start_time": "2024-02-25T14:30:08.916130",
     "status": "completed"
    },
    "tags": []
   },
   "outputs": [
    {
     "data": {
      "text/plain": [
       "'Hi, can you exlain what is the Gemma?\\n\\nThe Gemma is a type of gemstone that is said to be a manifestation of the goddess Athena. It is said to be a powerful and protective stone that can help to bring good luck, ward off evil, and promote healing.\\n\\nThe Gemma is often depicted as a woman with a head of hair, holding a shield or sword. She is also sometimes depicted as a bird with wings spread out, holding a shield or sword.\\n\\nThe Gemma is a popular gemstone in many cultures, and is often used in jewelry. It is said to be a powerful and protective stone, and is often worn to bring good luck and ward off evil.'"
      ]
     },
     "execution_count": 5,
     "metadata": {},
     "output_type": "execute_result"
    }
   ],
   "source": [
    "prompt = 'Hi, can you exlain what is the Gemma?'\n",
    "gemma_lm.generate(prompt, max_length = 500)"
   ]
  },
  {
   "cell_type": "code",
   "execution_count": null,
   "id": "e5463a1a",
   "metadata": {
    "papermill": {
     "duration": 0.003837,
     "end_time": "2024-02-25T14:35:19.019295",
     "exception": false,
     "start_time": "2024-02-25T14:35:19.015458",
     "status": "completed"
    },
    "tags": []
   },
   "outputs": [],
   "source": []
  }
 ],
 "metadata": {
  "kaggle": {
   "accelerator": "none",
   "dataSources": [
    {
     "databundleVersionId": 7669720,
     "sourceId": 64148,
     "sourceType": "competition"
    },
    {
     "databundleVersionId": 7771678,
     "modelInstanceId": 5388,
     "sourceId": 11372,
     "sourceType": "modelInstanceVersion"
    },
    {
     "databundleVersionId": 7771551,
     "modelInstanceId": 5305,
     "sourceId": 11357,
     "sourceType": "modelInstanceVersion"
    }
   ],
   "dockerImageVersionId": 30646,
   "isGpuEnabled": false,
   "isInternetEnabled": true,
   "language": "python",
   "sourceType": "notebook"
  },
  "kernelspec": {
   "display_name": "Python 3",
   "language": "python",
   "name": "python3"
  },
  "language_info": {
   "codemirror_mode": {
    "name": "ipython",
    "version": 3
   },
   "file_extension": ".py",
   "mimetype": "text/x-python",
   "name": "python",
   "nbconvert_exporter": "python",
   "pygments_lexer": "ipython3",
   "version": "3.10.13"
  },
  "papermill": {
   "default_parameters": {},
   "duration": 1220.766886,
   "end_time": "2024-02-25T14:35:22.621220",
   "environment_variables": {},
   "exception": null,
   "input_path": "__notebook__.ipynb",
   "output_path": "__notebook__.ipynb",
   "parameters": {},
   "start_time": "2024-02-25T14:15:01.854334",
   "version": "2.5.0"
  }
 },
 "nbformat": 4,
 "nbformat_minor": 5
}
