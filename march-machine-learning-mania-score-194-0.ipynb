{
 "cells": [
  {
   "cell_type": "code",
   "execution_count": 1,
   "id": "679809fa",
   "metadata": {
    "execution": {
     "iopub.execute_input": "2024-03-05T10:39:49.662842Z",
     "iopub.status.busy": "2024-03-05T10:39:49.662217Z",
     "iopub.status.idle": "2024-03-05T10:39:50.489612Z",
     "shell.execute_reply": "2024-03-05T10:39:50.488535Z"
    },
    "papermill": {
     "duration": 0.835825,
     "end_time": "2024-03-05T10:39:50.492320",
     "exception": false,
     "start_time": "2024-03-05T10:39:49.656495",
     "status": "completed"
    },
    "tags": []
   },
   "outputs": [
    {
     "name": "stdout",
     "output_type": "stream",
     "text": [
      "/kaggle/input/march-machine-learning-mania-2024/Conferences.csv\n",
      "/kaggle/input/march-machine-learning-mania-2024/sample_submission.csv\n",
      "/kaggle/input/march-machine-learning-mania-2024/WNCAATourneyDetailedResults.csv\n",
      "/kaggle/input/march-machine-learning-mania-2024/WRegularSeasonCompactResults.csv\n",
      "/kaggle/input/march-machine-learning-mania-2024/MNCAATourneySeedRoundSlots.csv\n",
      "/kaggle/input/march-machine-learning-mania-2024/MRegularSeasonDetailedResults.csv\n",
      "/kaggle/input/march-machine-learning-mania-2024/MNCAATourneyCompactResults.csv\n",
      "/kaggle/input/march-machine-learning-mania-2024/MGameCities.csv\n",
      "/kaggle/input/march-machine-learning-mania-2024/WGameCities.csv\n",
      "/kaggle/input/march-machine-learning-mania-2024/MSeasons.csv\n",
      "/kaggle/input/march-machine-learning-mania-2024/WNCAATourneySlots.csv\n",
      "/kaggle/input/march-machine-learning-mania-2024/MSecondaryTourneyTeams.csv\n",
      "/kaggle/input/march-machine-learning-mania-2024/2024_tourney_seeds.csv\n",
      "/kaggle/input/march-machine-learning-mania-2024/Cities.csv\n",
      "/kaggle/input/march-machine-learning-mania-2024/MTeamSpellings.csv\n",
      "/kaggle/input/march-machine-learning-mania-2024/MRegularSeasonCompactResults.csv\n",
      "/kaggle/input/march-machine-learning-mania-2024/MMasseyOrdinals.csv\n",
      "/kaggle/input/march-machine-learning-mania-2024/MSecondaryTourneyCompactResults.csv\n",
      "/kaggle/input/march-machine-learning-mania-2024/WTeams.csv\n",
      "/kaggle/input/march-machine-learning-mania-2024/MNCAATourneySlots.csv\n",
      "/kaggle/input/march-machine-learning-mania-2024/MNCAATourneySeeds.csv\n",
      "/kaggle/input/march-machine-learning-mania-2024/WNCAATourneyCompactResults.csv\n",
      "/kaggle/input/march-machine-learning-mania-2024/WSeasons.csv\n",
      "/kaggle/input/march-machine-learning-mania-2024/WNCAATourneySeeds.csv\n",
      "/kaggle/input/march-machine-learning-mania-2024/MTeamCoaches.csv\n",
      "/kaggle/input/march-machine-learning-mania-2024/MConferenceTourneyGames.csv\n",
      "/kaggle/input/march-machine-learning-mania-2024/WRegularSeasonDetailedResults.csv\n",
      "/kaggle/input/march-machine-learning-mania-2024/MNCAATourneyDetailedResults.csv\n",
      "/kaggle/input/march-machine-learning-mania-2024/WTeamSpellings.csv\n",
      "/kaggle/input/march-machine-learning-mania-2024/MTeamConferences.csv\n",
      "/kaggle/input/march-machine-learning-mania-2024/MTeams.csv\n",
      "/kaggle/input/march-machine-learning-mania-2024/WTeamConferences.csv\n",
      "/kaggle/input/march-machine-learning-mania-2024/fivethirtyeight_ncaa_forecasts_2023.csv\n"
     ]
    }
   ],
   "source": [
    "# This Python 3 environment comes with many helpful analytics libraries installed\n",
    "# It is defined by the kaggle/python Docker image: https://github.com/kaggle/docker-python\n",
    "# For example, here's several helpful packages to load\n",
    "\n",
    "import numpy as np # linear algebra\n",
    "import pandas as pd # data processing, CSV file I/O (e.g. pd.read_csv)\n",
    "\n",
    "# Input data files are available in the read-only \"../input/\" directory\n",
    "# For example, running this (by clicking run or pressing Shift+Enter) will list all files under the input directory\n",
    "\n",
    "import os\n",
    "for dirname, _, filenames in os.walk('/kaggle/input'):\n",
    "    for filename in filenames:\n",
    "        print(os.path.join(dirname, filename))\n",
    "\n",
    "# You can write up to 20GB to the current directory (/kaggle/working/) that gets preserved as output when you create a version using \"Save & Run All\" \n",
    "# You can also write temporary files to /kaggle/temp/, but they won't be saved outside of the current session"
   ]
  },
  {
   "cell_type": "code",
   "execution_count": 2,
   "id": "d7547232",
   "metadata": {
    "execution": {
     "iopub.execute_input": "2024-03-05T10:39:50.499794Z",
     "iopub.status.busy": "2024-03-05T10:39:50.499364Z",
     "iopub.status.idle": "2024-03-05T10:39:52.067768Z",
     "shell.execute_reply": "2024-03-05T10:39:52.066928Z"
    },
    "papermill": {
     "duration": 1.574814,
     "end_time": "2024-03-05T10:39:52.070417",
     "exception": false,
     "start_time": "2024-03-05T10:39:50.495603",
     "status": "completed"
    },
    "tags": []
   },
   "outputs": [
    {
     "name": "stdout",
     "output_type": "stream",
     "text": [
      "Could not read file MTeamSpellings.csv\n",
      "Could not read file WTeamSpellings.csv\n"
     ]
    }
   ],
   "source": [
    "import polars as pl\n",
    "import os\n",
    "\n",
    "TABS = {}\n",
    "for file in os.listdir('../input/march-machine-learning-mania-2024/'):\n",
    "    try:\n",
    "        TABS[file[:-4]] = pl.read_csv(f'../input/march-machine-learning-mania-2024/{file}')\n",
    "    except pl.ComputeError as e:\n",
    "        print(f\"Could not read file {file}\")"
   ]
  },
  {
   "cell_type": "code",
   "execution_count": 3,
   "id": "1b94617a",
   "metadata": {
    "execution": {
     "iopub.execute_input": "2024-03-05T10:39:52.078501Z",
     "iopub.status.busy": "2024-03-05T10:39:52.077709Z",
     "iopub.status.idle": "2024-03-05T10:39:52.104694Z",
     "shell.execute_reply": "2024-03-05T10:39:52.103893Z"
    },
    "papermill": {
     "duration": 0.033574,
     "end_time": "2024-03-05T10:39:52.107249",
     "exception": false,
     "start_time": "2024-03-05T10:39:52.073675",
     "status": "completed"
    },
    "tags": []
   },
   "outputs": [],
   "source": [
    "def seeds_to_dict(seeds):\n",
    "    return {row['TeamID']: row['Seed'] for row in seeds.iter_rows(named=True)}\n",
    "\n",
    "\n",
    "def slots_to_dict(slots):\n",
    "    return {row['Slot']: (row['StrongSeed'], row['WeakSeed']) \n",
    "            for row in slots.iter_rows(named=True)}\n",
    "\n",
    "\n",
    "def results_to_dict(results_tab, seeds_dict):\n",
    "    out = {}\n",
    "    for row in results_tab.iter_rows(named=True):\n",
    "        wid = seeds_dict[row['WTeamID']]\n",
    "        lid = seeds_dict[row['LTeamID']]\n",
    "        out[(wid, lid)] = wid\n",
    "        out[(lid, wid)] = wid\n",
    "    return out\n",
    "\n",
    "\n",
    "LEVELS = [\n",
    "    ['R1W1', 'R1W2', 'R1W3', 'R1W4', 'R1W5', 'R1W6', 'R1W7', 'R1W8', 'R1X1', 'R1X2', 'R1X3', 'R1X4', 'R1X5', 'R1X6', 'R1X7', 'R1X8', 'R1Y1', 'R1Y2', 'R1Y3', 'R1Y4', 'R1Y5', 'R1Y6', 'R1Y7', 'R1Y8', 'R1Z1', 'R1Z2', 'R1Z3', 'R1Z4', 'R1Z5', 'R1Z6', 'R1Z7', 'R1Z8'], \n",
    "    ['R2W1', 'R2W2', 'R2W3', 'R2W4', 'R2X1', 'R2X2', 'R2X3', 'R2X4', 'R2Y1', 'R2Y2', 'R2Y3', 'R2Y4', 'R2Z1', 'R2Z2', 'R2Z3', 'R2Z4'],\n",
    "    ['R3W1', 'R3W2', 'R3X1', 'R3X2', 'R3Y1', 'R3Y2', 'R3Z1', 'R3Z2'], \n",
    "    ['R4W1', 'R4X1', 'R4Y1', 'R4Z1'], \n",
    "    ['R5WX', 'R5YZ'], \n",
    "    ['R6CH'],\n",
    "]\n",
    "\n",
    "SLOTS = {'R1W1': ('W01', 'W16'), 'R1W2': ('W02', 'W15'), 'R1W3': ('W03', 'W14'), 'R1W4': ('W04', 'W13'), 'R1W5': ('W05', 'W12'), 'R1W6': ('W06', 'W11'), 'R1W7': ('W07', 'W10'), 'R1W8': ('W08', 'W09'), 'R1X1': ('X01', 'X16'), 'R1X2': ('X02', 'X15'), 'R1X3': ('X03', 'X14'), 'R1X4': ('X04', 'X13'), 'R1X5': ('X05', 'X12'), 'R1X6': ('X06', 'X11'), 'R1X7': ('X07', 'X10'), 'R1X8': ('X08', 'X09'), 'R1Y1': ('Y01', 'Y16'), 'R1Y2': ('Y02', 'Y15'), 'R1Y3': ('Y03', 'Y14'), 'R1Y4': ('Y04', 'Y13'), 'R1Y5': ('Y05', 'Y12'), 'R1Y6': ('Y06', 'Y11'), 'R1Y7': ('Y07', 'Y10'), 'R1Y8': ('Y08', 'Y09'), 'R1Z1': ('Z01', 'Z16'), 'R1Z2': ('Z02', 'Z15'), 'R1Z3': ('Z03', 'Z14'), 'R1Z4': ('Z04', 'Z13'), 'R1Z5': ('Z05', 'Z12'), 'R1Z6': ('Z06', 'Z11'), 'R1Z7': ('Z07', 'Z10'), 'R1Z8': ('Z08', 'Z09'), 'R2W1': ('R1W1', 'R1W8'), 'R2W2': ('R1W2', 'R1W7'), 'R2W3': ('R1W3', 'R1W6'), 'R2W4': ('R1W4', 'R1W5'), 'R2X1': ('R1X1', 'R1X8'), 'R2X2': ('R1X2', 'R1X7'), 'R2X3': ('R1X3', 'R1X6'), 'R2X4': ('R1X4', 'R1X5'), 'R2Y1': ('R1Y1', 'R1Y8'), 'R2Y2': ('R1Y2', 'R1Y7'), 'R2Y3': ('R1Y3', 'R1Y6'), 'R2Y4': ('R1Y4', 'R1Y5'), 'R2Z1': ('R1Z1', 'R1Z8'), 'R2Z2': ('R1Z2', 'R1Z7'), 'R2Z3': ('R1Z3', 'R1Z6'), 'R2Z4': ('R1Z4', 'R1Z5'), 'R3W1': ('R2W1', 'R2W4'), 'R3W2': ('R2W2', 'R2W3'), 'R3X1': ('R2X1', 'R2X4'), 'R3X2': ('R2X2', 'R2X3'), 'R3Y1': ('R2Y1', 'R2Y4'), 'R3Y2': ('R2Y2', 'R2Y3'), 'R3Z1': ('R2Z1', 'R2Z4'), 'R3Z2': ('R2Z2', 'R2Z3'), 'R4W1': ('R3W1', 'R3W2'), 'R4X1': ('R3X1', 'R3X2'), 'R4Y1': ('R3Y1', 'R3Y2'), 'R4Z1': ('R3Z1', 'R3Z2'), 'R5WX': ('R4W1', 'R4X1'), 'R5YZ': ('R4Y1', 'R4Z1'), 'R6CH': ('R5WX', 'R5YZ')}\n",
    "\n",
    "\n",
    "def get_play_in(results):\n",
    "    play_in = set()\n",
    "    for team1, team2 in results:\n",
    "        if len(team1) > 3:\n",
    "            play_in.add(team1[:3])\n",
    "        if len(team2) > 3:\n",
    "            play_in.add(team2[:3])\n",
    "    return list(play_in)\n",
    "\n",
    "\n",
    "def slots_with_play_in(play_in):\n",
    "    out = SLOTS.copy()\n",
    "    for slot in play_in:\n",
    "        out[slot] = f'{slot}a', f'{slot}b'\n",
    "    return out\n",
    "\n",
    "\n",
    "def build_bracket_dict(results_dict):\n",
    "    bracket = {}\n",
    "    play_in = get_play_in(results_dict)\n",
    "    slots = slots_with_play_in(play_in)\n",
    "    levels = [play_in] + LEVELS\n",
    "    # Play-in phase\n",
    "    for key in levels[0]:\n",
    "        bracket[key] = results_dict[slots[key]]\n",
    "    # Regular phase\n",
    "    for i in range(1, 7):\n",
    "        for key in levels[i]:\n",
    "            k1, k2 = slots[key]\n",
    "            if k1 in levels[i-1]:\n",
    "                k1 = bracket[k1]\n",
    "            if k2 in levels[i-1]:\n",
    "                k2 = bracket[k2]\n",
    "            bracket[key] = results_dict[(k1, k2)]\n",
    "    return bracket\n",
    "\n",
    "\n",
    "def build_bracket_tab(results_tab, seeds_tab):\n",
    "    seeds_dict = seeds_to_dict(seeds_tab)\n",
    "    results_dict = results_to_dict(results_tab, seeds_dict)\n",
    "    bracket_dict = build_bracket_dict(results_dict)\n",
    "    # Remove play-in phase, map W16a -> W16, ...\n",
    "    data = {'Slot': [], 'Team': []}\n",
    "    for slot, win in bracket_dict.items():\n",
    "        if not slot.startswith('R'):\n",
    "            continue\n",
    "        data['Slot'].append(slot)\n",
    "        data['Team'].append(win[:3])\n",
    "    return pl.DataFrame(data)"
   ]
  },
  {
   "cell_type": "code",
   "execution_count": 4,
   "id": "fdfe4358",
   "metadata": {
    "execution": {
     "iopub.execute_input": "2024-03-05T10:39:52.115359Z",
     "iopub.status.busy": "2024-03-05T10:39:52.114604Z",
     "iopub.status.idle": "2024-03-05T10:39:52.172394Z",
     "shell.execute_reply": "2024-03-05T10:39:52.171309Z"
    },
    "papermill": {
     "duration": 0.06416,
     "end_time": "2024-03-05T10:39:52.174722",
     "exception": false,
     "start_time": "2024-03-05T10:39:52.110562",
     "status": "completed"
    },
    "tags": []
   },
   "outputs": [],
   "source": [
    "m_results = TABS['MNCAATourneyCompactResults'].filter(pl.col('Season') == 2023)\n",
    "w_results = TABS['WNCAATourneyCompactResults'].filter(pl.col('Season') == 2023)\n",
    "m_seeds = TABS['MNCAATourneySeeds'].filter(pl.col('Season') == 2023)\n",
    "w_seeds = TABS['WNCAATourneySeeds'].filter(pl.col('Season') == 2023)\n",
    "m_tab = build_bracket_tab(m_results, m_seeds)\n",
    "w_tab = build_bracket_tab(w_results, w_seeds)"
   ]
  },
  {
   "cell_type": "code",
   "execution_count": 5,
   "id": "ebefda6d",
   "metadata": {
    "execution": {
     "iopub.execute_input": "2024-03-05T10:39:52.182683Z",
     "iopub.status.busy": "2024-03-05T10:39:52.182343Z",
     "iopub.status.idle": "2024-03-05T10:39:52.202750Z",
     "shell.execute_reply": "2024-03-05T10:39:52.201867Z"
    },
    "papermill": {
     "duration": 0.026971,
     "end_time": "2024-03-05T10:39:52.205088",
     "exception": false,
     "start_time": "2024-03-05T10:39:52.178117",
     "status": "completed"
    },
    "tags": []
   },
   "outputs": [],
   "source": [
    "submission = pl.concat([\n",
    "    m_tab.with_columns(\n",
    "        pl.lit('M').alias('Tournament'),\n",
    "        pl.lit(1).alias('Bracket')),\n",
    "    w_tab.with_columns(\n",
    "        pl.lit('W').alias('Tournament'),\n",
    "        pl.lit(1).alias('Bracket')),\n",
    "]).with_row_index(name='RowId')[['RowId', 'Tournament', 'Bracket', 'Slot', 'Team']]\n",
    "submission.write_csv('submission.csv')"
   ]
  },
  {
   "cell_type": "code",
   "execution_count": null,
   "id": "320035c2",
   "metadata": {
    "papermill": {
     "duration": 0.003068,
     "end_time": "2024-03-05T10:39:52.211672",
     "exception": false,
     "start_time": "2024-03-05T10:39:52.208604",
     "status": "completed"
    },
    "tags": []
   },
   "outputs": [],
   "source": []
  }
 ],
 "metadata": {
  "kaggle": {
   "accelerator": "none",
   "dataSources": [
    {
     "databundleVersionId": 7840329,
     "sourceId": 70068,
     "sourceType": "competition"
    }
   ],
   "dockerImageVersionId": 30664,
   "isGpuEnabled": false,
   "isInternetEnabled": true,
   "language": "python",
   "sourceType": "notebook"
  },
  "kernelspec": {
   "display_name": "Python 3",
   "language": "python",
   "name": "python3"
  },
  "language_info": {
   "codemirror_mode": {
    "name": "ipython",
    "version": 3
   },
   "file_extension": ".py",
   "mimetype": "text/x-python",
   "name": "python",
   "nbconvert_exporter": "python",
   "pygments_lexer": "ipython3",
   "version": "3.10.13"
  },
  "papermill": {
   "default_parameters": {},
   "duration": 7.997167,
   "end_time": "2024-03-05T10:39:54.911292",
   "environment_variables": {},
   "exception": null,
   "input_path": "__notebook__.ipynb",
   "output_path": "__notebook__.ipynb",
   "parameters": {},
   "start_time": "2024-03-05T10:39:46.914125",
   "version": "2.5.0"
  }
 },
 "nbformat": 4,
 "nbformat_minor": 5
}
