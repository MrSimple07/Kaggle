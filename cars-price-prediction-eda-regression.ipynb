{
 "cells": [
  {
   "cell_type": "code",
   "execution_count": 1,
   "id": "0343c39a",
   "metadata": {
    "_cell_guid": "b1076dfc-b9ad-4769-8c92-a6c4dae69d19",
    "_uuid": "8f2839f25d086af736a60e9eeb907d3b93b6e0e5",
    "execution": {
     "iopub.execute_input": "2024-02-10T10:56:07.258113Z",
     "iopub.status.busy": "2024-02-10T10:56:07.257618Z",
     "iopub.status.idle": "2024-02-10T10:56:08.269910Z",
     "shell.execute_reply": "2024-02-10T10:56:08.268468Z"
    },
    "papermill": {
     "duration": 1.022754,
     "end_time": "2024-02-10T10:56:08.272340",
     "exception": false,
     "start_time": "2024-02-10T10:56:07.249586",
     "status": "completed"
    },
    "tags": []
   },
   "outputs": [
    {
     "name": "stdout",
     "output_type": "stream",
     "text": [
      "/kaggle/input/car-prices-prediction-data/CarPricesPrediction.csv\n"
     ]
    }
   ],
   "source": [
    "# This Python 3 environment comes with many helpful analytics libraries installed\n",
    "# It is defined by the kaggle/python Docker image: https://github.com/kaggle/docker-python\n",
    "# For example, here's several helpful packages to load\n",
    "\n",
    "import numpy as np # linear algebra\n",
    "import pandas as pd # data processing, CSV file I/O (e.g. pd.read_csv)\n",
    "\n",
    "# Input data files are available in the read-only \"../input/\" directory\n",
    "# For example, running this (by clicking run or pressing Shift+Enter) will list all files under the input directory\n",
    "\n",
    "import os\n",
    "for dirname, _, filenames in os.walk('/kaggle/input'):\n",
    "    for filename in filenames:\n",
    "        print(os.path.join(dirname, filename))\n",
    "\n",
    "# You can write up to 20GB to the current directory (/kaggle/working/) that gets preserved as output when you create a version using \"Save & Run All\" \n",
    "# You can also write temporary files to /kaggle/temp/, but they won't be saved outside of the current session"
   ]
  },
  {
   "cell_type": "markdown",
   "id": "7071c141",
   "metadata": {
    "papermill": {
     "duration": 0.005138,
     "end_time": "2024-02-10T10:56:08.283318",
     "exception": false,
     "start_time": "2024-02-10T10:56:08.278180",
     "status": "completed"
    },
    "tags": []
   },
   "source": [
    "# Data Import and Exploration"
   ]
  },
  {
   "cell_type": "code",
   "execution_count": 2,
   "id": "29515bc7",
   "metadata": {
    "execution": {
     "iopub.execute_input": "2024-02-10T10:56:08.297295Z",
     "iopub.status.busy": "2024-02-10T10:56:08.295845Z",
     "iopub.status.idle": "2024-02-10T10:56:08.332133Z",
     "shell.execute_reply": "2024-02-10T10:56:08.330878Z"
    },
    "papermill": {
     "duration": 0.046208,
     "end_time": "2024-02-10T10:56:08.334983",
     "exception": false,
     "start_time": "2024-02-10T10:56:08.288775",
     "status": "completed"
    },
    "tags": []
   },
   "outputs": [
    {
     "data": {
      "text/html": [
       "<div>\n",
       "<style scoped>\n",
       "    .dataframe tbody tr th:only-of-type {\n",
       "        vertical-align: middle;\n",
       "    }\n",
       "\n",
       "    .dataframe tbody tr th {\n",
       "        vertical-align: top;\n",
       "    }\n",
       "\n",
       "    .dataframe thead th {\n",
       "        text-align: right;\n",
       "    }\n",
       "</style>\n",
       "<table border=\"1\" class=\"dataframe\">\n",
       "  <thead>\n",
       "    <tr style=\"text-align: right;\">\n",
       "      <th></th>\n",
       "      <th>Unnamed: 0</th>\n",
       "      <th>Make</th>\n",
       "      <th>Model</th>\n",
       "      <th>Year</th>\n",
       "      <th>Mileage</th>\n",
       "      <th>Condition</th>\n",
       "      <th>Price</th>\n",
       "    </tr>\n",
       "  </thead>\n",
       "  <tbody>\n",
       "    <tr>\n",
       "      <th>0</th>\n",
       "      <td>0</td>\n",
       "      <td>Ford</td>\n",
       "      <td>Silverado</td>\n",
       "      <td>2022</td>\n",
       "      <td>18107</td>\n",
       "      <td>Excellent</td>\n",
       "      <td>19094.75</td>\n",
       "    </tr>\n",
       "    <tr>\n",
       "      <th>1</th>\n",
       "      <td>1</td>\n",
       "      <td>Toyota</td>\n",
       "      <td>Silverado</td>\n",
       "      <td>2014</td>\n",
       "      <td>13578</td>\n",
       "      <td>Excellent</td>\n",
       "      <td>27321.10</td>\n",
       "    </tr>\n",
       "    <tr>\n",
       "      <th>2</th>\n",
       "      <td>2</td>\n",
       "      <td>Chevrolet</td>\n",
       "      <td>Civic</td>\n",
       "      <td>2016</td>\n",
       "      <td>46054</td>\n",
       "      <td>Good</td>\n",
       "      <td>23697.30</td>\n",
       "    </tr>\n",
       "    <tr>\n",
       "      <th>3</th>\n",
       "      <td>3</td>\n",
       "      <td>Ford</td>\n",
       "      <td>Civic</td>\n",
       "      <td>2022</td>\n",
       "      <td>34981</td>\n",
       "      <td>Excellent</td>\n",
       "      <td>18251.05</td>\n",
       "    </tr>\n",
       "    <tr>\n",
       "      <th>4</th>\n",
       "      <td>4</td>\n",
       "      <td>Chevrolet</td>\n",
       "      <td>Civic</td>\n",
       "      <td>2019</td>\n",
       "      <td>63565</td>\n",
       "      <td>Excellent</td>\n",
       "      <td>19821.85</td>\n",
       "    </tr>\n",
       "  </tbody>\n",
       "</table>\n",
       "</div>"
      ],
      "text/plain": [
       "   Unnamed: 0       Make      Model  Year  Mileage  Condition     Price\n",
       "0           0       Ford  Silverado  2022    18107  Excellent  19094.75\n",
       "1           1     Toyota  Silverado  2014    13578  Excellent  27321.10\n",
       "2           2  Chevrolet      Civic  2016    46054       Good  23697.30\n",
       "3           3       Ford      Civic  2022    34981  Excellent  18251.05\n",
       "4           4  Chevrolet      Civic  2019    63565  Excellent  19821.85"
      ]
     },
     "execution_count": 2,
     "metadata": {},
     "output_type": "execute_result"
    }
   ],
   "source": [
    "import pandas as pd\n",
    "\n",
    "df = pd.read_csv('/kaggle/input/car-prices-prediction-data/CarPricesPrediction.csv')\n",
    "df.head()"
   ]
  },
  {
   "cell_type": "code",
   "execution_count": 3,
   "id": "c33e0e7f",
   "metadata": {
    "execution": {
     "iopub.execute_input": "2024-02-10T10:56:08.349769Z",
     "iopub.status.busy": "2024-02-10T10:56:08.349360Z",
     "iopub.status.idle": "2024-02-10T10:56:08.367503Z",
     "shell.execute_reply": "2024-02-10T10:56:08.366163Z"
    },
    "papermill": {
     "duration": 0.02891,
     "end_time": "2024-02-10T10:56:08.370575",
     "exception": false,
     "start_time": "2024-02-10T10:56:08.341665",
     "status": "completed"
    },
    "tags": []
   },
   "outputs": [
    {
     "data": {
      "text/plain": [
       "<bound method NDFrame.describe of      Unnamed: 0       Make      Model  Year  Mileage  Condition     Price\n",
       "0             0       Ford  Silverado  2022    18107  Excellent  19094.75\n",
       "1             1     Toyota  Silverado  2014    13578  Excellent  27321.10\n",
       "2             2  Chevrolet      Civic  2016    46054       Good  23697.30\n",
       "3             3       Ford      Civic  2022    34981  Excellent  18251.05\n",
       "4             4  Chevrolet      Civic  2019    63565  Excellent  19821.85\n",
       "..          ...        ...        ...   ...      ...        ...       ...\n",
       "995         995     Nissan      Camry  2010   149032  Excellent  24548.50\n",
       "996         996  Chevrolet      F-150  2014    20608  Excellent  26969.70\n",
       "997         997       Ford     Altima  2016   109851       Good  20507.55\n",
       "998         998     Toyota  Silverado  2010    11704       Good  31414.90\n",
       "999         999     Nissan  Silverado  2017   128390  Excellent  18580.60\n",
       "\n",
       "[1000 rows x 7 columns]>"
      ]
     },
     "execution_count": 3,
     "metadata": {},
     "output_type": "execute_result"
    }
   ],
   "source": [
    "df.describe"
   ]
  },
  {
   "cell_type": "code",
   "execution_count": 4,
   "id": "306a92c9",
   "metadata": {
    "execution": {
     "iopub.execute_input": "2024-02-10T10:56:08.385919Z",
     "iopub.status.busy": "2024-02-10T10:56:08.385478Z",
     "iopub.status.idle": "2024-02-10T10:56:08.411597Z",
     "shell.execute_reply": "2024-02-10T10:56:08.410330Z"
    },
    "papermill": {
     "duration": 0.036981,
     "end_time": "2024-02-10T10:56:08.414372",
     "exception": false,
     "start_time": "2024-02-10T10:56:08.377391",
     "status": "completed"
    },
    "tags": []
   },
   "outputs": [
    {
     "name": "stdout",
     "output_type": "stream",
     "text": [
      "<class 'pandas.core.frame.DataFrame'>\n",
      "RangeIndex: 1000 entries, 0 to 999\n",
      "Data columns (total 7 columns):\n",
      " #   Column      Non-Null Count  Dtype  \n",
      "---  ------      --------------  -----  \n",
      " 0   Unnamed: 0  1000 non-null   int64  \n",
      " 1   Make        1000 non-null   object \n",
      " 2   Model       1000 non-null   object \n",
      " 3   Year        1000 non-null   int64  \n",
      " 4   Mileage     1000 non-null   int64  \n",
      " 5   Condition   1000 non-null   object \n",
      " 6   Price       1000 non-null   float64\n",
      "dtypes: float64(1), int64(3), object(3)\n",
      "memory usage: 54.8+ KB\n"
     ]
    }
   ],
   "source": [
    "df.info()"
   ]
  },
  {
   "cell_type": "code",
   "execution_count": 5,
   "id": "f160a5c8",
   "metadata": {
    "execution": {
     "iopub.execute_input": "2024-02-10T10:56:08.429662Z",
     "iopub.status.busy": "2024-02-10T10:56:08.428949Z",
     "iopub.status.idle": "2024-02-10T10:56:08.439162Z",
     "shell.execute_reply": "2024-02-10T10:56:08.438016Z"
    },
    "papermill": {
     "duration": 0.020624,
     "end_time": "2024-02-10T10:56:08.441456",
     "exception": false,
     "start_time": "2024-02-10T10:56:08.420832",
     "status": "completed"
    },
    "tags": []
   },
   "outputs": [
    {
     "data": {
      "text/plain": [
       "Unnamed: 0    0\n",
       "Make          0\n",
       "Model         0\n",
       "Year          0\n",
       "Mileage       0\n",
       "Condition     0\n",
       "Price         0\n",
       "dtype: int64"
      ]
     },
     "execution_count": 5,
     "metadata": {},
     "output_type": "execute_result"
    }
   ],
   "source": [
    "df.isnull().sum()"
   ]
  },
  {
   "cell_type": "markdown",
   "id": "c44a9ee7",
   "metadata": {
    "papermill": {
     "duration": 0.00606,
     "end_time": "2024-02-10T10:56:08.453932",
     "exception": false,
     "start_time": "2024-02-10T10:56:08.447872",
     "status": "completed"
    },
    "tags": []
   },
   "source": [
    "# Data Preprocessing and Exploratory Data Analysis (EDA)"
   ]
  },
  {
   "cell_type": "markdown",
   "id": "991cceb9",
   "metadata": {
    "papermill": {
     "duration": 0.00597,
     "end_time": "2024-02-10T10:56:08.466257",
     "exception": false,
     "start_time": "2024-02-10T10:56:08.460287",
     "status": "completed"
    },
    "tags": []
   },
   "source": [
    "First, we don't need the column 'Unnamed 0'. So, we just drop it"
   ]
  },
  {
   "cell_type": "code",
   "execution_count": 6,
   "id": "bf556472",
   "metadata": {
    "execution": {
     "iopub.execute_input": "2024-02-10T10:56:08.480868Z",
     "iopub.status.busy": "2024-02-10T10:56:08.480461Z",
     "iopub.status.idle": "2024-02-10T10:56:08.498488Z",
     "shell.execute_reply": "2024-02-10T10:56:08.497007Z"
    },
    "papermill": {
     "duration": 0.028766,
     "end_time": "2024-02-10T10:56:08.501330",
     "exception": false,
     "start_time": "2024-02-10T10:56:08.472564",
     "status": "completed"
    },
    "tags": []
   },
   "outputs": [
    {
     "data": {
      "text/html": [
       "<div>\n",
       "<style scoped>\n",
       "    .dataframe tbody tr th:only-of-type {\n",
       "        vertical-align: middle;\n",
       "    }\n",
       "\n",
       "    .dataframe tbody tr th {\n",
       "        vertical-align: top;\n",
       "    }\n",
       "\n",
       "    .dataframe thead th {\n",
       "        text-align: right;\n",
       "    }\n",
       "</style>\n",
       "<table border=\"1\" class=\"dataframe\">\n",
       "  <thead>\n",
       "    <tr style=\"text-align: right;\">\n",
       "      <th></th>\n",
       "      <th>Make</th>\n",
       "      <th>Model</th>\n",
       "      <th>Year</th>\n",
       "      <th>Mileage</th>\n",
       "      <th>Condition</th>\n",
       "      <th>Price</th>\n",
       "    </tr>\n",
       "  </thead>\n",
       "  <tbody>\n",
       "    <tr>\n",
       "      <th>0</th>\n",
       "      <td>Ford</td>\n",
       "      <td>Silverado</td>\n",
       "      <td>2022</td>\n",
       "      <td>18107</td>\n",
       "      <td>Excellent</td>\n",
       "      <td>19094.75</td>\n",
       "    </tr>\n",
       "    <tr>\n",
       "      <th>1</th>\n",
       "      <td>Toyota</td>\n",
       "      <td>Silverado</td>\n",
       "      <td>2014</td>\n",
       "      <td>13578</td>\n",
       "      <td>Excellent</td>\n",
       "      <td>27321.10</td>\n",
       "    </tr>\n",
       "    <tr>\n",
       "      <th>2</th>\n",
       "      <td>Chevrolet</td>\n",
       "      <td>Civic</td>\n",
       "      <td>2016</td>\n",
       "      <td>46054</td>\n",
       "      <td>Good</td>\n",
       "      <td>23697.30</td>\n",
       "    </tr>\n",
       "    <tr>\n",
       "      <th>3</th>\n",
       "      <td>Ford</td>\n",
       "      <td>Civic</td>\n",
       "      <td>2022</td>\n",
       "      <td>34981</td>\n",
       "      <td>Excellent</td>\n",
       "      <td>18251.05</td>\n",
       "    </tr>\n",
       "    <tr>\n",
       "      <th>4</th>\n",
       "      <td>Chevrolet</td>\n",
       "      <td>Civic</td>\n",
       "      <td>2019</td>\n",
       "      <td>63565</td>\n",
       "      <td>Excellent</td>\n",
       "      <td>19821.85</td>\n",
       "    </tr>\n",
       "  </tbody>\n",
       "</table>\n",
       "</div>"
      ],
      "text/plain": [
       "        Make      Model  Year  Mileage  Condition     Price\n",
       "0       Ford  Silverado  2022    18107  Excellent  19094.75\n",
       "1     Toyota  Silverado  2014    13578  Excellent  27321.10\n",
       "2  Chevrolet      Civic  2016    46054       Good  23697.30\n",
       "3       Ford      Civic  2022    34981  Excellent  18251.05\n",
       "4  Chevrolet      Civic  2019    63565  Excellent  19821.85"
      ]
     },
     "execution_count": 6,
     "metadata": {},
     "output_type": "execute_result"
    }
   ],
   "source": [
    "df =df.drop(['Unnamed: 0'], axis = 1)\n",
    "df.head()"
   ]
  },
  {
   "cell_type": "markdown",
   "id": "0f5db5c6",
   "metadata": {
    "papermill": {
     "duration": 0.006714,
     "end_time": "2024-02-10T10:56:08.514907",
     "exception": false,
     "start_time": "2024-02-10T10:56:08.508193",
     "status": "completed"
    },
    "tags": []
   },
   "source": [
    "And now, we can convert the 'condition' column into numerical form"
   ]
  },
  {
   "cell_type": "code",
   "execution_count": 7,
   "id": "0771705d",
   "metadata": {
    "execution": {
     "iopub.execute_input": "2024-02-10T10:56:08.531502Z",
     "iopub.status.busy": "2024-02-10T10:56:08.530357Z",
     "iopub.status.idle": "2024-02-10T10:56:08.541901Z",
     "shell.execute_reply": "2024-02-10T10:56:08.540722Z"
    },
    "papermill": {
     "duration": 0.022788,
     "end_time": "2024-02-10T10:56:08.544359",
     "exception": false,
     "start_time": "2024-02-10T10:56:08.521571",
     "status": "completed"
    },
    "tags": []
   },
   "outputs": [
    {
     "data": {
      "text/plain": [
       "Condition\n",
       "Excellent    595\n",
       "Good         292\n",
       "Fair         113\n",
       "Name: count, dtype: int64"
      ]
     },
     "execution_count": 7,
     "metadata": {},
     "output_type": "execute_result"
    }
   ],
   "source": [
    "df['Condition'].value_counts()"
   ]
  },
  {
   "cell_type": "code",
   "execution_count": 8,
   "id": "6dc64116",
   "metadata": {
    "execution": {
     "iopub.execute_input": "2024-02-10T10:56:08.560144Z",
     "iopub.status.busy": "2024-02-10T10:56:08.559733Z",
     "iopub.status.idle": "2024-02-10T10:56:08.574246Z",
     "shell.execute_reply": "2024-02-10T10:56:08.573472Z"
    },
    "papermill": {
     "duration": 0.025145,
     "end_time": "2024-02-10T10:56:08.576681",
     "exception": false,
     "start_time": "2024-02-10T10:56:08.551536",
     "status": "completed"
    },
    "tags": []
   },
   "outputs": [
    {
     "data": {
      "text/html": [
       "<div>\n",
       "<style scoped>\n",
       "    .dataframe tbody tr th:only-of-type {\n",
       "        vertical-align: middle;\n",
       "    }\n",
       "\n",
       "    .dataframe tbody tr th {\n",
       "        vertical-align: top;\n",
       "    }\n",
       "\n",
       "    .dataframe thead th {\n",
       "        text-align: right;\n",
       "    }\n",
       "</style>\n",
       "<table border=\"1\" class=\"dataframe\">\n",
       "  <thead>\n",
       "    <tr style=\"text-align: right;\">\n",
       "      <th></th>\n",
       "      <th>Make</th>\n",
       "      <th>Model</th>\n",
       "      <th>Year</th>\n",
       "      <th>Mileage</th>\n",
       "      <th>Condition</th>\n",
       "      <th>Price</th>\n",
       "    </tr>\n",
       "  </thead>\n",
       "  <tbody>\n",
       "    <tr>\n",
       "      <th>0</th>\n",
       "      <td>Ford</td>\n",
       "      <td>Silverado</td>\n",
       "      <td>2022</td>\n",
       "      <td>18107</td>\n",
       "      <td>2</td>\n",
       "      <td>19094.75</td>\n",
       "    </tr>\n",
       "    <tr>\n",
       "      <th>1</th>\n",
       "      <td>Toyota</td>\n",
       "      <td>Silverado</td>\n",
       "      <td>2014</td>\n",
       "      <td>13578</td>\n",
       "      <td>2</td>\n",
       "      <td>27321.10</td>\n",
       "    </tr>\n",
       "    <tr>\n",
       "      <th>2</th>\n",
       "      <td>Chevrolet</td>\n",
       "      <td>Civic</td>\n",
       "      <td>2016</td>\n",
       "      <td>46054</td>\n",
       "      <td>1</td>\n",
       "      <td>23697.30</td>\n",
       "    </tr>\n",
       "    <tr>\n",
       "      <th>3</th>\n",
       "      <td>Ford</td>\n",
       "      <td>Civic</td>\n",
       "      <td>2022</td>\n",
       "      <td>34981</td>\n",
       "      <td>2</td>\n",
       "      <td>18251.05</td>\n",
       "    </tr>\n",
       "    <tr>\n",
       "      <th>4</th>\n",
       "      <td>Chevrolet</td>\n",
       "      <td>Civic</td>\n",
       "      <td>2019</td>\n",
       "      <td>63565</td>\n",
       "      <td>2</td>\n",
       "      <td>19821.85</td>\n",
       "    </tr>\n",
       "  </tbody>\n",
       "</table>\n",
       "</div>"
      ],
      "text/plain": [
       "        Make      Model  Year  Mileage  Condition     Price\n",
       "0       Ford  Silverado  2022    18107          2  19094.75\n",
       "1     Toyota  Silverado  2014    13578          2  27321.10\n",
       "2  Chevrolet      Civic  2016    46054          1  23697.30\n",
       "3       Ford      Civic  2022    34981          2  18251.05\n",
       "4  Chevrolet      Civic  2019    63565          2  19821.85"
      ]
     },
     "execution_count": 8,
     "metadata": {},
     "output_type": "execute_result"
    }
   ],
   "source": [
    "condition_mapping = {'Excellent': 2, 'Good': 1, 'Fair': 0}\n",
    "\n",
    "df['Condition'] = df['Condition'].map(condition_mapping)\n",
    "df.head()"
   ]
  },
  {
   "cell_type": "markdown",
   "id": "b7eb05a5",
   "metadata": {
    "papermill": {
     "duration": 0.006984,
     "end_time": "2024-02-10T10:56:08.591221",
     "exception": false,
     "start_time": "2024-02-10T10:56:08.584237",
     "status": "completed"
    },
    "tags": []
   },
   "source": [
    "# Model Building"
   ]
  },
  {
   "cell_type": "code",
   "execution_count": null,
   "id": "1f66a976",
   "metadata": {
    "papermill": {
     "duration": 0.006757,
     "end_time": "2024-02-10T10:56:08.605286",
     "exception": false,
     "start_time": "2024-02-10T10:56:08.598529",
     "status": "completed"
    },
    "tags": []
   },
   "outputs": [],
   "source": []
  },
  {
   "cell_type": "markdown",
   "id": "817be597",
   "metadata": {
    "papermill": {
     "duration": 0.006562,
     "end_time": "2024-02-10T10:56:08.618770",
     "exception": false,
     "start_time": "2024-02-10T10:56:08.612208",
     "status": "completed"
    },
    "tags": []
   },
   "source": [
    "# Model Evaluation"
   ]
  },
  {
   "cell_type": "code",
   "execution_count": null,
   "id": "cfd4992d",
   "metadata": {
    "papermill": {
     "duration": 0.007432,
     "end_time": "2024-02-10T10:56:08.633180",
     "exception": false,
     "start_time": "2024-02-10T10:56:08.625748",
     "status": "completed"
    },
    "tags": []
   },
   "outputs": [],
   "source": []
  }
 ],
 "metadata": {
  "kaggle": {
   "accelerator": "none",
   "dataSources": [
    {
     "datasetId": 4424223,
     "sourceId": 7600123,
     "sourceType": "datasetVersion"
    }
   ],
   "dockerImageVersionId": 30646,
   "isGpuEnabled": false,
   "isInternetEnabled": true,
   "language": "python",
   "sourceType": "notebook"
  },
  "kernelspec": {
   "display_name": "Python 3",
   "language": "python",
   "name": "python3"
  },
  "language_info": {
   "codemirror_mode": {
    "name": "ipython",
    "version": 3
   },
   "file_extension": ".py",
   "mimetype": "text/x-python",
   "name": "python",
   "nbconvert_exporter": "python",
   "pygments_lexer": "ipython3",
   "version": "3.10.13"
  },
  "papermill": {
   "default_parameters": {},
   "duration": 5.146184,
   "end_time": "2024-02-10T10:56:09.162157",
   "environment_variables": {},
   "exception": null,
   "input_path": "__notebook__.ipynb",
   "output_path": "__notebook__.ipynb",
   "parameters": {},
   "start_time": "2024-02-10T10:56:04.015973",
   "version": "2.5.0"
  }
 },
 "nbformat": 4,
 "nbformat_minor": 5
}
