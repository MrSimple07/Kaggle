{
 "cells": [
  {
   "cell_type": "code",
   "execution_count": 1,
   "id": "feaec06d",
   "metadata": {
    "_cell_guid": "b1076dfc-b9ad-4769-8c92-a6c4dae69d19",
    "_uuid": "8f2839f25d086af736a60e9eeb907d3b93b6e0e5",
    "execution": {
     "iopub.execute_input": "2024-02-19T12:10:18.349266Z",
     "iopub.status.busy": "2024-02-19T12:10:18.348659Z",
     "iopub.status.idle": "2024-02-19T12:10:19.480618Z",
     "shell.execute_reply": "2024-02-19T12:10:19.479253Z"
    },
    "papermill": {
     "duration": 1.140292,
     "end_time": "2024-02-19T12:10:19.483840",
     "exception": false,
     "start_time": "2024-02-19T12:10:18.343548",
     "status": "completed"
    },
    "tags": []
   },
   "outputs": [
    {
     "name": "stdout",
     "output_type": "stream",
     "text": [
      "/kaggle/input/diabetes-prediction/Diabetes_prediction.csv\n"
     ]
    }
   ],
   "source": [
    "# This Python 3 environment comes with many helpful analytics libraries installed\n",
    "# It is defined by the kaggle/python Docker image: https://github.com/kaggle/docker-python\n",
    "# For example, here's several helpful packages to load\n",
    "\n",
    "import numpy as np # linear algebra\n",
    "import pandas as pd # data processing, CSV file I/O (e.g. pd.read_csv)\n",
    "\n",
    "# Input data files are available in the read-only \"../input/\" directory\n",
    "# For example, running this (by clicking run or pressing Shift+Enter) will list all files under the input directory\n",
    "\n",
    "import os\n",
    "for dirname, _, filenames in os.walk('/kaggle/input'):\n",
    "    for filename in filenames:\n",
    "        print(os.path.join(dirname, filename))\n",
    "\n",
    "# You can write up to 20GB to the current directory (/kaggle/working/) that gets preserved as output when you create a version using \"Save & Run All\" \n",
    "# You can also write temporary files to /kaggle/temp/, but they won't be saved outside of the current session"
   ]
  },
  {
   "cell_type": "code",
   "execution_count": 2,
   "id": "f3383313",
   "metadata": {
    "execution": {
     "iopub.execute_input": "2024-02-19T12:10:19.492178Z",
     "iopub.status.busy": "2024-02-19T12:10:19.491437Z",
     "iopub.status.idle": "2024-02-19T12:10:19.539159Z",
     "shell.execute_reply": "2024-02-19T12:10:19.537647Z"
    },
    "papermill": {
     "duration": 0.055819,
     "end_time": "2024-02-19T12:10:19.542764",
     "exception": false,
     "start_time": "2024-02-19T12:10:19.486945",
     "status": "completed"
    },
    "tags": []
   },
   "outputs": [
    {
     "data": {
      "text/html": [
       "<div>\n",
       "<style scoped>\n",
       "    .dataframe tbody tr th:only-of-type {\n",
       "        vertical-align: middle;\n",
       "    }\n",
       "\n",
       "    .dataframe tbody tr th {\n",
       "        vertical-align: top;\n",
       "    }\n",
       "\n",
       "    .dataframe thead th {\n",
       "        text-align: right;\n",
       "    }\n",
       "</style>\n",
       "<table border=\"1\" class=\"dataframe\">\n",
       "  <thead>\n",
       "    <tr style=\"text-align: right;\">\n",
       "      <th></th>\n",
       "      <th>Pregnancies</th>\n",
       "      <th>Glucose</th>\n",
       "      <th>BloodPressure</th>\n",
       "      <th>SkinThickness</th>\n",
       "      <th>Insulin</th>\n",
       "      <th>BMI</th>\n",
       "      <th>DiabetesPedigreeFunction</th>\n",
       "      <th>Age</th>\n",
       "      <th>Diagnosis</th>\n",
       "    </tr>\n",
       "  </thead>\n",
       "  <tbody>\n",
       "    <tr>\n",
       "      <th>0</th>\n",
       "      <td>2</td>\n",
       "      <td>115.863387</td>\n",
       "      <td>56.410731</td>\n",
       "      <td>24.336736</td>\n",
       "      <td>94.385783</td>\n",
       "      <td>26.455940</td>\n",
       "      <td>0.272682</td>\n",
       "      <td>20.100494</td>\n",
       "      <td>0</td>\n",
       "    </tr>\n",
       "    <tr>\n",
       "      <th>1</th>\n",
       "      <td>2</td>\n",
       "      <td>92.490122</td>\n",
       "      <td>70.615520</td>\n",
       "      <td>23.443591</td>\n",
       "      <td>138.652426</td>\n",
       "      <td>23.910167</td>\n",
       "      <td>0.665160</td>\n",
       "      <td>44.912281</td>\n",
       "      <td>0</td>\n",
       "    </tr>\n",
       "    <tr>\n",
       "      <th>2</th>\n",
       "      <td>1</td>\n",
       "      <td>88.141469</td>\n",
       "      <td>63.262618</td>\n",
       "      <td>23.404364</td>\n",
       "      <td>149.358082</td>\n",
       "      <td>21.948250</td>\n",
       "      <td>0.676022</td>\n",
       "      <td>48.247873</td>\n",
       "      <td>1</td>\n",
       "    </tr>\n",
       "    <tr>\n",
       "      <th>3</th>\n",
       "      <td>2</td>\n",
       "      <td>108.453101</td>\n",
       "      <td>67.793632</td>\n",
       "      <td>20.751580</td>\n",
       "      <td>108.751638</td>\n",
       "      <td>24.209304</td>\n",
       "      <td>0.289636</td>\n",
       "      <td>42.749868</td>\n",
       "      <td>0</td>\n",
       "    </tr>\n",
       "    <tr>\n",
       "      <th>4</th>\n",
       "      <td>1</td>\n",
       "      <td>127.849443</td>\n",
       "      <td>94.725685</td>\n",
       "      <td>22.603078</td>\n",
       "      <td>25.269987</td>\n",
       "      <td>32.997477</td>\n",
       "      <td>0.601315</td>\n",
       "      <td>32.797789</td>\n",
       "      <td>0</td>\n",
       "    </tr>\n",
       "  </tbody>\n",
       "</table>\n",
       "</div>"
      ],
      "text/plain": [
       "   Pregnancies     Glucose  BloodPressure  SkinThickness     Insulin  \\\n",
       "0            2  115.863387      56.410731      24.336736   94.385783   \n",
       "1            2   92.490122      70.615520      23.443591  138.652426   \n",
       "2            1   88.141469      63.262618      23.404364  149.358082   \n",
       "3            2  108.453101      67.793632      20.751580  108.751638   \n",
       "4            1  127.849443      94.725685      22.603078   25.269987   \n",
       "\n",
       "         BMI  DiabetesPedigreeFunction        Age  Diagnosis  \n",
       "0  26.455940                  0.272682  20.100494          0  \n",
       "1  23.910167                  0.665160  44.912281          0  \n",
       "2  21.948250                  0.676022  48.247873          1  \n",
       "3  24.209304                  0.289636  42.749868          0  \n",
       "4  32.997477                  0.601315  32.797789          0  "
      ]
     },
     "execution_count": 2,
     "metadata": {},
     "output_type": "execute_result"
    }
   ],
   "source": [
    "import pandas as pd\n",
    "\n",
    "df = pd.read_csv('/kaggle/input/diabetes-prediction/Diabetes_prediction.csv')\n",
    "df.head()"
   ]
  },
  {
   "cell_type": "code",
   "execution_count": null,
   "id": "fa7ea47a",
   "metadata": {
    "papermill": {
     "duration": 0.002552,
     "end_time": "2024-02-19T12:10:19.548309",
     "exception": false,
     "start_time": "2024-02-19T12:10:19.545757",
     "status": "completed"
    },
    "tags": []
   },
   "outputs": [],
   "source": []
  }
 ],
 "metadata": {
  "kaggle": {
   "accelerator": "none",
   "dataSources": [
    {
     "datasetId": 4463541,
     "sourceId": 7655840,
     "sourceType": "datasetVersion"
    }
   ],
   "dockerImageVersionId": 30646,
   "isGpuEnabled": false,
   "isInternetEnabled": true,
   "language": "python",
   "sourceType": "notebook"
  },
  "kernelspec": {
   "display_name": "Python 3",
   "language": "python",
   "name": "python3"
  },
  "language_info": {
   "codemirror_mode": {
    "name": "ipython",
    "version": 3
   },
   "file_extension": ".py",
   "mimetype": "text/x-python",
   "name": "python",
   "nbconvert_exporter": "python",
   "pygments_lexer": "ipython3",
   "version": "3.10.13"
  },
  "papermill": {
   "default_parameters": {},
   "duration": 4.842951,
   "end_time": "2024-02-19T12:10:20.074464",
   "environment_variables": {},
   "exception": null,
   "input_path": "__notebook__.ipynb",
   "output_path": "__notebook__.ipynb",
   "parameters": {},
   "start_time": "2024-02-19T12:10:15.231513",
   "version": "2.5.0"
  }
 },
 "nbformat": 4,
 "nbformat_minor": 5
}
