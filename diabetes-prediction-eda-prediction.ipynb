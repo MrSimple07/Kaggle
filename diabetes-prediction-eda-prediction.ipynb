{
 "cells": [
  {
   "cell_type": "code",
   "execution_count": 1,
   "id": "098ed7e6",
   "metadata": {
    "_cell_guid": "b1076dfc-b9ad-4769-8c92-a6c4dae69d19",
    "_uuid": "8f2839f25d086af736a60e9eeb907d3b93b6e0e5",
    "execution": {
     "iopub.execute_input": "2024-02-19T12:15:14.981377Z",
     "iopub.status.busy": "2024-02-19T12:15:14.979999Z",
     "iopub.status.idle": "2024-02-19T12:15:16.013482Z",
     "shell.execute_reply": "2024-02-19T12:15:16.012053Z"
    },
    "papermill": {
     "duration": 1.045878,
     "end_time": "2024-02-19T12:15:16.016761",
     "exception": false,
     "start_time": "2024-02-19T12:15:14.970883",
     "status": "completed"
    },
    "tags": []
   },
   "outputs": [
    {
     "name": "stdout",
     "output_type": "stream",
     "text": [
      "/kaggle/input/diabetes-prediction/Diabetes_prediction.csv\n"
     ]
    }
   ],
   "source": [
    "# This Python 3 environment comes with many helpful analytics libraries installed\n",
    "# It is defined by the kaggle/python Docker image: https://github.com/kaggle/docker-python\n",
    "# For example, here's several helpful packages to load\n",
    "\n",
    "import numpy as np # linear algebra\n",
    "import pandas as pd # data processing, CSV file I/O (e.g. pd.read_csv)\n",
    "\n",
    "# Input data files are available in the read-only \"../input/\" directory\n",
    "# For example, running this (by clicking run or pressing Shift+Enter) will list all files under the input directory\n",
    "\n",
    "import os\n",
    "for dirname, _, filenames in os.walk('/kaggle/input'):\n",
    "    for filename in filenames:\n",
    "        print(os.path.join(dirname, filename))\n",
    "\n",
    "# You can write up to 20GB to the current directory (/kaggle/working/) that gets preserved as output when you create a version using \"Save & Run All\" \n",
    "# You can also write temporary files to /kaggle/temp/, but they won't be saved outside of the current session"
   ]
  },
  {
   "cell_type": "markdown",
   "id": "2612c2da",
   "metadata": {
    "papermill": {
     "duration": 0.004493,
     "end_time": "2024-02-19T12:15:16.026408",
     "exception": false,
     "start_time": "2024-02-19T12:15:16.021915",
     "status": "completed"
    },
    "tags": []
   },
   "source": [
    "# Importing data and overall data analysis"
   ]
  },
  {
   "cell_type": "code",
   "execution_count": 2,
   "id": "a6deb50b",
   "metadata": {
    "execution": {
     "iopub.execute_input": "2024-02-19T12:15:16.038413Z",
     "iopub.status.busy": "2024-02-19T12:15:16.037773Z",
     "iopub.status.idle": "2024-02-19T12:15:16.086694Z",
     "shell.execute_reply": "2024-02-19T12:15:16.085058Z"
    },
    "papermill": {
     "duration": 0.058757,
     "end_time": "2024-02-19T12:15:16.089963",
     "exception": false,
     "start_time": "2024-02-19T12:15:16.031206",
     "status": "completed"
    },
    "tags": []
   },
   "outputs": [
    {
     "data": {
      "text/html": [
       "<div>\n",
       "<style scoped>\n",
       "    .dataframe tbody tr th:only-of-type {\n",
       "        vertical-align: middle;\n",
       "    }\n",
       "\n",
       "    .dataframe tbody tr th {\n",
       "        vertical-align: top;\n",
       "    }\n",
       "\n",
       "    .dataframe thead th {\n",
       "        text-align: right;\n",
       "    }\n",
       "</style>\n",
       "<table border=\"1\" class=\"dataframe\">\n",
       "  <thead>\n",
       "    <tr style=\"text-align: right;\">\n",
       "      <th></th>\n",
       "      <th>Pregnancies</th>\n",
       "      <th>Glucose</th>\n",
       "      <th>BloodPressure</th>\n",
       "      <th>SkinThickness</th>\n",
       "      <th>Insulin</th>\n",
       "      <th>BMI</th>\n",
       "      <th>DiabetesPedigreeFunction</th>\n",
       "      <th>Age</th>\n",
       "      <th>Diagnosis</th>\n",
       "    </tr>\n",
       "  </thead>\n",
       "  <tbody>\n",
       "    <tr>\n",
       "      <th>0</th>\n",
       "      <td>2</td>\n",
       "      <td>115.863387</td>\n",
       "      <td>56.410731</td>\n",
       "      <td>24.336736</td>\n",
       "      <td>94.385783</td>\n",
       "      <td>26.455940</td>\n",
       "      <td>0.272682</td>\n",
       "      <td>20.100494</td>\n",
       "      <td>0</td>\n",
       "    </tr>\n",
       "    <tr>\n",
       "      <th>1</th>\n",
       "      <td>2</td>\n",
       "      <td>92.490122</td>\n",
       "      <td>70.615520</td>\n",
       "      <td>23.443591</td>\n",
       "      <td>138.652426</td>\n",
       "      <td>23.910167</td>\n",
       "      <td>0.665160</td>\n",
       "      <td>44.912281</td>\n",
       "      <td>0</td>\n",
       "    </tr>\n",
       "    <tr>\n",
       "      <th>2</th>\n",
       "      <td>1</td>\n",
       "      <td>88.141469</td>\n",
       "      <td>63.262618</td>\n",
       "      <td>23.404364</td>\n",
       "      <td>149.358082</td>\n",
       "      <td>21.948250</td>\n",
       "      <td>0.676022</td>\n",
       "      <td>48.247873</td>\n",
       "      <td>1</td>\n",
       "    </tr>\n",
       "    <tr>\n",
       "      <th>3</th>\n",
       "      <td>2</td>\n",
       "      <td>108.453101</td>\n",
       "      <td>67.793632</td>\n",
       "      <td>20.751580</td>\n",
       "      <td>108.751638</td>\n",
       "      <td>24.209304</td>\n",
       "      <td>0.289636</td>\n",
       "      <td>42.749868</td>\n",
       "      <td>0</td>\n",
       "    </tr>\n",
       "    <tr>\n",
       "      <th>4</th>\n",
       "      <td>1</td>\n",
       "      <td>127.849443</td>\n",
       "      <td>94.725685</td>\n",
       "      <td>22.603078</td>\n",
       "      <td>25.269987</td>\n",
       "      <td>32.997477</td>\n",
       "      <td>0.601315</td>\n",
       "      <td>32.797789</td>\n",
       "      <td>0</td>\n",
       "    </tr>\n",
       "  </tbody>\n",
       "</table>\n",
       "</div>"
      ],
      "text/plain": [
       "   Pregnancies     Glucose  BloodPressure  SkinThickness     Insulin  \\\n",
       "0            2  115.863387      56.410731      24.336736   94.385783   \n",
       "1            2   92.490122      70.615520      23.443591  138.652426   \n",
       "2            1   88.141469      63.262618      23.404364  149.358082   \n",
       "3            2  108.453101      67.793632      20.751580  108.751638   \n",
       "4            1  127.849443      94.725685      22.603078   25.269987   \n",
       "\n",
       "         BMI  DiabetesPedigreeFunction        Age  Diagnosis  \n",
       "0  26.455940                  0.272682  20.100494          0  \n",
       "1  23.910167                  0.665160  44.912281          0  \n",
       "2  21.948250                  0.676022  48.247873          1  \n",
       "3  24.209304                  0.289636  42.749868          0  \n",
       "4  32.997477                  0.601315  32.797789          0  "
      ]
     },
     "execution_count": 2,
     "metadata": {},
     "output_type": "execute_result"
    }
   ],
   "source": [
    "import pandas as pd\n",
    "\n",
    "df = pd.read_csv('/kaggle/input/diabetes-prediction/Diabetes_prediction.csv')\n",
    "df.head()"
   ]
  },
  {
   "cell_type": "code",
   "execution_count": 3,
   "id": "9b524e88",
   "metadata": {
    "execution": {
     "iopub.execute_input": "2024-02-19T12:15:16.103983Z",
     "iopub.status.busy": "2024-02-19T12:15:16.103501Z",
     "iopub.status.idle": "2024-02-19T12:15:16.160155Z",
     "shell.execute_reply": "2024-02-19T12:15:16.158301Z"
    },
    "papermill": {
     "duration": 0.06732,
     "end_time": "2024-02-19T12:15:16.163747",
     "exception": false,
     "start_time": "2024-02-19T12:15:16.096427",
     "status": "completed"
    },
    "tags": []
   },
   "outputs": [
    {
     "data": {
      "text/html": [
       "<div>\n",
       "<style scoped>\n",
       "    .dataframe tbody tr th:only-of-type {\n",
       "        vertical-align: middle;\n",
       "    }\n",
       "\n",
       "    .dataframe tbody tr th {\n",
       "        vertical-align: top;\n",
       "    }\n",
       "\n",
       "    .dataframe thead th {\n",
       "        text-align: right;\n",
       "    }\n",
       "</style>\n",
       "<table border=\"1\" class=\"dataframe\">\n",
       "  <thead>\n",
       "    <tr style=\"text-align: right;\">\n",
       "      <th></th>\n",
       "      <th>Pregnancies</th>\n",
       "      <th>Glucose</th>\n",
       "      <th>BloodPressure</th>\n",
       "      <th>SkinThickness</th>\n",
       "      <th>Insulin</th>\n",
       "      <th>BMI</th>\n",
       "      <th>DiabetesPedigreeFunction</th>\n",
       "      <th>Age</th>\n",
       "      <th>Diagnosis</th>\n",
       "    </tr>\n",
       "  </thead>\n",
       "  <tbody>\n",
       "    <tr>\n",
       "      <th>count</th>\n",
       "      <td>1000.000000</td>\n",
       "      <td>1000.000000</td>\n",
       "      <td>1000.000000</td>\n",
       "      <td>1000.000000</td>\n",
       "      <td>1000.000000</td>\n",
       "      <td>1000.000000</td>\n",
       "      <td>1000.000000</td>\n",
       "      <td>1000.000000</td>\n",
       "      <td>1000.00000</td>\n",
       "    </tr>\n",
       "    <tr>\n",
       "      <th>mean</th>\n",
       "      <td>1.771000</td>\n",
       "      <td>99.440607</td>\n",
       "      <td>72.179837</td>\n",
       "      <td>23.278316</td>\n",
       "      <td>84.582679</td>\n",
       "      <td>25.433600</td>\n",
       "      <td>0.449383</td>\n",
       "      <td>43.281798</td>\n",
       "      <td>0.30600</td>\n",
       "    </tr>\n",
       "    <tr>\n",
       "      <th>std</th>\n",
       "      <td>1.354398</td>\n",
       "      <td>19.470730</td>\n",
       "      <td>13.882017</td>\n",
       "      <td>1.173807</td>\n",
       "      <td>74.872733</td>\n",
       "      <td>3.690223</td>\n",
       "      <td>0.199334</td>\n",
       "      <td>14.465398</td>\n",
       "      <td>0.46106</td>\n",
       "    </tr>\n",
       "    <tr>\n",
       "      <th>min</th>\n",
       "      <td>0.000000</td>\n",
       "      <td>30.571402</td>\n",
       "      <td>31.401487</td>\n",
       "      <td>19.369987</td>\n",
       "      <td>-165.310033</td>\n",
       "      <td>13.548818</td>\n",
       "      <td>0.100037</td>\n",
       "      <td>-0.979804</td>\n",
       "      <td>0.00000</td>\n",
       "    </tr>\n",
       "    <tr>\n",
       "      <th>25%</th>\n",
       "      <td>1.000000</td>\n",
       "      <td>86.145927</td>\n",
       "      <td>62.795447</td>\n",
       "      <td>22.501591</td>\n",
       "      <td>35.076535</td>\n",
       "      <td>23.022715</td>\n",
       "      <td>0.283376</td>\n",
       "      <td>33.518451</td>\n",
       "      <td>0.00000</td>\n",
       "    </tr>\n",
       "    <tr>\n",
       "      <th>50%</th>\n",
       "      <td>2.000000</td>\n",
       "      <td>99.458362</td>\n",
       "      <td>71.909588</td>\n",
       "      <td>23.275225</td>\n",
       "      <td>84.442232</td>\n",
       "      <td>25.455649</td>\n",
       "      <td>0.448219</td>\n",
       "      <td>43.634273</td>\n",
       "      <td>0.00000</td>\n",
       "    </tr>\n",
       "    <tr>\n",
       "      <th>75%</th>\n",
       "      <td>3.000000</td>\n",
       "      <td>113.264556</td>\n",
       "      <td>82.082660</td>\n",
       "      <td>24.052022</td>\n",
       "      <td>134.267842</td>\n",
       "      <td>27.972184</td>\n",
       "      <td>0.619158</td>\n",
       "      <td>53.098446</td>\n",
       "      <td>1.00000</td>\n",
       "    </tr>\n",
       "    <tr>\n",
       "      <th>max</th>\n",
       "      <td>8.000000</td>\n",
       "      <td>161.238939</td>\n",
       "      <td>110.723715</td>\n",
       "      <td>26.917654</td>\n",
       "      <td>317.701852</td>\n",
       "      <td>36.324598</td>\n",
       "      <td>0.799654</td>\n",
       "      <td>90.573782</td>\n",
       "      <td>1.00000</td>\n",
       "    </tr>\n",
       "  </tbody>\n",
       "</table>\n",
       "</div>"
      ],
      "text/plain": [
       "       Pregnancies      Glucose  BloodPressure  SkinThickness      Insulin  \\\n",
       "count  1000.000000  1000.000000    1000.000000    1000.000000  1000.000000   \n",
       "mean      1.771000    99.440607      72.179837      23.278316    84.582679   \n",
       "std       1.354398    19.470730      13.882017       1.173807    74.872733   \n",
       "min       0.000000    30.571402      31.401487      19.369987  -165.310033   \n",
       "25%       1.000000    86.145927      62.795447      22.501591    35.076535   \n",
       "50%       2.000000    99.458362      71.909588      23.275225    84.442232   \n",
       "75%       3.000000   113.264556      82.082660      24.052022   134.267842   \n",
       "max       8.000000   161.238939     110.723715      26.917654   317.701852   \n",
       "\n",
       "               BMI  DiabetesPedigreeFunction          Age   Diagnosis  \n",
       "count  1000.000000               1000.000000  1000.000000  1000.00000  \n",
       "mean     25.433600                  0.449383    43.281798     0.30600  \n",
       "std       3.690223                  0.199334    14.465398     0.46106  \n",
       "min      13.548818                  0.100037    -0.979804     0.00000  \n",
       "25%      23.022715                  0.283376    33.518451     0.00000  \n",
       "50%      25.455649                  0.448219    43.634273     0.00000  \n",
       "75%      27.972184                  0.619158    53.098446     1.00000  \n",
       "max      36.324598                  0.799654    90.573782     1.00000  "
      ]
     },
     "execution_count": 3,
     "metadata": {},
     "output_type": "execute_result"
    }
   ],
   "source": [
    "df.describe()"
   ]
  },
  {
   "cell_type": "code",
   "execution_count": 4,
   "id": "da28a071",
   "metadata": {
    "execution": {
     "iopub.execute_input": "2024-02-19T12:15:16.178361Z",
     "iopub.status.busy": "2024-02-19T12:15:16.177622Z",
     "iopub.status.idle": "2024-02-19T12:15:16.202508Z",
     "shell.execute_reply": "2024-02-19T12:15:16.200858Z"
    },
    "papermill": {
     "duration": 0.035685,
     "end_time": "2024-02-19T12:15:16.205843",
     "exception": false,
     "start_time": "2024-02-19T12:15:16.170158",
     "status": "completed"
    },
    "tags": []
   },
   "outputs": [
    {
     "name": "stdout",
     "output_type": "stream",
     "text": [
      "<class 'pandas.core.frame.DataFrame'>\n",
      "RangeIndex: 1000 entries, 0 to 999\n",
      "Data columns (total 9 columns):\n",
      " #   Column                    Non-Null Count  Dtype  \n",
      "---  ------                    --------------  -----  \n",
      " 0   Pregnancies               1000 non-null   int64  \n",
      " 1   Glucose                   1000 non-null   float64\n",
      " 2   BloodPressure             1000 non-null   float64\n",
      " 3   SkinThickness             1000 non-null   float64\n",
      " 4   Insulin                   1000 non-null   float64\n",
      " 5   BMI                       1000 non-null   float64\n",
      " 6   DiabetesPedigreeFunction  1000 non-null   float64\n",
      " 7   Age                       1000 non-null   float64\n",
      " 8   Diagnosis                 1000 non-null   int64  \n",
      "dtypes: float64(7), int64(2)\n",
      "memory usage: 70.4 KB\n"
     ]
    }
   ],
   "source": [
    "df.info()"
   ]
  },
  {
   "cell_type": "markdown",
   "id": "59281d07",
   "metadata": {
    "papermill": {
     "duration": 0.005929,
     "end_time": "2024-02-19T12:15:16.217714",
     "exception": false,
     "start_time": "2024-02-19T12:15:16.211785",
     "status": "completed"
    },
    "tags": []
   },
   "source": [
    "Checking missing values"
   ]
  },
  {
   "cell_type": "code",
   "execution_count": 5,
   "id": "b9c3e2cc",
   "metadata": {
    "execution": {
     "iopub.execute_input": "2024-02-19T12:15:16.232525Z",
     "iopub.status.busy": "2024-02-19T12:15:16.231691Z",
     "iopub.status.idle": "2024-02-19T12:15:16.241640Z",
     "shell.execute_reply": "2024-02-19T12:15:16.240238Z"
    },
    "papermill": {
     "duration": 0.021225,
     "end_time": "2024-02-19T12:15:16.245394",
     "exception": false,
     "start_time": "2024-02-19T12:15:16.224169",
     "status": "completed"
    },
    "tags": []
   },
   "outputs": [
    {
     "data": {
      "text/plain": [
       "Pregnancies                 0\n",
       "Glucose                     0\n",
       "BloodPressure               0\n",
       "SkinThickness               0\n",
       "Insulin                     0\n",
       "BMI                         0\n",
       "DiabetesPedigreeFunction    0\n",
       "Age                         0\n",
       "Diagnosis                   0\n",
       "dtype: int64"
      ]
     },
     "execution_count": 5,
     "metadata": {},
     "output_type": "execute_result"
    }
   ],
   "source": [
    "df.isnull().sum()"
   ]
  },
  {
   "cell_type": "markdown",
   "id": "5beb3d17",
   "metadata": {
    "papermill": {
     "duration": 0.007843,
     "end_time": "2024-02-19T12:15:16.259218",
     "exception": false,
     "start_time": "2024-02-19T12:15:16.251375",
     "status": "completed"
    },
    "tags": []
   },
   "source": [
    "# Exploratory Data Analysis (EDA)\n",
    "In this section, we will perform exploratory data analysis to gain insights into the dataset and understand the distribution of features."
   ]
  },
  {
   "cell_type": "code",
   "execution_count": null,
   "id": "4cd29a6c",
   "metadata": {
    "papermill": {
     "duration": 0.005741,
     "end_time": "2024-02-19T12:15:16.270761",
     "exception": false,
     "start_time": "2024-02-19T12:15:16.265020",
     "status": "completed"
    },
    "tags": []
   },
   "outputs": [],
   "source": []
  },
  {
   "cell_type": "markdown",
   "id": "a12d17de",
   "metadata": {
    "papermill": {
     "duration": 0.005961,
     "end_time": "2024-02-19T12:15:16.283140",
     "exception": false,
     "start_time": "2024-02-19T12:15:16.277179",
     "status": "completed"
    },
    "tags": []
   },
   "source": [
    "# Model Selection & Evaluation"
   ]
  },
  {
   "cell_type": "code",
   "execution_count": 6,
   "id": "5fa869f1",
   "metadata": {
    "execution": {
     "iopub.execute_input": "2024-02-19T12:15:16.298824Z",
     "iopub.status.busy": "2024-02-19T12:15:16.297586Z",
     "iopub.status.idle": "2024-02-19T12:15:21.042246Z",
     "shell.execute_reply": "2024-02-19T12:15:21.040425Z"
    },
    "papermill": {
     "duration": 4.75638,
     "end_time": "2024-02-19T12:15:21.045927",
     "exception": false,
     "start_time": "2024-02-19T12:15:16.289547",
     "status": "completed"
    },
    "tags": []
   },
   "outputs": [
    {
     "name": "stdout",
     "output_type": "stream",
     "text": [
      "Model: Logistic Regression\n",
      "Accuracy: 0.69\n",
      "Precision: 0.00\n",
      "Recall: 0.00\n",
      "F1-score: 0.00\n",
      "ROC-AUC: 0.50\n",
      "\n",
      "\n",
      "Model: Decision Tree\n",
      "Accuracy: 0.54\n",
      "Precision: 0.27\n",
      "Recall: 0.27\n",
      "F1-score: 0.27\n",
      "ROC-AUC: 0.46\n",
      "\n",
      "\n",
      "Model: Random Forest\n",
      "Accuracy: 0.64\n",
      "Precision: 0.20\n",
      "Recall: 0.05\n",
      "F1-score: 0.08\n",
      "ROC-AUC: 0.48\n",
      "\n",
      "\n",
      "Cross-validation scores for Logistic Regression: [0.69375 0.69375 0.68125 0.70625 0.7    ]\n",
      "Mean CV accuracy: 0.70\n",
      "\n",
      "\n",
      "Cross-validation scores for Decision Tree: [0.525   0.60625 0.5375  0.5875  0.51875]\n",
      "Mean CV accuracy: 0.56\n",
      "\n",
      "\n",
      "Cross-validation scores for Random Forest: [0.65    0.65    0.63125 0.69375 0.6625 ]\n",
      "Mean CV accuracy: 0.66\n",
      "\n",
      "\n"
     ]
    }
   ],
   "source": [
    "import numpy as np\n",
    "import pandas as pd\n",
    "from sklearn.model_selection import train_test_split, cross_val_score\n",
    "from sklearn.linear_model import LogisticRegression\n",
    "from sklearn.tree import DecisionTreeClassifier\n",
    "from sklearn.ensemble import RandomForestClassifier\n",
    "from sklearn.metrics import accuracy_score, precision_score, recall_score, f1_score, roc_auc_score\n",
    "import warnings\n",
    "\n",
    "warnings.filterwarnings('ignore')\n",
    "\n",
    "X = df.drop(['Diagnosis'], axis =1)\n",
    "y = df['Diagnosis']\n",
    "\n",
    "X_train, X_test, y_train, y_test = train_test_split(X, y, test_size=0.2, random_state=42)\n",
    "\n",
    "log_reg = LogisticRegression()\n",
    "decision_tree = DecisionTreeClassifier()\n",
    "random_forest = RandomForestClassifier()\n",
    "\n",
    "models = [log_reg, decision_tree, random_forest]\n",
    "model_names = ['Logistic Regression', 'Decision Tree', 'Random Forest']\n",
    "for model, name in zip(models, model_names):\n",
    "    model.fit(X_train, y_train)\n",
    "    y_pred = model.predict(X_test)\n",
    "    accuracy = accuracy_score(y_test, y_pred)\n",
    "    precision = precision_score(y_test, y_pred)\n",
    "    recall = recall_score(y_test, y_pred)\n",
    "    f1 = f1_score(y_test, y_pred)\n",
    "    roc_auc = roc_auc_score(y_test, y_pred)\n",
    "    print(f\"Model: {name}\")\n",
    "    print(f\"Accuracy: {accuracy:.2f}\")\n",
    "    print(f\"Precision: {precision:.2f}\")\n",
    "    print(f\"Recall: {recall:.2f}\")\n",
    "    print(f\"F1-score: {f1:.2f}\")\n",
    "    print(f\"ROC-AUC: {roc_auc:.2f}\")\n",
    "    print(\"\\n\")\n",
    "\n",
    "# Perform cross-validation for each model\n",
    "for model, name in zip(models, model_names):\n",
    "    cv_scores = cross_val_score(model, X_train, y_train, cv=5, scoring='accuracy')\n",
    "    print(f\"Cross-validation scores for {name}: {cv_scores}\")\n",
    "    print(f\"Mean CV accuracy: {cv_scores.mean():.2f}\")\n",
    "    print(\"\\n\")\n"
   ]
  },
  {
   "cell_type": "code",
   "execution_count": null,
   "id": "e6e00019",
   "metadata": {
    "papermill": {
     "duration": 0.006106,
     "end_time": "2024-02-19T12:15:21.058919",
     "exception": false,
     "start_time": "2024-02-19T12:15:21.052813",
     "status": "completed"
    },
    "tags": []
   },
   "outputs": [],
   "source": []
  }
 ],
 "metadata": {
  "kaggle": {
   "accelerator": "none",
   "dataSources": [
    {
     "datasetId": 4463541,
     "sourceId": 7655840,
     "sourceType": "datasetVersion"
    }
   ],
   "dockerImageVersionId": 30646,
   "isGpuEnabled": false,
   "isInternetEnabled": true,
   "language": "python",
   "sourceType": "notebook"
  },
  "kernelspec": {
   "display_name": "Python 3",
   "language": "python",
   "name": "python3"
  },
  "language_info": {
   "codemirror_mode": {
    "name": "ipython",
    "version": 3
   },
   "file_extension": ".py",
   "mimetype": "text/x-python",
   "name": "python",
   "nbconvert_exporter": "python",
   "pygments_lexer": "ipython3",
   "version": "3.10.13"
  },
  "papermill": {
   "default_parameters": {},
   "duration": 10.673634,
   "end_time": "2024-02-19T12:15:21.791254",
   "environment_variables": {},
   "exception": null,
   "input_path": "__notebook__.ipynb",
   "output_path": "__notebook__.ipynb",
   "parameters": {},
   "start_time": "2024-02-19T12:15:11.117620",
   "version": "2.5.0"
  }
 },
 "nbformat": 4,
 "nbformat_minor": 5
}
