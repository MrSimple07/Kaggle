{
  "nbformat": 4,
  "nbformat_minor": 0,
  "metadata": {
    "colab": {
      "provenance": [],
      "authorship_tag": "ABX9TyMDNjO2F/RwYODjP0UIwhJ6",
      "include_colab_link": true
    },
    "kernelspec": {
      "name": "python3",
      "display_name": "Python 3"
    },
    "language_info": {
      "name": "python"
    }
  },
  "cells": [
    {
      "cell_type": "markdown",
      "metadata": {
        "id": "view-in-github",
        "colab_type": "text"
      },
      "source": [
        "<a href=\"https://colab.research.google.com/github/MrSimple07/Kaggle/blob/main/Car_prices.ipynb\" target=\"_parent\"><img src=\"https://colab.research.google.com/assets/colab-badge.svg\" alt=\"Open In Colab\"/></a>"
      ]
    },
    {
      "cell_type": "code",
      "execution_count": null,
      "metadata": {
        "id": "aBavWOKI5H1V"
      },
      "outputs": [],
      "source": [
        "import pandas as pd\n",
        "import numpy as np\n",
        "\n",
        "np.random.seed(42)\n",
        "num_samples = 1000\n",
        "\n",
        "num_samples = 1000\n",
        "\n",
        "# Features\n",
        "brand_options = ['Toyota', 'Ford', 'Honda', 'Chevrolet', 'BMW']\n",
        "fuel_options = ['Gasoline', 'Diesel', 'Electric']\n",
        "color_options = ['Red', 'Blue', 'Silver', 'Black', 'White']\n",
        "condition_options = ['New', 'Used']\n",
        "\n",
        "data = {\n",
        "    'Brand': np.random.choice(brand_options, size=num_samples),\n",
        "    'Model': ['Model' + str(i) for i in range(1, num_samples + 1)],\n",
        "    'Year': np.random.randint(2010, 2023, size=num_samples),\n",
        "    'Mileage': np.random.randint(10000, 80000, size=num_samples),\n",
        "    'Fuel': np.random.choice(fuel_options, size=num_samples),\n",
        "    'Color': np.random.choice(color_options, size=num_samples),\n",
        "    'Condition': np.random.choice(condition_options, size=num_samples),\n",
        "    'Price': np.random.randint(10000, 50000, size=num_samples)\n",
        "}\n",
        "\n",
        "car_dataset = pd.DataFrame(data)\n",
        "\n",
        "# Save the dataset to a CSV file\n",
        "car_dataset.to_csv('car_prices_dataset.csv', index=False)\n"
      ]
    },
    {
      "cell_type": "code",
      "source": [],
      "metadata": {
        "id": "rELEvbRP5-i5"
      },
      "execution_count": null,
      "outputs": []
    }
  ]
}