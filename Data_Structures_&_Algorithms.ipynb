{
  "nbformat": 4,
  "nbformat_minor": 0,
  "metadata": {
    "colab": {
      "provenance": [],
      "authorship_tag": "ABX9TyNEeRX6SokQdfCBuTnr6Cn8",
      "include_colab_link": true
    },
    "kernelspec": {
      "name": "python3",
      "display_name": "Python 3"
    },
    "language_info": {
      "name": "python"
    }
  },
  "cells": [
    {
      "cell_type": "markdown",
      "metadata": {
        "id": "view-in-github",
        "colab_type": "text"
      },
      "source": [
        "<a href=\"https://colab.research.google.com/github/MrSimple07/Kaggle/blob/main/Data_Structures_%26_Algorithms.ipynb\" target=\"_parent\"><img src=\"https://colab.research.google.com/assets/colab-badge.svg\" alt=\"Open In Colab\"/></a>"
      ]
    },
    {
      "cell_type": "markdown",
      "source": [
        "# Data Structures & Algorithms"
      ],
      "metadata": {
        "id": "lhH1NJeOtdHj"
      }
    },
    {
      "cell_type": "markdown",
      "source": [
        "1. Programming Languages and Coding: basics of C/C++, Java and Python; object-oriented programming and classes; basic data types, strings and arrays; tree and graphs; recursion.\n",
        "2. Algorithms and Data Structures: basic algorithms for search and sorting; tree and graph traversal;\n",
        "linked lists; computational complexity analysis and recurrences.\n",
        "3. Computer Architectures: basic components of CPU and their interactions; memory hierarchy and\n",
        "input/output devices; addressing and communication issues.\n",
        "4. Unix Systems: basic commands, file system, basic shell scripting.\n",
        "5. Math: basics of linear algebra, probabilities, and calculus."
      ],
      "metadata": {
        "id": "0VlzF6GITkZi"
      }
    },
    {
      "cell_type": "markdown",
      "source": [
        "1. Python Recursive, basics, Object-Oriented Programming and classes\n",
        "\n",
        "- '__init__' It is a special method of object"
      ],
      "metadata": {
        "id": "IzAZm7pdtMr6"
      }
    },
    {
      "cell_type": "code",
      "source": [
        "class Car:\n",
        "  def __init__(self, make, model, year):\n",
        "    self.make = make\n",
        "    self.model = model\n",
        "    self.year = year\n",
        "\n",
        "  def display_info(self):\n",
        "    print(f'{self.make}, {self.model}, {self.year}')\n",
        "\n",
        "car1 = Car('Toyota', 'Corolla', 2020)\n",
        "car2 = Car(\"Honda\", \"Civic\", 2019)\n",
        "\n",
        "Car.display_info(car1)\n",
        "Car.display_info(car2)"
      ],
      "metadata": {
        "colab": {
          "base_uri": "https://localhost:8080/"
        },
        "id": "NHkZWSKjutWL",
        "outputId": "309dd1c1-8c18-44d2-bf94-3e7aace4bb74"
      },
      "execution_count": 6,
      "outputs": [
        {
          "output_type": "stream",
          "name": "stdout",
          "text": [
            "Toyota, Corolla, 2020\n",
            "Honda, Civic, 2019\n"
          ]
        }
      ]
    },
    {
      "cell_type": "markdown",
      "source": [
        "2. Algorithms and Data Structures: basic algorithms for search and sorting; tree and graph traversal; linked lists; computational complexity analysis and recurrences."
      ],
      "metadata": {
        "id": "S0OeELwnICOd"
      }
    },
    {
      "cell_type": "markdown",
      "source": [
        "Tree and graph Traversal\n",
        "\n",
        "1. Breadth- First Search (BFS)\n",
        "- BFS uses a **queue** as an auxiliary data structure to store nodes\n",
        "for further processing.\n",
        "- Level- order traversal\n",
        "\n",
        "2. Depth- First\n",
        "- DFS uses a **stack** to store nodes for further processing\n",
        "- Visiting a child is the visiting all of the subtree\n",
        "\n",
        "- Preorder, Inorder, Postorder Traversal"
      ],
      "metadata": {
        "id": "TnrqSWpMIJLQ"
      }
    },
    {
      "cell_type": "markdown",
      "source": [
        "**Computational Complexity Analysis and recurrences**\n",
        "\n",
        "\n",
        "- A) Computational Complexity Analysis - Evaluating of Space and Time Complexity\n",
        "\n",
        "- B) Recurrences: Mathematical equations or furmulas that describe the behavior of algorithms or functions in a recursive manner.\n",
        "\n",
        "When analyzing algorithms, particularly recursive algorithms, it's common to encounter recurrences that describe the time complexity. Solving these recurrences helps in understanding the overall efficiency of the algorithm and predicting its performance for different input sizes. Techniques such as substitution method, recursion tree method, and master theorem are commonly used to solve recurrences and analyze the computational complexity of algorithms."
      ],
      "metadata": {
        "id": "UJ1eBlpZIDbj"
      }
    },
    {
      "cell_type": "code",
      "source": [
        "# O (n) Time complexity algorithm, because the function iterates through each element of the arr\n",
        "\n",
        "def array_sum(arr):\n",
        "  total = 0\n",
        "  for num in range(len(arr)):\n",
        "    total+=num\n",
        "  return total\n",
        "\n",
        "arr = [1,2,3,4,5]\n",
        "print(array_sum(arr))"
      ],
      "metadata": {
        "colab": {
          "base_uri": "https://localhost:8080/"
        },
        "id": "StI8104VzBRP",
        "outputId": "fe9259c8-e7af-4ab6-91ed-03df2a9e1c53"
      },
      "execution_count": 4,
      "outputs": [
        {
          "output_type": "stream",
          "name": "stdout",
          "text": [
            "10\n"
          ]
        }
      ]
    },
    {
      "cell_type": "markdown",
      "source": [
        "### CPU vc TPU vc GPU\n",
        "\n",
        "1. CPU (Central Processing Unit)\n",
        "2. GPU (Graphics Processing Unit)\n",
        "3. TPU (Tensor Processing Unit)\n"
      ],
      "metadata": {
        "id": "tcaaGK4k0fEk"
      }
    },
    {
      "cell_type": "markdown",
      "source": [
        "3. Computer Architectures: basic components of CPU and their interactions; memory hierarchy and input/output devices; addressing and communication issues."
      ],
      "metadata": {
        "id": "WKp8FRudFIzd"
      }
    },
    {
      "cell_type": "markdown",
      "source": [
        "A) Basic Components of CPU (Central Processing Unit):\n",
        "- Arithmetic Logic Unit (ALU)\n",
        "- Control Unit (CU)\n",
        "- Registers\n",
        "- System Clock\n",
        "- Cache Memory"
      ],
      "metadata": {
        "id": "W2JoS0bhFUtf"
      }
    },
    {
      "cell_type": "markdown",
      "source": [
        "B) Memory Hierarchy\n",
        "\n",
        " Memory hierarchy refers to the organization of different types of memory storage in a computer system, arranged in a hierarchical manner based on factors like access time, capacity, and cost. The primary goal of memory hierarchy is to provide the fastest possible access to data while optimizing cost and capacity.\n",
        "\n",
        "\n",
        "1. Main memory: RAM (Random Access Memory), is the primary storage area where data and program instructions are stored during execution.\n",
        "- It has more space than Cache memory, but slower access time\n",
        "2. Cache memory\n",
        "- Cache memory is a small-sized, high-speed memory located between the CPU and main memory (RAM).\n",
        "3.  Registers\n",
        "- Registers are the fastest and smallest type of memory storage directly accessible by the CPU."
      ],
      "metadata": {
        "id": "yAiF1t2BGM_d"
      }
    },
    {
      "cell_type": "markdown",
      "source": [
        "C) Input and Output Devices\n",
        "\n",
        "Input and output (I/O) devices are essential components of a computer system that enable communication between the user and the computer. Input devices allow users to provide data and commands to the computer, while output devices display or transmit information generated by the computer. Here are some common input and output devices:\n",
        "\n",
        "1. Input devices: Mouse, Keyboard, Scanner, Joystick, Webcam, camera, microphone, touchscreen\n",
        "\n",
        "2. Output devices: Headphones, printer, monitor, screen, display, projector, plotter"
      ],
      "metadata": {
        "id": "-i4odKZpmBoO"
      }
    },
    {
      "cell_type": "markdown",
      "source": [
        "D) Addressing and Communication issues\n",
        "\n",
        "Addressing and communication issues in computer architectures refer to challenges and considerations related to how data is accessed, transferred, and communicated within a computer system. These issues are critical for optimizing performance, reducing latency, and ensuring efficient utilization of resources.\n",
        "\n",
        "- Memory Addressing\n",
        "- Data Transfer and Communication\n",
        "\n",
        "- Address Translation and Virtual Memory"
      ],
      "metadata": {
        "id": "bT5fV2GLmEQl"
      }
    },
    {
      "cell_type": "code",
      "source": [],
      "metadata": {
        "id": "NPLJFTBHunGn"
      },
      "execution_count": null,
      "outputs": []
    },
    {
      "cell_type": "markdown",
      "source": [
        "Recursive algorithm factorial with dynamic programming:"
      ],
      "metadata": {
        "id": "uBmttXwCvsOi"
      }
    },
    {
      "cell_type": "code",
      "source": [
        "def factorial(n):\n",
        "  if n ==1 or n ==0:\n",
        "    return 1\n",
        "  else:\n",
        "    return n*factorial(n-1)\n",
        "\n",
        "print(factorial(4))"
      ],
      "metadata": {
        "colab": {
          "base_uri": "https://localhost:8080/"
        },
        "id": "AkfDgdHetMUo",
        "outputId": "acb0c60d-ee40-456b-ccfc-c21d7ea3d2da"
      },
      "execution_count": 1,
      "outputs": [
        {
          "output_type": "stream",
          "name": "stdout",
          "text": [
            "24\n"
          ]
        }
      ]
    },
    {
      "cell_type": "markdown",
      "source": [
        "4. Unix Systems basics\n"
      ],
      "metadata": {
        "id": "WdAw65ZKsSRx"
      }
    },
    {
      "cell_type": "code",
      "source": [],
      "metadata": {
        "id": "Ut6APoO6sRFT"
      },
      "execution_count": null,
      "outputs": []
    },
    {
      "cell_type": "markdown",
      "source": [
        "# Big O notation\n",
        "\n",
        "- Time complexity 0 (n)"
      ],
      "metadata": {
        "id": "BJq2qUZnmZyL"
      }
    },
    {
      "cell_type": "code",
      "execution_count": null,
      "metadata": {
        "colab": {
          "base_uri": "https://localhost:8080/"
        },
        "id": "r8DIFVSXmLI5",
        "outputId": "f4e3587d-ed26-49cb-e8a0-36407fb011ce"
      },
      "outputs": [
        {
          "output_type": "stream",
          "name": "stdout",
          "text": [
            "CPU times: user 4 µs, sys: 0 ns, total: 4 µs\n",
            "Wall time: 7.39 µs\n"
          ]
        },
        {
          "output_type": "execute_result",
          "data": {
            "text/plain": [
              "[4, 16, 25]"
            ]
          },
          "metadata": {},
          "execution_count": 6
        }
      ],
      "source": [
        "%time\n",
        "def get_squared_numbers(numbers):\n",
        "  squared_numbers = []\n",
        "  for n in numbers:\n",
        "    squared_numbers.append(n*n)\n",
        "  return squared_numbers\n",
        "\n",
        "numbers = [2,4,5]\n",
        "get_squared_numbers(numbers)"
      ]
    },
    {
      "cell_type": "markdown",
      "source": [
        "-  Time complexity 0 (1)"
      ],
      "metadata": {
        "id": "J4YhupbzrfsX"
      }
    },
    {
      "cell_type": "code",
      "source": [
        "def find_first_pe(prices, eps, index):\n",
        "  pe = prices[index]/eps[index]\n",
        "  return pe"
      ],
      "metadata": {
        "id": "s-OcKS5RnX1W"
      },
      "execution_count": null,
      "outputs": []
    },
    {
      "cell_type": "markdown",
      "source": [
        "- Time Complexity 0 (n*n)\n",
        "\n",
        "time = a*n2 + b"
      ],
      "metadata": {
        "id": "pM4TIG0-sQ0d"
      }
    },
    {
      "cell_type": "code",
      "source": [
        "numbers = [2,3,5,7,4,5,6]\n",
        "\n",
        "for i in range(len(numbers)):\n",
        "  for j in range(i+1, len(numbers)):\n",
        "    if numbers[i] == numbers[j]:\n",
        "      print(numbers[i])\n",
        "      break"
      ],
      "metadata": {
        "colab": {
          "base_uri": "https://localhost:8080/"
        },
        "id": "8XlrcVxMr3ts",
        "outputId": "e189d193-8371-419d-dbbc-c23490bf0f6b"
      },
      "execution_count": null,
      "outputs": [
        {
          "output_type": "stream",
          "name": "stdout",
          "text": [
            "5\n"
          ]
        }
      ]
    },
    {
      "cell_type": "markdown",
      "source": [
        "# Data Structures Python\n",
        "\n",
        "## Linear Data Structures and for Python\n",
        "- Arrays (list)\n",
        "- Linked Lists\n",
        "- Tuple\n",
        "- Stacks\n",
        "- Queues (collections deque)\n",
        "- Deques (collections deque)\n",
        "- Set\n",
        "\n",
        "## Nonlinear Data Structures\n",
        "- Trees\n",
        "- Graphs\n",
        "- Heaps\n",
        "- Hash Tables (dictionary)\n",
        "- trie (Prefix Tree)\n",
        "\n",
        "\n",
        "\n",
        "---\n",
        "\n",
        "\n",
        "\n",
        "### 1. Lists (Arrays)\n",
        "\n",
        "- It is like an arrays.\n",
        "- Ordered collection of data.\n",
        "- It is very flexible\n",
        "- Storing large collections of data  for fast element access (image pixels)\n",
        "\n",
        "\n",
        "```\n",
        "List = ['Someone', 'Something']\n",
        "```\n",
        "\n",
        "\n",
        "\n",
        "2. Dictionary\n",
        "- It is like hash tables with the ime complexity of O(1).\n",
        "- It holds key: value pairs.\n",
        "\n",
        "3. Tuple\n",
        "- it is like a list, but it is immutable. So, we cannot add or remove, once it is created"
      ],
      "metadata": {
        "id": "Qr61kNpe12t2"
      }
    },
    {
      "cell_type": "code",
      "source": [
        "#Dictionaries\n",
        "my_dict = {\"name\": \"John\", \"age\": 30, \"city\": \"New York\"}\n",
        "print(\"Dictionary:\", my_dict)\n",
        "\n",
        "print(my_dict['name'])\n",
        "\n",
        "my_dict['job']= 'ML Engineer'\n",
        "print(my_dict)\n",
        "\n",
        "for key, value in my_dict.items():\n",
        "  print(key, ':', value)\n",
        "\n",
        "#Tuples\n",
        "tuple = ('smt', 'someone')"
      ],
      "metadata": {
        "colab": {
          "base_uri": "https://localhost:8080/"
        },
        "id": "72QugLxV3ltE",
        "outputId": "8195ae32-3515-4f64-ed5d-1560bb4254bf"
      },
      "execution_count": null,
      "outputs": [
        {
          "output_type": "stream",
          "name": "stdout",
          "text": [
            "Dictionary: {'name': 'John', 'age': 30, 'city': 'New York'}\n",
            "John\n",
            "{'name': 'John', 'age': 30, 'city': 'New York', 'job': 'ML Engineer'}\n",
            "name : John\n",
            "age : 30\n",
            "city : New York\n",
            "job : ML Engineer\n"
          ]
        }
      ]
    },
    {
      "cell_type": "markdown",
      "source": [
        "4. Set\n",
        "- Mutable and does not allow any duplicate element\n",
        "-  The data structure used in this is Hashing, a popular technique to perform insertion, deletion, and traversal in O(1) on average.\n",
        "- Sets automatically remove duplicate elements, ensuring that each element is unique\n",
        "- Sets support various mathematical operations\n",
        "- *union, add, remove, intersection, difference, symmetric_difference operations*"
      ],
      "metadata": {
        "id": "b57RqtcL4C_Y"
      }
    },
    {
      "cell_type": "code",
      "source": [
        "my_set= {1,2,3,4,5}\n",
        "\n",
        "my_set.add(6)\n",
        "print(my_set)\n",
        "\n",
        "set1 = {1, 2, 3, 4, 5}\n",
        "set2 = {4, 5, 6, 7, 8}\n",
        "\n",
        "# Union of sets\n",
        "union_set = set1.union(set2)\n",
        "print(\"Union of sets:\", union_set)\n",
        "\n",
        "# Intersection of sets\n",
        "intersection_set = set1.intersection(set2)\n",
        "print(\"Intersection of sets:\", intersection_set)\n",
        "\n",
        "# Difference of sets\n",
        "difference_set = set1.difference(set2)\n",
        "print(\"Difference of sets (set1 - set2):\", difference_set)\n",
        "\n",
        "# Symmetric difference of sets\n",
        "symmetric_difference_set = set1.symmetric_difference(set2)\n",
        "print(\"Symmetric difference of sets:\", symmetric_difference_set)"
      ],
      "metadata": {
        "colab": {
          "base_uri": "https://localhost:8080/"
        },
        "id": "mTWOgguB0gEF",
        "outputId": "8ed2f619-e367-4fe2-ab74-bf9d886b21bb"
      },
      "execution_count": null,
      "outputs": [
        {
          "output_type": "stream",
          "name": "stdout",
          "text": [
            "{1, 2, 3, 4, 5, 6}\n",
            "Union of sets: {1, 2, 3, 4, 5, 6, 7, 8}\n",
            "Intersection of sets: {4, 5}\n",
            "Difference of sets (set1 - set2): {1, 2, 3}\n",
            "Symmetric difference of sets: {1, 2, 3, 6, 7, 8}\n"
          ]
        }
      ]
    },
    {
      "cell_type": "markdown",
      "source": [
        "5. Stacks\n",
        "- Useful for parsing expressions, tracking function calls in recursive algorithms, and managing undo/redo functionality in applications.\n",
        "- Stacks can be implemented using list.\n",
        "- append to add, and pop for removing."
      ],
      "metadata": {
        "id": "_K00zcwF4rxn"
      }
    },
    {
      "cell_type": "code",
      "source": [
        "stack = []\n",
        "stack.append(1)\n",
        "stack.append(2)\n",
        "\n",
        "popped_element = stack.pop()\n",
        "print(stack)\n",
        "print(popped_element)"
      ],
      "metadata": {
        "colab": {
          "base_uri": "https://localhost:8080/"
        },
        "id": "ZJAaJeYDJRbM",
        "outputId": "6ed110d3-ea6e-4c6b-f207-1d3439deb3be"
      },
      "execution_count": null,
      "outputs": [
        {
          "output_type": "stream",
          "name": "stdout",
          "text": [
            "[1]\n",
            "2\n"
          ]
        }
      ]
    },
    {
      "cell_type": "markdown",
      "source": [
        "6. Queues\n",
        "\n",
        "- Applied in scenarios like managing task scheduling, breadth-first search algorithms, and handling requests in a first-come-first-serve manner in systems.\n",
        "- Queues can be implemented using Python's collections.deque, which provides efficient append() and popleft() operations."
      ],
      "metadata": {
        "id": "CIqwJ7bDJlTy"
      }
    },
    {
      "cell_type": "code",
      "source": [
        "from collections import deque\n",
        "\n",
        "queue = deque()\n",
        "queue.append(1)\n",
        "queue.append(2)\n",
        "\n",
        "dequeued_element = queue.popleft()   # Dequeuing an element\n",
        "print(dequeued_element)"
      ],
      "metadata": {
        "colab": {
          "base_uri": "https://localhost:8080/"
        },
        "id": "4CrDjoTxKUMF",
        "outputId": "f0967836-869b-4943-a4b3-797d2939543e"
      },
      "execution_count": null,
      "outputs": [
        {
          "output_type": "stream",
          "name": "stdout",
          "text": [
            "1\n"
          ]
        }
      ]
    },
    {
      "cell_type": "markdown",
      "source": [
        "7. Linked List\n",
        "- A linked list is a linear data structure consisting of nodes, where each node contains data and a reference to the next node in the sequence\n",
        "- The last node typically points to 'None'\n",
        "\n",
        "\n",
        "Singly Linked Lists and Doubly Linked Lists\n",
        "- Singly has reference to the next node only. It requires less memory\n",
        "- Doubply Linked lists. It has references to both the next and the previous nodes. Consumes more memory"
      ],
      "metadata": {
        "id": "Xaft4CcQ4uQx"
      }
    },
    {
      "cell_type": "markdown",
      "source": [
        "# Nonlinear Data Structures\n",
        "1. Trees\n",
        "- Hierarchical data structures consisting of nodes connected by edges. Each tree has a root node with zero or more child nodes.\n",
        "\n",
        "Types:\n",
        "- a) Binary Tree - Each node has at most 2 children\n",
        "- b) Binary Search Trees (BST) - Left child is less than parent, and right child is greater. It is efficient search, insert, deletion operation\n",
        "- c) Red- Black trees - Balanced binary search trees ensuring logarithmic time complexity for searchm insertion, and deletion\n",
        "\n",
        "Uses:\n",
        "- File systems\n",
        "- Efficient Search, Insertion and deletion Operations in databases and programming\n",
        "- Decision Trees, Sorting Algorithms"
      ],
      "metadata": {
        "id": "BnKQ1VGGtbne"
      }
    },
    {
      "cell_type": "code",
      "source": [
        "class Node:\n",
        "    def __init__(self, data):\n",
        "        self.data = data\n",
        "        self.left = None\n",
        "        self.right = None\n",
        "\n",
        "# Create a binary tree\n",
        "root = Node(1)\n",
        "root.left = Node(2)\n",
        "root.right = Node(3)\n"
      ],
      "metadata": {
        "id": "aQWZd_ddqOS8"
      },
      "execution_count": null,
      "outputs": []
    },
    {
      "cell_type": "markdown",
      "source": [
        "2. Graphs\n",
        "- Collection of nodes connected by edges\n",
        "\n",
        "Types:\n",
        "- Directed Graph - Edges have a direction (source and destination)\n",
        "- Undirected Graph - Edges don't havedirections\n",
        "- Weighted Graph - Edges have associated weights representing values like distance or costs\n",
        "\n",
        "Uses:\n",
        "- Breadth- First Search (BFS) and Depth-First Search (DFS) for traversal\n",
        "- Finding shortest path\n",
        "- Social Media, Connecting, maps, route planning"
      ],
      "metadata": {
        "id": "Q8CAPEktqM5s"
      }
    },
    {
      "cell_type": "code",
      "source": [
        "from collections import defaultdict\n",
        "\n",
        "graph = defaultdict(list)\n",
        "graph[0].append(1)\n",
        "graph[1].append(2)\n",
        "graph[2].append(0)"
      ],
      "metadata": {
        "id": "FzIjuD5Oqrr7"
      },
      "execution_count": null,
      "outputs": []
    },
    {
      "cell_type": "markdown",
      "source": [
        "3. Hash tables (python dictionary)\n",
        "- Mapping keys to unique indexes, which makes fast lookups\n",
        "- Usually it is O(1) time complexity\n",
        "\n",
        "Uses:\n",
        "- Caching\n",
        "- Databases for fast key-value access\n"
      ],
      "metadata": {
        "id": "Tp-HprGXrEOl"
      }
    },
    {
      "cell_type": "code",
      "source": [
        "dict1 = {'name': 'Ali', 'age': '12', 'country': 'Utopia'}\n",
        "dict1['name']"
      ],
      "metadata": {
        "colab": {
          "base_uri": "https://localhost:8080/",
          "height": 36
        },
        "id": "Px7Dak2Ms-bq",
        "outputId": "3782abad-e1f5-42be-f741-b1ab29c223f4"
      },
      "execution_count": null,
      "outputs": [
        {
          "output_type": "execute_result",
          "data": {
            "text/plain": [
              "'Ali'"
            ],
            "application/vnd.google.colaboratory.intrinsic+json": {
              "type": "string"
            }
          },
          "metadata": {},
          "execution_count": 3
        }
      ]
    },
    {
      "cell_type": "markdown",
      "source": [
        "# Additional Data Structures\n",
        "- strings: radix sorts, tries, KMP, regexps, data compression\n",
        "- bag, union-find, priority queue\n",
        "- BFS, DFS, Prim, Kruskal, Dijkstra\n",
        "- BST, red-black BST, hash table\n"
      ],
      "metadata": {
        "id": "Da4imXIb-pLT"
      }
    },
    {
      "cell_type": "markdown",
      "source": [
        "Strings:\n",
        "\n",
        "1. Radix sorts\n",
        "- Radix sort is a non-comparative sorting algorithm that sorts integers by processing individual digits. It sorts numbers by first grouping the elements by their individual digits (from right to left), then sorting the numbers according to each digit. Radix sort can be implemented using various techniques, such as LSD (Least Significant Digit) radix sort and MSD (Most Significant Digit) radix sort. It's often used for sorting integers in linear time complexity under certain conditions.\n",
        "\n",
        "2. Tries:\n"
      ],
      "metadata": {
        "id": "9QUyqMaSMqtX"
      }
    },
    {
      "cell_type": "markdown",
      "source": [
        "# Some questions and Comparisons"
      ],
      "metadata": {
        "id": "sCzbRremMDsU"
      }
    },
    {
      "cell_type": "markdown",
      "source": [
        "1. Linked list vc Arrays\n",
        "- Insertion and Deletion: Linked lists are more efficient, especially in the middle of the sequence\n",
        "- Random Access: Arrays more efficient, because they can be accessed by index, while linked lists require traversal from the beginning for access\n",
        "- Memory: Arrays have a fixed size and allocate memory statically. Linked lists takes memory dynamically as nodes are added"
      ],
      "metadata": {
        "id": "Iit7OhlMMOoL"
      }
    },
    {
      "cell_type": "code",
      "source": [
        "class Node:\n",
        "    def __init__(self, data):\n",
        "        self.data = data\n",
        "        self.next = None\n",
        "\n",
        "class LinkedList:\n",
        "    def __init__(self):\n",
        "        self.head = None\n",
        "\n",
        "    def append(self, data):\n",
        "        new_node = Node(data)\n",
        "        if not self.head:\n",
        "            self.head = new_node\n",
        "            return\n",
        "        current = self.head\n",
        "        while current.next:\n",
        "            current = current.next\n",
        "        current.next = new_node\n",
        "\n",
        "    def display(self):\n",
        "        current = self.head\n",
        "        while current:\n",
        "            print(current.data, end=\" \")\n",
        "            current = current.next\n",
        "        print()\n",
        "\n",
        "# Create a linked list\n",
        "linked_list = LinkedList()\n",
        "linked_list.append(1)\n",
        "linked_list.append(2)\n",
        "linked_list.append(3)\n",
        "\n",
        "# Display the linked list\n",
        "print(\"Linked List:\")\n",
        "linked_list.display()"
      ],
      "metadata": {
        "colab": {
          "base_uri": "https://localhost:8080/"
        },
        "id": "t7YNMk9SMHhp",
        "outputId": "8dbcd350-f30b-48e8-b024-ac671914f2a8"
      },
      "execution_count": null,
      "outputs": [
        {
          "output_type": "stream",
          "name": "stdout",
          "text": [
            "Linked List:\n",
            "1 2 3 \n"
          ]
        }
      ]
    },
    {
      "cell_type": "markdown",
      "source": [
        "2. Lists vc Tuples\n",
        "- Lists are mutable, tuples are immutable.\n",
        "- Lists are used when you need a collection of elements, which we can delete, append new items. And also, for complex data manipulations such as sorting, filtering, or mapping elements.\n",
        "\n",
        "- Tuples are more memory-efficient and faster to access compared to lists."
      ],
      "metadata": {
        "id": "xHFdebqOOv02"
      }
    },
    {
      "cell_type": "code",
      "source": [
        "list1 = [1,2,4,56,7]\n",
        "list1.append(5)\n",
        "print(list1)\n",
        "\n",
        "tuple1 = (1,2,45,7,8)"
      ],
      "metadata": {
        "colab": {
          "base_uri": "https://localhost:8080/"
        },
        "id": "DFirk7VX4cP3",
        "outputId": "6395649c-e742-435f-972b-a070ea52b64c"
      },
      "execution_count": null,
      "outputs": [
        {
          "output_type": "stream",
          "name": "stdout",
          "text": [
            "[1, 2, 4, 56, 7, 5]\n"
          ]
        }
      ]
    },
    {
      "cell_type": "markdown",
      "source": [
        "3. Stacks vc Queues\n",
        "- Stacks for LIFO (Last in, First Out) - re do applications, useful for function calls and backtracking\n",
        "- Queue for FIFO (First in, First Out) - BFS, task scheduling application\n",
        "\n",
        "\n",
        "Queues - Enqueue: O(1)\n"
      ],
      "metadata": {
        "id": "WaOT3dRY32Ay"
      }
    },
    {
      "cell_type": "markdown",
      "source": [
        "# Other Questions & Algorithms"
      ],
      "metadata": {
        "id": "ReMCFtObugaT"
      }
    },
    {
      "cell_type": "markdown",
      "source": [
        "6 most important types of algorithms:\n",
        "\n",
        "1. Brute Force Algorithm\n",
        "2. Recursive Algorithm (Dynamic Programming, Greedy Algorithm, Divide and Conquer Algorithm, Backtracking Algorithm)\n",
        "3. Randomized algorithm\n",
        "4. Sorting Algorithm (Bubble Sort, Insertion sort, Merge sort, Quicksort)\n",
        "5. Searching Algorithm (Linear Search, Binary Search, Hashing(Hash table), Depth- First Search and Breadth-First Search)\n",
        "6. Hashing Algorithm"
      ],
      "metadata": {
        "id": "_qouq6nKvIgR"
      }
    },
    {
      "cell_type": "markdown",
      "source": [
        "1. Brute Force Algorithm\n",
        "- Brute force algorithms are straightforward techniques that systematically search through all possible solutions to a problem to find the optimal solution.\n",
        "- Simple implemention, but not the most efficient\n",
        "- Guaranteed Correctness"
      ],
      "metadata": {
        "id": "56MRU0wRU0xS"
      }
    },
    {
      "cell_type": "code",
      "source": [
        "def max_subarray_brute_force(arr):\n",
        "  max_subarray = []\n",
        "\n",
        "  for i in range(len(arr)):\n"
      ],
      "metadata": {
        "id": "hNRJEm5YUz96"
      },
      "execution_count": null,
      "outputs": []
    },
    {
      "cell_type": "markdown",
      "source": [
        "## 2. Recursive Algorithm (Dynamic Programming, Greedy Algorithm, Divide and Conquer Algorithm, Backtracking Algorithm)\n",
        "\n",
        "- Recursive algorithm - an approach to problem- solving where function calls itself with smaller instances of the same problem till it reaches abase case where solution is straightforward.\n",
        "\n",
        "\n",
        "\n",
        "a) Dynamic Programming - breaking complex problems and solving each problem only once.\n",
        "- Storing all of the solutions\n",
        "- Fibonacchi is example"
      ],
      "metadata": {
        "id": "FH4jY52Lui07"
      }
    },
    {
      "cell_type": "code",
      "source": [
        "def fibonacci(n, memo = {}):\n",
        "  if n in memo:\n",
        "    return memo[n]\n",
        "  if n<=1:\n",
        "    return n\n",
        "\n",
        "  memo[n] = fibonacci(n-1, memo)+ fibonacci(n-2, memo)\n",
        "  return memo[n]\n",
        "\n",
        "n = 10\n",
        "print(fibonacci(n))"
      ],
      "metadata": {
        "colab": {
          "base_uri": "https://localhost:8080/"
        },
        "id": "LSe_WCDsVJNF",
        "outputId": "ce7302c6-e0d3-447d-95d5-0909a3acd7be"
      },
      "execution_count": null,
      "outputs": [
        {
          "output_type": "stream",
          "name": "stdout",
          "text": [
            "55\n"
          ]
        }
      ]
    },
    {
      "cell_type": "markdown",
      "source": [
        "b)Greedy Algorithm\n",
        "- Finding the best optimal solution AT THE MOMENT\n",
        "- Easy to describe, but not overall optimal\n",
        "- Used when the solution should be found quickly, even its not the best solution"
      ],
      "metadata": {
        "id": "T9LQQGRb2262"
      }
    },
    {
      "cell_type": "code",
      "source": [
        "# Coin change problem\n",
        "\n",
        "def coin_change(coins, amount):\n",
        "  coins.sort(reverse= True)\n",
        "  num_coins = 0\n",
        "  for coin in coins:\n",
        "    num_coins +=amount//coin\n",
        "    amount % coin\n",
        "  return num_coins if amount ==0 else -1\n",
        "\n",
        "coins = [1,2,5,10]\n",
        "amount = 23\n",
        "\n",
        "print(coin_change(coins, amount))"
      ],
      "metadata": {
        "colab": {
          "base_uri": "https://localhost:8080/"
        },
        "id": "VuP1Qd6A8OIk",
        "outputId": "9a7600c3-2b31-4466-fb96-41084eb1300d"
      },
      "execution_count": null,
      "outputs": [
        {
          "output_type": "stream",
          "name": "stdout",
          "text": [
            "-1\n"
          ]
        }
      ]
    },
    {
      "cell_type": "markdown",
      "source": [
        "C) Divide and Conquer Algorithm\n",
        "\n",
        "- A problem is divided into smaller subproblems, and solved independently\n",
        "- Then all of the solutions will be combined to solve overall problem\n",
        "- Merge Sort is the good example"
      ],
      "metadata": {
        "id": "JXqk1gA289JB"
      }
    },
    {
      "cell_type": "code",
      "source": [
        "def merge_sort(arr):\n",
        "    if len(arr) <= 1:\n",
        "        return arr\n",
        "    mid = len(arr) // 2\n",
        "    left = merge_sort(arr[:mid])\n",
        "    right = merge_sort(arr[mid:])\n",
        "    return merge(left, right)\n",
        "\n",
        "def merge(left, right):\n",
        "    result = []\n",
        "    i = j = 0\n",
        "    while i < len(left) and j < len(right):\n",
        "        if left[i] < right[j]:\n",
        "            result.append(left[i])\n",
        "            i += 1\n",
        "        else:\n",
        "            result.append(right[j])\n",
        "            j += 1\n",
        "    result.extend(left[i:])\n",
        "    result.extend(right[j:])\n",
        "    return result\n",
        "\n",
        "# Example usage\n",
        "arr = [3, 1, 4, 1, 5, 9, 2, 6, 5, 3, 5]\n",
        "sorted_arr = merge_sort(arr)\n",
        "print(\"Sorted array:\", sorted_arr)\n"
      ],
      "metadata": {
        "colab": {
          "base_uri": "https://localhost:8080/"
        },
        "id": "z8Ke856y8_tN",
        "outputId": "b830a9bb-ba65-42b1-dabb-82ca5a377131"
      },
      "execution_count": null,
      "outputs": [
        {
          "output_type": "stream",
          "name": "stdout",
          "text": [
            "Sorted array: [1, 1, 2, 3, 3, 4, 5, 5, 5, 6, 9]\n"
          ]
        }
      ]
    },
    {
      "cell_type": "markdown",
      "source": [
        "D) Backtracking algorithm\n",
        "- Backtracking is a method for finding solutions to combinatorial problems, such as constraint satisfaction problems, by recursively trying different options and abandoning a search path if it's determined to be invalid.\n",
        "\n",
        "- N-Queens Problem, Sudoku problem"
      ],
      "metadata": {
        "id": "rs99qVKX9ANG"
      }
    },
    {
      "cell_type": "code",
      "source": [
        "def solve_n_queens(n):\n",
        "    def backtrack(row):\n",
        "        if row == n:\n",
        "            solutions.append(list(board))\n",
        "            return\n",
        "        for col in range(n):\n",
        "            if is_valid(row, col):\n",
        "                board[row] = col\n",
        "                backtrack(row + 1)\n",
        "                board[row] = -1\n",
        "\n",
        "    def is_valid(row, col):\n",
        "        for i in range(row):\n",
        "            if board[i] == col or abs(board[i] - col) == row - i:\n",
        "                return False\n",
        "        return True\n",
        "\n",
        "    board = [-1] * n\n",
        "    solutions = []\n",
        "    backtrack(0)\n",
        "    return solutions\n",
        "\n",
        "# Example usage\n",
        "n = 4\n",
        "solutions = solve_n_queens(n)\n",
        "print(\"Solutions for\", n, \"queens problem:\", solutions)\n"
      ],
      "metadata": {
        "colab": {
          "base_uri": "https://localhost:8080/"
        },
        "id": "ex5lNwwF9DIS",
        "outputId": "570bfeaf-d1d9-4eae-d221-d35eb6a4ccc0"
      },
      "execution_count": null,
      "outputs": [
        {
          "output_type": "stream",
          "name": "stdout",
          "text": [
            "Solutions for 4 queens problem: [[1, 3, 0, 2], [2, 0, 3, 1]]\n"
          ]
        }
      ]
    },
    {
      "cell_type": "markdown",
      "source": [
        "Key differences:\n",
        "- Greedy ALgorithm finds the best solution at each step\n",
        "- Dynamic Programming - divides into smaller subproblems and solves only once. Stores all of the solutions\n",
        "- Divide and conquer, also divides, but into the independent subproblems which will be solved and combined all of it to find overall solution\n",
        "- Backtracking - explores all possible choices."
      ],
      "metadata": {
        "id": "jn5ggu93_mvM"
      }
    },
    {
      "cell_type": "markdown",
      "source": [
        "3. Randomized algorithm\n",
        "\n",
        "- A randomized algorithm is a computational algorithm that makes use of random numbers to make decisions or solve problems.\n",
        "- Randomized algorithms are used to solve complex problems that are difficult to solve with traditional algorithms. They can often find solutions faster, and with greater accuracy than other types of algorithms.\n",
        "- Monte Carlo Algorithm:"
      ],
      "metadata": {
        "id": "fEa8CPpMVGZX"
      }
    },
    {
      "cell_type": "code",
      "source": [
        "import random\n",
        "\n",
        "def monte_carlo_pi(num_points):\n",
        "    points_inside_circle = 0\n",
        "\n",
        "    for _ in range(num_points):\n",
        "        x = random.random()\n",
        "        y = random.random()\n",
        "\n",
        "        if x**2 + y**2 <= 1:\n",
        "            points_inside_circle += 1\n",
        "\n",
        "    pi_estimate = 4 * points_inside_circle / num_points\n",
        "    return pi_estimate\n",
        "\n",
        "num_points = 1000000\n",
        "\n",
        "pi_estimate = monte_carlo_pi(num_points)\n",
        "print(\"Estimated value of pi:\", pi_estimate)\n"
      ],
      "metadata": {
        "colab": {
          "base_uri": "https://localhost:8080/"
        },
        "id": "9WeA4lGlVJxG",
        "outputId": "7ff00898-f07c-440d-c323-2d46dbf02640"
      },
      "execution_count": null,
      "outputs": [
        {
          "output_type": "stream",
          "name": "stdout",
          "text": [
            "Estimated value of pi: 3.143372\n"
          ]
        }
      ]
    },
    {
      "cell_type": "markdown",
      "source": [
        "4. Sorting Algorithms (Bubble Sort, Insertion sort, Merge sort, Quicksort). Time and space Complexity"
      ],
      "metadata": {
        "id": "6PjtphYhuluq"
      }
    },
    {
      "cell_type": "markdown",
      "source": [
        "a) Bubble Sort\n",
        "- Time Complexity: Best case: O(n), worst case and average case: O(n*n)\n",
        "- Repeatedly steps through the list, compares and swaps if they are in the wrong order.\n",
        "- Simple to implement, but not efficient in large datasets\n",
        "- It is just for educational purpoces\n"
      ],
      "metadata": {
        "id": "qLxpCOGagsMB"
      }
    },
    {
      "cell_type": "code",
      "source": [
        "import time\n",
        "\n",
        "def bubble_sort(arr):\n",
        "  n = len(arr)\n",
        "  for i in range(n):\n",
        "    for j in range(0, n-i-1):\n",
        "      if arr[j]>arr[j+1]:\n",
        "        arr[j], arr[j+1] = arr[j+1], arr[j]\n",
        "\n",
        "\n",
        "arr = [1,4,76,32,45,1,2,467,23]\n",
        "bubble_sort(arr)\n",
        "\n",
        "def measure_sorting_time(sort_func, arr):\n",
        "  start_time = time.time()\n",
        "  sort_func(arr)\n",
        "  end_time = time.time()\n",
        "  return end_time - start_time\n",
        "\n",
        "\n",
        "time_taken = measure_sorting_time(bubble_sort, arr.copy())\n",
        "print(arr)\n",
        "print(time_taken)\n"
      ],
      "metadata": {
        "colab": {
          "base_uri": "https://localhost:8080/"
        },
        "id": "x06oV4DpVKZs",
        "outputId": "79c4bf73-2234-4002-8073-2e7be09d8acc"
      },
      "execution_count": null,
      "outputs": [
        {
          "output_type": "stream",
          "name": "stdout",
          "text": [
            "[1, 1, 2, 4, 23, 32, 45, 76, 467]\n",
            "1.1444091796875e-05\n"
          ]
        }
      ]
    },
    {
      "cell_type": "markdown",
      "source": [
        "b) Insertion sort\n",
        "- Average Time complexity: O(n*n)\n",
        "- It is easy algorithm, that builds the final sorted list one item at a time.\n",
        "- It iterates over the list, removing one element and insterting it in the right place.\n",
        "- Only useful for small lists"
      ],
      "metadata": {
        "id": "26xPgoAwg7GT"
      }
    },
    {
      "cell_type": "code",
      "source": [
        "import time\n",
        "\n",
        "def insertion_sort(arr):\n",
        "  for i in range(1, len(arr)):\n",
        "    key = arr[i]\n",
        "    j = i-1\n",
        "    while j>=0 and key < arr[j]:\n",
        "      arr[j+1] = arr[j]\n",
        "      j-=1\n",
        "\n",
        "    arr[j+1] = key\n",
        "\n",
        "arr = [64, 34, 25, 12, 22, 11, 90]\n",
        "insertion_sort(arr)\n",
        "\n",
        "def time_taken_sorting(cost_function, arr):\n",
        "  start_time = time.time()\n",
        "  cost_function(arr)\n",
        "  end_time = time.time()\n",
        "  return end_time - start_time\n",
        "\n",
        "time_taken = time_taken_sorting(insertion_sort, arr)\n",
        "\n",
        "print(\"Sorted array:\", arr)\n",
        "print(time_taken)"
      ],
      "metadata": {
        "colab": {
          "base_uri": "https://localhost:8080/"
        },
        "id": "mOCkIAD7g9WK",
        "outputId": "f29df147-1f05-47a9-81f8-aede5cd779e2"
      },
      "execution_count": null,
      "outputs": [
        {
          "output_type": "stream",
          "name": "stdout",
          "text": [
            "Sorted array: [11, 12, 22, 25, 34, 64, 90]\n",
            "4.291534423828125e-06\n"
          ]
        }
      ]
    },
    {
      "cell_type": "markdown",
      "source": [
        "c) Merge Sort\n",
        "- Divide and Conquer Sorting Algorithm\n",
        "- Divides into 2 half, solves it and combines to solve overall solution\n",
        "- Efficient and stable algorithm with O(n log n) time complexity"
      ],
      "metadata": {
        "id": "UtkTrbe8g9yU"
      }
    },
    {
      "cell_type": "code",
      "source": [
        "def merge_sort(arr):\n",
        "    if len(arr) > 1:\n",
        "        mid = len(arr) // 2\n",
        "        L = arr[:mid]\n",
        "        R = arr[mid:]\n",
        "\n",
        "        merge_sort(L)\n",
        "        merge_sort(R)\n",
        "\n",
        "        i = j = k = 0\n",
        "\n",
        "        while i < len(L) and j < len(R):\n",
        "            if L[i] < R[j]:\n",
        "                arr[k] = L[i]\n",
        "                i += 1\n",
        "            else:\n",
        "                arr[k] = R[j]\n",
        "                j += 1\n",
        "            k += 1\n",
        "\n",
        "        while i < len(L):\n",
        "            arr[k] = L[i]\n",
        "            i += 1\n",
        "            k += 1\n",
        "\n",
        "        while j < len(R):\n",
        "            arr[k] = R[j]\n",
        "            j += 1\n",
        "            k += 1\n",
        "\n",
        "# Example usage:\n",
        "arr = [64, 34, 25, 12, 22, 11, 90]\n",
        "merge_sort(arr)\n",
        "print(\"Sorted array:\", arr)\n"
      ],
      "metadata": {
        "colab": {
          "base_uri": "https://localhost:8080/"
        },
        "id": "0o9oK7Q1g_yD",
        "outputId": "4d2f5331-056f-407f-e448-a16097f74a50"
      },
      "execution_count": null,
      "outputs": [
        {
          "output_type": "stream",
          "name": "stdout",
          "text": [
            "Sorted array: [11, 12, 22, 25, 34, 64, 90]\n"
          ]
        }
      ]
    },
    {
      "cell_type": "markdown",
      "source": [
        "d) Quicksort\n",
        "- With Pivot\n",
        "- Divide and Conquer Algorithm, splits into 2 and solves it. And after that combines them to solve overall problem\n",
        "- Fast and efficient with O (n log n) time complexity\n",
        "- The choice of Pivot affects a lot"
      ],
      "metadata": {
        "id": "oFPiezbzhAWf"
      }
    },
    {
      "cell_type": "code",
      "source": [
        "def quick_sort(arr):\n",
        "    if len(arr) <= 1:\n",
        "        return arr\n",
        "    pivot = arr[len(arr) // 2]\n",
        "    left = [x for x in arr if x < pivot]\n",
        "    middle = [x for x in arr if x == pivot]\n",
        "    right = [x for x in arr if x > pivot]\n",
        "    return quick_sort(left) + middle + quick_sort(right)\n",
        "\n",
        "# Example usage:\n",
        "arr = [64, 34, 25, 12, 22, 11, 90]\n",
        "arr = quick_sort(arr)\n",
        "print(\"Sorted array:\", arr)"
      ],
      "metadata": {
        "colab": {
          "base_uri": "https://localhost:8080/"
        },
        "id": "MSCjNCkDhE8c",
        "outputId": "e3246da6-c44b-4413-d687-55a6432e008a"
      },
      "execution_count": null,
      "outputs": [
        {
          "output_type": "stream",
          "name": "stdout",
          "text": [
            "Sorted array: [11, 12, 22, 25, 34, 64, 90]\n"
          ]
        }
      ]
    },
    {
      "cell_type": "markdown",
      "source": [
        "5. Searching Algorithms\n",
        "\n",
        "a) Linear Search\n",
        "- Checks each element in the array, untill it founds the right one\n",
        "- Average case: O(n) time complexity"
      ],
      "metadata": {
        "id": "DrE3Iivbu8M_"
      }
    },
    {
      "cell_type": "code",
      "source": [
        "def linear_search(arr, target):\n",
        "  for i in range(len(arr)):\n",
        "    if arr[i] ==target:\n",
        "      return i\n",
        "    return -1\n",
        "\n",
        "target = 11\n",
        "arr = [1,22,33, 44, 11,34,45]\n",
        "\n",
        "index = linear_search(arr, target)\n",
        "if index != -1:\n",
        "    print(\"Target\", target, \"found at index:\", index)\n",
        "else:\n",
        "    print(\"Target\", target, \"not found in the array\")\n",
        "\n",
        "linear_search(arr, target)\n",
        "print(index)"
      ],
      "metadata": {
        "id": "PkQ5JwcAVQ3R",
        "colab": {
          "base_uri": "https://localhost:8080/"
        },
        "outputId": "8479c0f0-1b6b-4dde-97e9-72c077dd62a9"
      },
      "execution_count": null,
      "outputs": [
        {
          "output_type": "stream",
          "name": "stdout",
          "text": [
            "Target 11 not found in the array\n",
            "-1\n"
          ]
        }
      ]
    },
    {
      "cell_type": "markdown",
      "source": [
        "b) Binary Search\n",
        "- Divide and Conquer algorithm which works on sorted collections\n",
        "- Continuous divides the array into half till the target found\n",
        "- Average case: (O log n) time complexity"
      ],
      "metadata": {
        "id": "QwyF7Recwawr"
      }
    },
    {
      "cell_type": "code",
      "source": [
        "def binary_search(arr, target):\n",
        "    left, right = 0, len(arr) - 1\n",
        "    while left <= right:\n",
        "        mid = (left + right) // 2\n",
        "        if arr[mid] == target:\n",
        "            return mid  # Return the index if target is found\n",
        "        elif arr[mid] < target:\n",
        "            left = mid + 1\n",
        "        else:\n",
        "            right = mid - 1\n",
        "    return -1  # Return -1 if target is not found\n",
        "\n",
        "# Example usage:\n",
        "arr = [2, 3, 5, 7, 11, 13, 17]\n",
        "target = 11\n",
        "index = binary_search(arr, target)\n",
        "if index != -1:\n",
        "    print(\"Target\", target, \"found at index:\", index)\n",
        "else:\n",
        "    print(\"Target\", target, \"not found in the array\")\n"
      ],
      "metadata": {
        "colab": {
          "base_uri": "https://localhost:8080/"
        },
        "id": "aO0Gnm4Wwga6",
        "outputId": "9c41291f-da10-46ca-d1d0-f5cc27e9ddac"
      },
      "execution_count": null,
      "outputs": [
        {
          "output_type": "stream",
          "name": "stdout",
          "text": [
            "Target 11 found at index: 4\n"
          ]
        }
      ]
    },
    {
      "cell_type": "markdown",
      "source": [
        "c) Depth-First Search (DFS) and Breadth First Search (BFS)\n",
        "- DFS and BFS are graph traversal algorithms used to visit all the vertices of a graph. They can be used to search for a target element or to explore a graph structure."
      ],
      "metadata": {
        "id": "7fDGbbHVwl0S"
      }
    },
    {
      "cell_type": "code",
      "source": [
        "def dfs(graph, start, visited=None):\n",
        "    if visited is None:\n",
        "        visited = set()\n",
        "    visited.add(start)\n",
        "    print(start, end=' ')\n",
        "    for neighbor in graph[start]:\n",
        "        if neighbor not in visited:\n",
        "            dfs(graph, neighbor, visited)\n",
        "\n",
        "graph = {\n",
        "    'A': ['B', 'C'],\n",
        "    'B': ['D', 'E'],\n",
        "    'C': ['F'],\n",
        "    'D': [],\n",
        "    'E': ['F'],\n",
        "    'F': []\n",
        "}\n",
        "print(\"Depth-First Search:\")\n",
        "dfs(graph, 'A')"
      ],
      "metadata": {
        "colab": {
          "base_uri": "https://localhost:8080/"
        },
        "id": "if7c9E_Uwuj8",
        "outputId": "9bcf05c1-42f8-4194-8897-22fa49cb0cf1"
      },
      "execution_count": null,
      "outputs": [
        {
          "output_type": "stream",
          "name": "stdout",
          "text": [
            "Depth-First Search:\n",
            "A B D E F C "
          ]
        }
      ]
    },
    {
      "cell_type": "markdown",
      "source": [
        "Breadth-First Search (BFS):\n",
        "\n",
        "- BFS explores all vertices at the present depth before moving on to the vertices at the next depth level.\n",
        "- It traverses the breadth of a tree or graph.\n",
        "- It uses a queue data structure to keep track of vertices to visit.\n",
        "BFS is typically implemented using a queue.\n",
        "- BFS is often used to find the shortest path or shortest distance between two nodes in an unweighted graph."
      ],
      "metadata": {
        "id": "KjSNkQpB6ho2"
      }
    },
    {
      "cell_type": "code",
      "source": [
        "from collections import deque\n",
        "\n",
        "def bfs(graph, start):\n",
        "    visited = set()\n",
        "    queue = deque([start])\n",
        "    while queue:\n",
        "        vertex = queue.popleft()\n",
        "        if vertex not in visited:\n",
        "            visited.add(vertex)\n",
        "            print(vertex, end=' ')\n",
        "            for neighbor in graph[vertex]:\n",
        "                if neighbor not in visited:\n",
        "                    queue.append(neighbor)\n",
        "\n",
        "graph = {\n",
        "    'A': ['B', 'C'],\n",
        "    'B': ['D', 'E'],\n",
        "    'C': ['F'],\n",
        "    'D': [],\n",
        "    'E': ['F'],\n",
        "    'F': []\n",
        "}\n",
        "print(\"Breadth-First Search:\")\n",
        "bfs(graph, 'A')"
      ],
      "metadata": {
        "colab": {
          "base_uri": "https://localhost:8080/"
        },
        "id": "t2bsmpjb6a3E",
        "outputId": "0af64449-34c4-42a2-8a03-3c0eb31f07e6"
      },
      "execution_count": null,
      "outputs": [
        {
          "output_type": "stream",
          "name": "stdout",
          "text": [
            "Breadth-First Search:\n",
            "A B C D E F "
          ]
        }
      ]
    },
    {
      "cell_type": "markdown",
      "source": [
        "6. Hashing algorithm (using Hash tables)\n",
        "- Convert data of arbitrary size into the fixed-size\n",
        "- It is used for data retrieval, data storage, cryptography\n",
        "- Hashing uses a hash function to map keys to array indices, allowing for constant-time retrieval of values associated with those keys."
      ],
      "metadata": {
        "id": "N7LBKWq5VOTo"
      }
    },
    {
      "cell_type": "code",
      "source": [
        "data = 'Hello world!'\n",
        "hash_value = hash(data)\n",
        "\n",
        "print(hash_value)\n",
        "\n",
        "def hash_table_search(hash_table, key):\n",
        "    if key in hash_table:\n",
        "        return hash_table[key]\n",
        "    else:\n",
        "        return None\n",
        "\n",
        "# Example usage:\n",
        "hash_table = {'apple': 5, 'banana': 7, 'cherry': 10}\n",
        "key = 'banana'\n",
        "value = hash_table_search(hash_table, key)\n",
        "if value is not None:\n",
        "    print(\"Value associated with key\", key, \"is:\", value)\n",
        "else:\n",
        "    print(\"Key\", key, \"not found in the hash table\")"
      ],
      "metadata": {
        "id": "RIw8KDGH4bOm",
        "colab": {
          "base_uri": "https://localhost:8080/"
        },
        "outputId": "7765d370-6bab-411c-d5d2-1a468cc3e2ca"
      },
      "execution_count": null,
      "outputs": [
        {
          "output_type": "stream",
          "name": "stdout",
          "text": [
            "3164718442763369310\n",
            "Value associated with key banana is: 7\n"
          ]
        }
      ]
    },
    {
      "cell_type": "markdown",
      "source": [
        "# Coding Questions"
      ],
      "metadata": {
        "id": "Vk8EDU3pEFmc"
      }
    },
    {
      "cell_type": "markdown",
      "source": [
        "1. Palindrome checker\n",
        "- Question: Write a function to check if a given string is a palindrome (reads the same forwards and backwards).\n",
        "This question assesses string manipulation and basic algorithmic thinking."
      ],
      "metadata": {
        "id": "CSEnvUaCEdJc"
      }
    },
    {
      "cell_type": "code",
      "source": [
        "def is_palindrome(s):\n",
        "  s = ''.join(char.lower() for char in s if char.isalnum())\n",
        "  return s == s[::-1]\n",
        "\n",
        "print(is_palindrome(\"A man, a plan, a canal, Panama\"))  # Output: True\n",
        "print(is_palindrome('hiiissih'))\n"
      ],
      "metadata": {
        "colab": {
          "base_uri": "https://localhost:8080/"
        },
        "id": "MNOckMq0EHVe",
        "outputId": "5d906689-4515-4c81-e767-232d463997cd"
      },
      "execution_count": null,
      "outputs": [
        {
          "output_type": "stream",
          "name": "stdout",
          "text": [
            "True\n",
            "False\n"
          ]
        }
      ]
    },
    {
      "cell_type": "markdown",
      "source": [
        "2. Sum of Digits\n",
        "- Question: Write a function that takes an integer as input and returns the sum of its digits.\n",
        "This question evaluates basic arithmetic operations and iteration."
      ],
      "metadata": {
        "id": "OIGMcd9tFZVJ"
      }
    },
    {
      "cell_type": "code",
      "source": [
        "def sum_digits(num):\n",
        "  n_str = str(num)\n",
        "  total = 0\n",
        "\n",
        "  for i in n_str:\n",
        "    total+=int(i)\n",
        "  return total\n",
        "\n",
        "print(sum_digits(123))\n",
        "print(sum_digits(122))"
      ],
      "metadata": {
        "colab": {
          "base_uri": "https://localhost:8080/"
        },
        "id": "bldFuFKIFDPK",
        "outputId": "74ee8337-cbdf-4bb2-f64c-79a17c0ae834"
      },
      "execution_count": null,
      "outputs": [
        {
          "output_type": "stream",
          "name": "stdout",
          "text": [
            "6\n",
            "5\n"
          ]
        }
      ]
    },
    {
      "cell_type": "markdown",
      "source": [
        "3. Factorial calculation"
      ],
      "metadata": {
        "id": "SIiFIV2qGpuo"
      }
    },
    {
      "cell_type": "code",
      "source": [
        "def factorial(n):\n",
        "  if n ==0 or n==1:\n",
        "    return 1\n",
        "  else:\n",
        "    return n*factorial(n-1)\n",
        "\n",
        "print(factorial(5))"
      ],
      "metadata": {
        "colab": {
          "base_uri": "https://localhost:8080/"
        },
        "id": "p_Sw7wR3FtJh",
        "outputId": "7b51ccca-7c86-476b-82e0-a347eae80022"
      },
      "execution_count": null,
      "outputs": [
        {
          "output_type": "stream",
          "name": "stdout",
          "text": [
            "120\n"
          ]
        }
      ]
    },
    {
      "cell_type": "markdown",
      "source": [
        "4. Two sum\n",
        "\n",
        "Given an array of integers nums and an integer target, return indices of the two numbers such that they add up to target."
      ],
      "metadata": {
        "id": "_i-TYrXNTYIM"
      }
    },
    {
      "cell_type": "code",
      "source": [
        "def twoSum(nums, target):\n",
        "  seen ={}\n",
        "  for i, num in enumerate(nums):\n",
        "    complement = target- num\n",
        "    if complement in seen:\n",
        "      return [seen[complement], i]\n",
        "    seen[num] =i\n",
        "\n",
        "nums = [2, 7, 11, 15]\n",
        "target = 9\n",
        "result = twoSum(nums, target)\n",
        "print(\"Indices of the two numbers:\", result)"
      ],
      "metadata": {
        "id": "wz6s_N1JG3Sk",
        "colab": {
          "base_uri": "https://localhost:8080/"
        },
        "outputId": "ea0ab5bf-456f-459e-a8da-d490a279d37f"
      },
      "execution_count": null,
      "outputs": [
        {
          "output_type": "stream",
          "name": "stdout",
          "text": [
            "Indices of the two numbers: [0, 1]\n"
          ]
        }
      ]
    },
    {
      "cell_type": "markdown",
      "source": [
        "5. Reverse a string"
      ],
      "metadata": {
        "id": "PJnov1kSTdQQ"
      }
    },
    {
      "cell_type": "code",
      "source": [
        "def reverse_string(s):\n",
        "  return s[::-1]\n",
        "\n",
        "s = 'hi'\n",
        "print(reverse_string(s))"
      ],
      "metadata": {
        "colab": {
          "base_uri": "https://localhost:8080/"
        },
        "id": "Bq235KM9857C",
        "outputId": "5473f0f8-fc4b-4535-c575-de2e5aaf4f94"
      },
      "execution_count": null,
      "outputs": [
        {
          "output_type": "stream",
          "name": "stdout",
          "text": [
            "ih\n"
          ]
        }
      ]
    },
    {
      "cell_type": "markdown",
      "source": [
        "6. Binary search one more time"
      ],
      "metadata": {
        "id": "HMn-VdKKTfmG"
      }
    },
    {
      "cell_type": "code",
      "source": [
        "def binary_search(arr, target):\n",
        "    left, right = 0, len(arr) - 1\n",
        "\n",
        "    while left <= right:\n",
        "        mid = (left + right) // 2\n",
        "        if arr[mid] == target:\n",
        "            return mid\n",
        "        elif arr[mid] < target:\n",
        "            left = mid + 1\n",
        "        else:\n",
        "            right = mid - 1\n",
        "\n",
        "    return -1\n",
        "\n",
        "arr = [2, 4, 6, 8, 10, 12, 14, 16, 18, 20]\n",
        "target = 12\n",
        "result = binary_search(arr, target)\n",
        "if result != -1:\n",
        "    print(\"Element\", target, \"found at index:\", result)\n",
        "else:\n",
        "    print(\"Element\", target, \"not found in the array\")\n"
      ],
      "metadata": {
        "colab": {
          "base_uri": "https://localhost:8080/"
        },
        "id": "aJDEMc5LTktS",
        "outputId": "f041e932-2476-4e3c-a950-054516665334"
      },
      "execution_count": null,
      "outputs": [
        {
          "output_type": "stream",
          "name": "stdout",
          "text": [
            "Element 12 found at index: 5\n"
          ]
        }
      ]
    },
    {
      "cell_type": "markdown",
      "source": [
        "7. Anagram check"
      ],
      "metadata": {
        "id": "K2Sx9pDBTlcn"
      }
    },
    {
      "cell_type": "code",
      "source": [
        "def is_anagram(str1, str2):\n",
        "  str1 = str1.replace(\" \", \"\").lower()\n",
        "  str2 = str2.replace(\" \", \"\").lower()\n",
        "\n",
        "  return sorted(str1) == sorted(str2)\n",
        "\n",
        "str1 = \"listen\"\n",
        "str2 = \"silent\"\n",
        "if is_anagram(str1, str2):\n",
        "    print(f\"{str1} and {str2} are anagrams.\")\n",
        "else:\n",
        "    print(f\"{str1} and {str2} are not anagrams.\")"
      ],
      "metadata": {
        "colab": {
          "base_uri": "https://localhost:8080/"
        },
        "id": "XgyzcSFhTn72",
        "outputId": "1311478a-f234-43e7-d27d-f068d073477e"
      },
      "execution_count": null,
      "outputs": [
        {
          "output_type": "stream",
          "name": "stdout",
          "text": [
            "listen and silent are anagrams.\n"
          ]
        }
      ]
    },
    {
      "cell_type": "markdown",
      "source": [
        "8. Prime Number check"
      ],
      "metadata": {
        "id": "H2bNa6czTokV"
      }
    },
    {
      "cell_type": "code",
      "source": [
        "def is_prime(n):\n",
        "  if num<2:\n",
        "    return False\n",
        "\n",
        "  for i in range(2, n):\n",
        "      if n % i == 0:\n",
        "          return False\n",
        "\n",
        "  return True\n",
        "\n",
        "num = 17\n",
        "print(is_prime(num))\n",
        "\n",
        "num = 10\n",
        "print(is_prime(num))"
      ],
      "metadata": {
        "colab": {
          "base_uri": "https://localhost:8080/"
        },
        "id": "jSSZ-7-CTqb0",
        "outputId": "5c6e3210-03d8-432d-92f6-e1f335692c84"
      },
      "execution_count": null,
      "outputs": [
        {
          "output_type": "stream",
          "name": "stdout",
          "text": [
            "True\n",
            "False\n"
          ]
        }
      ]
    },
    {
      "cell_type": "markdown",
      "source": [
        "9. FizzBuzz"
      ],
      "metadata": {
        "id": "BsngmSktTqzt"
      }
    },
    {
      "cell_type": "code",
      "source": [
        "def fizz_buzz(n):\n",
        "    for i in range(1, n + 1):\n",
        "        if i % 3 == 0 and i % 5 == 0:\n",
        "            print(\"FizzBuzz\")\n",
        "        elif i % 3 == 0:\n",
        "            print(\"Fizz\")\n",
        "        elif i % 5 == 0:\n",
        "            print(\"Buzz\")\n",
        "        else:\n",
        "            print(i)\n",
        "fizz_buzz(15)"
      ],
      "metadata": {
        "colab": {
          "base_uri": "https://localhost:8080/"
        },
        "id": "FoeDORgcTsah",
        "outputId": "4d10b10a-134f-4e7c-9327-e998418d769b"
      },
      "execution_count": null,
      "outputs": [
        {
          "output_type": "stream",
          "name": "stdout",
          "text": [
            "1\n",
            "2\n",
            "Fizz\n",
            "4\n",
            "Buzz\n",
            "Fizz\n",
            "7\n",
            "8\n",
            "Fizz\n",
            "Buzz\n",
            "11\n",
            "Fizz\n",
            "13\n",
            "14\n",
            "FizzBuzz\n"
          ]
        }
      ]
    },
    {
      "cell_type": "markdown",
      "source": [
        "10. Maximum Subarray Sum"
      ],
      "metadata": {
        "id": "JalZhLYCTs-b"
      }
    },
    {
      "cell_type": "code",
      "source": [
        "def max_subarray_sum(nums):\n",
        "    max_sum = nums[0]\n",
        "    current_sum = nums[0]\n",
        "\n",
        "    for num in nums[1:]:\n",
        "        current_sum = max(num, current_sum + num)\n",
        "        max_sum = max(max_sum, current_sum)\n",
        "\n",
        "    return max_sum\n",
        "\n",
        "nums = [-2, 1, -3, 4, -1, 2, 1, -5, 4]\n",
        "result = max_subarray_sum(nums)\n",
        "print(\"Maximum subarray sum:\", result)\n"
      ],
      "metadata": {
        "colab": {
          "base_uri": "https://localhost:8080/"
        },
        "id": "OGaA7zOeTzaI",
        "outputId": "91f59657-29aa-48e8-c7cc-599af07365f0"
      },
      "execution_count": null,
      "outputs": [
        {
          "output_type": "stream",
          "name": "stdout",
          "text": [
            "Maximum subarray sum: 6\n"
          ]
        }
      ]
    },
    {
      "cell_type": "code",
      "source": [
        "fruits = ['aapple', 'banan', 'cherry', 'kiwi']\n",
        "for i in fruits:\n",
        "  print(i)"
      ],
      "metadata": {
        "id": "zXORbZdqoFeh",
        "colab": {
          "base_uri": "https://localhost:8080/"
        },
        "outputId": "caea7286-93d1-489a-a12e-33e4ef2e406e"
      },
      "execution_count": 3,
      "outputs": [
        {
          "output_type": "stream",
          "name": "stdout",
          "text": [
            "aapple\n",
            "banan\n",
            "cherry\n",
            "kiwi\n"
          ]
        }
      ]
    },
    {
      "cell_type": "code",
      "source": [
        "arr1 = [12,3,4,6,8,9,5,2]\n",
        "\n",
        "print(arr1.max())\n",
        "print(arr1.min())"
      ],
      "metadata": {
        "colab": {
          "base_uri": "https://localhost:8080/",
          "height": 176
        },
        "id": "17shZ0d0xJFw",
        "outputId": "b09e75a6-e39e-40b6-cf33-1a54d271d252"
      },
      "execution_count": 4,
      "outputs": [
        {
          "output_type": "error",
          "ename": "AttributeError",
          "evalue": "'list' object has no attribute 'max'",
          "traceback": [
            "\u001b[0;31m---------------------------------------------------------------------------\u001b[0m",
            "\u001b[0;31mAttributeError\u001b[0m                            Traceback (most recent call last)",
            "\u001b[0;32m<ipython-input-4-a7095d88f19d>\u001b[0m in \u001b[0;36m<cell line: 2>\u001b[0;34m()\u001b[0m\n\u001b[1;32m      1\u001b[0m \u001b[0marr1\u001b[0m \u001b[0;34m=\u001b[0m \u001b[0;34m[\u001b[0m\u001b[0;36m12\u001b[0m\u001b[0;34m,\u001b[0m\u001b[0;36m3\u001b[0m\u001b[0;34m,\u001b[0m\u001b[0;36m4\u001b[0m\u001b[0;34m,\u001b[0m\u001b[0;36m6\u001b[0m\u001b[0;34m,\u001b[0m\u001b[0;36m8\u001b[0m\u001b[0;34m,\u001b[0m\u001b[0;36m9\u001b[0m\u001b[0;34m,\u001b[0m\u001b[0;36m5\u001b[0m\u001b[0;34m,\u001b[0m\u001b[0;36m2\u001b[0m\u001b[0;34m]\u001b[0m\u001b[0;34m\u001b[0m\u001b[0;34m\u001b[0m\u001b[0m\n\u001b[0;32m----> 2\u001b[0;31m \u001b[0mprint\u001b[0m\u001b[0;34m(\u001b[0m\u001b[0marr1\u001b[0m\u001b[0;34m.\u001b[0m\u001b[0mmax\u001b[0m\u001b[0;34m(\u001b[0m\u001b[0;34m)\u001b[0m\u001b[0;34m)\u001b[0m\u001b[0;34m\u001b[0m\u001b[0;34m\u001b[0m\u001b[0m\n\u001b[0m\u001b[1;32m      3\u001b[0m \u001b[0mprint\u001b[0m\u001b[0;34m(\u001b[0m\u001b[0marr1\u001b[0m\u001b[0;34m.\u001b[0m\u001b[0mmin\u001b[0m\u001b[0;34m(\u001b[0m\u001b[0;34m)\u001b[0m\u001b[0;34m)\u001b[0m\u001b[0;34m\u001b[0m\u001b[0;34m\u001b[0m\u001b[0m\n",
            "\u001b[0;31mAttributeError\u001b[0m: 'list' object has no attribute 'max'"
          ]
        }
      ]
    },
    {
      "cell_type": "code",
      "source": [],
      "metadata": {
        "id": "t9Cs5ymIxbFy"
      },
      "execution_count": null,
      "outputs": []
    }
  ]
}