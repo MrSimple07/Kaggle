{
  "nbformat": 4,
  "nbformat_minor": 0,
  "metadata": {
    "colab": {
      "provenance": [],
      "authorship_tag": "ABX9TyO9vFvcHGhFJisBSkGRVA8C",
      "include_colab_link": true
    },
    "kernelspec": {
      "name": "python3",
      "display_name": "Python 3"
    },
    "language_info": {
      "name": "python"
    }
  },
  "cells": [
    {
      "cell_type": "markdown",
      "metadata": {
        "id": "view-in-github",
        "colab_type": "text"
      },
      "source": [
        "<a href=\"https://colab.research.google.com/github/MrSimple07/Kaggle/blob/main/Data_Structures_%26_Algorithms.ipynb\" target=\"_parent\"><img src=\"https://colab.research.google.com/assets/colab-badge.svg\" alt=\"Open In Colab\"/></a>"
      ]
    },
    {
      "cell_type": "markdown",
      "source": [
        "# Big O notation\n",
        "\n",
        "- Time complexity 0 (n)"
      ],
      "metadata": {
        "id": "BJq2qUZnmZyL"
      }
    },
    {
      "cell_type": "code",
      "execution_count": 6,
      "metadata": {
        "colab": {
          "base_uri": "https://localhost:8080/"
        },
        "id": "r8DIFVSXmLI5",
        "outputId": "f4e3587d-ed26-49cb-e8a0-36407fb011ce"
      },
      "outputs": [
        {
          "output_type": "stream",
          "name": "stdout",
          "text": [
            "CPU times: user 4 µs, sys: 0 ns, total: 4 µs\n",
            "Wall time: 7.39 µs\n"
          ]
        },
        {
          "output_type": "execute_result",
          "data": {
            "text/plain": [
              "[4, 16, 25]"
            ]
          },
          "metadata": {},
          "execution_count": 6
        }
      ],
      "source": [
        "%time\n",
        "def get_squared_numbers(numbers):\n",
        "  squared_numbers = []\n",
        "  for n in numbers:\n",
        "    squared_numbers.append(n*n)\n",
        "  return squared_numbers\n",
        "\n",
        "numbers = [2,4,5]\n",
        "get_squared_numbers(numbers)"
      ]
    },
    {
      "cell_type": "markdown",
      "source": [
        "-  Time complexity 0 (1)"
      ],
      "metadata": {
        "id": "J4YhupbzrfsX"
      }
    },
    {
      "cell_type": "code",
      "source": [
        "def find_first_pe(prices, eps, index):\n",
        "  pe = prices[index]/eps[index]\n",
        "  return pe"
      ],
      "metadata": {
        "id": "s-OcKS5RnX1W"
      },
      "execution_count": 7,
      "outputs": []
    },
    {
      "cell_type": "markdown",
      "source": [
        "- Time Complexity 0 (n*n)\n",
        "\n",
        "time = a*n2 + b"
      ],
      "metadata": {
        "id": "pM4TIG0-sQ0d"
      }
    },
    {
      "cell_type": "code",
      "source": [
        "numbers = [2,3,5,7,4,5,6]\n",
        "\n",
        "for i in range(len(numbers)):\n",
        "  for j in range(i+1, len(numbers)):\n",
        "    if numbers[i] == numbers[j]:\n",
        "      print(numbers[i])\n",
        "      break"
      ],
      "metadata": {
        "colab": {
          "base_uri": "https://localhost:8080/"
        },
        "id": "8XlrcVxMr3ts",
        "outputId": "e189d193-8371-419d-dbbc-c23490bf0f6b"
      },
      "execution_count": 9,
      "outputs": [
        {
          "output_type": "stream",
          "name": "stdout",
          "text": [
            "5\n"
          ]
        }
      ]
    },
    {
      "cell_type": "markdown",
      "source": [
        "# Data Structures Python\n",
        "\n",
        "## Linear Data Structures and for Python\n",
        "- Arrays (list)\n",
        "- Linked Lists\n",
        "- Tuple\n",
        "- Stacks\n",
        "- Queues (collections deque)\n",
        "- Deques (collections deque)\n",
        "- Set\n",
        "\n",
        "## Nonlinear Data Structures\n",
        "- Trees\n",
        "- Graphs\n",
        "- Heaps\n",
        "- Hash Tables (dictionary)\n",
        "- trie (Prefix Tree)\n",
        "\n",
        "\n",
        "\n",
        "---\n",
        "\n",
        "\n",
        "\n",
        "### 1. Lists (Arrays)\n",
        "\n",
        "- It is like an arrays.\n",
        "- Ordered collection of data.\n",
        "- It is very flexible\n",
        "- Storing large collections of data  for fast element access (image pixels)\n",
        "\n",
        "\n",
        "```\n",
        "List = ['Someone', 'Something']\n",
        "```\n",
        "\n",
        "\n",
        "\n",
        "2. Dictionary\n",
        "- It is like hash tables with the ime complexity of O(1).\n",
        "- It holds key: value pairs.\n",
        "\n",
        "3. Tuple\n",
        "- it is like a list, but it is immutable. So, we cannot add or remove, once it is created"
      ],
      "metadata": {
        "id": "Qr61kNpe12t2"
      }
    },
    {
      "cell_type": "code",
      "source": [
        "#Dictionaries\n",
        "my_dict = {\"name\": \"John\", \"age\": 30, \"city\": \"New York\"}\n",
        "print(\"Dictionary:\", my_dict)\n",
        "\n",
        "print(my_dict['name'])\n",
        "\n",
        "my_dict['job']= 'ML Engineer'\n",
        "print(my_dict)\n",
        "\n",
        "for key, value in my_dict.items():\n",
        "  print(key, ':', value)\n",
        "\n",
        "#Tuples\n",
        "tuple = ('smt', 'someone')"
      ],
      "metadata": {
        "colab": {
          "base_uri": "https://localhost:8080/"
        },
        "id": "72QugLxV3ltE",
        "outputId": "8195ae32-3515-4f64-ed5d-1560bb4254bf"
      },
      "execution_count": 21,
      "outputs": [
        {
          "output_type": "stream",
          "name": "stdout",
          "text": [
            "Dictionary: {'name': 'John', 'age': 30, 'city': 'New York'}\n",
            "John\n",
            "{'name': 'John', 'age': 30, 'city': 'New York', 'job': 'ML Engineer'}\n",
            "name : John\n",
            "age : 30\n",
            "city : New York\n",
            "job : ML Engineer\n"
          ]
        }
      ]
    },
    {
      "cell_type": "markdown",
      "source": [
        "4. Set\n",
        "- Mutable and does not allow any duplicate element\n",
        "-  The data structure used in this is Hashing, a popular technique to perform insertion, deletion, and traversal in O(1) on average.\n",
        "- Sets automatically remove duplicate elements, ensuring that each element is unique\n",
        "- Sets support various mathematical operations\n",
        "- *union, add, remove, intersection, difference, symmetric_difference operations*"
      ],
      "metadata": {
        "id": "b57RqtcL4C_Y"
      }
    },
    {
      "cell_type": "code",
      "source": [
        "my_set= {1,2,3,4,5}\n",
        "\n",
        "my_set.add(6)\n",
        "print(my_set)\n",
        "\n",
        "set1 = {1, 2, 3, 4, 5}\n",
        "set2 = {4, 5, 6, 7, 8}\n",
        "\n",
        "# Union of sets\n",
        "union_set = set1.union(set2)\n",
        "print(\"Union of sets:\", union_set)\n",
        "\n",
        "# Intersection of sets\n",
        "intersection_set = set1.intersection(set2)\n",
        "print(\"Intersection of sets:\", intersection_set)\n",
        "\n",
        "# Difference of sets\n",
        "difference_set = set1.difference(set2)\n",
        "print(\"Difference of sets (set1 - set2):\", difference_set)\n",
        "\n",
        "# Symmetric difference of sets\n",
        "symmetric_difference_set = set1.symmetric_difference(set2)\n",
        "print(\"Symmetric difference of sets:\", symmetric_difference_set)"
      ],
      "metadata": {
        "colab": {
          "base_uri": "https://localhost:8080/"
        },
        "id": "mTWOgguB0gEF",
        "outputId": "8ed2f619-e367-4fe2-ab74-bf9d886b21bb"
      },
      "execution_count": 17,
      "outputs": [
        {
          "output_type": "stream",
          "name": "stdout",
          "text": [
            "{1, 2, 3, 4, 5, 6}\n",
            "Union of sets: {1, 2, 3, 4, 5, 6, 7, 8}\n",
            "Intersection of sets: {4, 5}\n",
            "Difference of sets (set1 - set2): {1, 2, 3}\n",
            "Symmetric difference of sets: {1, 2, 3, 6, 7, 8}\n"
          ]
        }
      ]
    },
    {
      "cell_type": "markdown",
      "source": [
        "5. Stacks\n",
        "- Useful for parsing expressions, tracking function calls in recursive algorithms, and managing undo/redo functionality in applications.\n",
        "- Stacks can be implemented using list.\n",
        "- append to add, and pop for removing."
      ],
      "metadata": {
        "id": "_K00zcwF4rxn"
      }
    },
    {
      "cell_type": "code",
      "source": [
        "stack = []\n",
        "stack.append(1)\n",
        "stack.append(2)\n",
        "\n",
        "popped_element = stack.pop()\n",
        "print(stack)\n",
        "print(popped_element)"
      ],
      "metadata": {
        "colab": {
          "base_uri": "https://localhost:8080/"
        },
        "id": "ZJAaJeYDJRbM",
        "outputId": "6ed110d3-ea6e-4c6b-f207-1d3439deb3be"
      },
      "execution_count": 12,
      "outputs": [
        {
          "output_type": "stream",
          "name": "stdout",
          "text": [
            "[1]\n",
            "2\n"
          ]
        }
      ]
    },
    {
      "cell_type": "markdown",
      "source": [
        "6. Queues\n",
        "\n",
        "- Applied in scenarios like managing task scheduling, breadth-first search algorithms, and handling requests in a first-come-first-serve manner in systems.\n",
        "- Queues can be implemented using Python's collections.deque, which provides efficient append() and popleft() operations."
      ],
      "metadata": {
        "id": "CIqwJ7bDJlTy"
      }
    },
    {
      "cell_type": "code",
      "source": [
        "from collections import deque\n",
        "\n",
        "queue = deque()\n",
        "queue.append(1)\n",
        "queue.append(2)\n",
        "\n",
        "dequeued_element = queue.popleft()   # Dequeuing an element\n",
        "print(dequeued_element)"
      ],
      "metadata": {
        "colab": {
          "base_uri": "https://localhost:8080/"
        },
        "id": "4CrDjoTxKUMF",
        "outputId": "f0967836-869b-4943-a4b3-797d2939543e"
      },
      "execution_count": 13,
      "outputs": [
        {
          "output_type": "stream",
          "name": "stdout",
          "text": [
            "1\n"
          ]
        }
      ]
    },
    {
      "cell_type": "markdown",
      "source": [
        "7. Linked List\n",
        "- A linked list is a linear data structure consisting of nodes, where each node contains data and a reference to the next node in the sequence\n",
        "- The last node typically points to 'None'\n",
        "\n",
        "\n",
        "Singly Linked Lists and Doubly Linked Lists\n",
        "- Singly has reference to the next node only. It requires less memory\n",
        "- Doubply Linked lists. It has references to both the next and the previous nodes. Consumes more memory"
      ],
      "metadata": {
        "id": "Xaft4CcQ4uQx"
      }
    },
    {
      "cell_type": "markdown",
      "source": [
        "# Nonlinear Data Structures\n",
        "1. Trees\n",
        "- Hierarchical data structures consisting of nodes connected by edges. Each tree has a root node with zero or more child nodes.\n",
        "\n",
        "Types:\n",
        "- a) Binary Tree - Each node has at most 2 children\n",
        "- b) Binary Search Trees (BST) - Left child is less than parent, and right child is greater. It is efficient search, insert, deletion operation\n",
        "- c) Red- Black trees - Balanced binary search trees ensuring logarithmic time complexity for searchm insertion, and deletion\n",
        "\n",
        "Uses:\n",
        "- File systems\n",
        "- Efficient Search, Insertion and deletion Operations in databases and programming\n",
        "- Decision Trees, Sorting Algorithms"
      ],
      "metadata": {
        "id": "BnKQ1VGGtbne"
      }
    },
    {
      "cell_type": "code",
      "source": [
        "class Node:\n",
        "    def __init__(self, data):\n",
        "        self.data = data\n",
        "        self.left = None\n",
        "        self.right = None\n",
        "\n",
        "# Create a binary tree\n",
        "root = Node(1)\n",
        "root.left = Node(2)\n",
        "root.right = Node(3)\n"
      ],
      "metadata": {
        "id": "aQWZd_ddqOS8"
      },
      "execution_count": 2,
      "outputs": []
    },
    {
      "cell_type": "markdown",
      "source": [
        "2. Graphs\n",
        "- Collection of nodes connected by edges\n",
        "\n",
        "Types:\n",
        "- Directed Graph - Edges have a direction (source and destination)\n",
        "- Undirected Graph - Edges don't havedirections\n",
        "- Weighted Graph - Edges have associated weights representing values like distance or costs\n",
        "\n",
        "Uses:\n",
        "- Breadth- First Search (BFS) and Depth-First Search (DFS) for traversal\n",
        "- Finding shortest path\n",
        "- Social Media, Connecting, maps, route planning"
      ],
      "metadata": {
        "id": "Q8CAPEktqM5s"
      }
    },
    {
      "cell_type": "code",
      "source": [
        "from collections import defaultdict\n",
        "\n",
        "graph = defaultdict(list)\n",
        "graph[0].append(1)\n",
        "graph[1].append(2)\n",
        "graph[2].append(0)"
      ],
      "metadata": {
        "id": "FzIjuD5Oqrr7"
      },
      "execution_count": 1,
      "outputs": []
    },
    {
      "cell_type": "markdown",
      "source": [
        "3. Hash tables (python dictionary)\n",
        "- Mapping keys to unique indexes, which makes fast lookups\n",
        "- Usually it is O(1) time complexity\n",
        "\n",
        "Uses:\n",
        "- Caching\n",
        "- Databases for fast key-value access\n"
      ],
      "metadata": {
        "id": "Tp-HprGXrEOl"
      }
    },
    {
      "cell_type": "code",
      "source": [
        "dict1 = {'name': 'Ali', 'age': '12', 'country': 'Utopia'}\n",
        "dict1['name']"
      ],
      "metadata": {
        "colab": {
          "base_uri": "https://localhost:8080/",
          "height": 36
        },
        "id": "Px7Dak2Ms-bq",
        "outputId": "3782abad-e1f5-42be-f741-b1ab29c223f4"
      },
      "execution_count": 3,
      "outputs": [
        {
          "output_type": "execute_result",
          "data": {
            "text/plain": [
              "'Ali'"
            ],
            "application/vnd.google.colaboratory.intrinsic+json": {
              "type": "string"
            }
          },
          "metadata": {},
          "execution_count": 3
        }
      ]
    },
    {
      "cell_type": "markdown",
      "source": [
        "# Some questions and Comparisons"
      ],
      "metadata": {
        "id": "sCzbRremMDsU"
      }
    },
    {
      "cell_type": "markdown",
      "source": [
        "1. Linked list vc Arrays\n",
        "- Insertion and Deletion: Linked lists are more efficient, especially in the middle of the sequence\n",
        "- Random Access: Arrays more efficient, because they can be accessed by index, while linked lists require traversal from the beginning for access\n",
        "- Memory: Arrays have a fixed size and allocate memory statically. Linked lists takes memory dynamically as nodes are added"
      ],
      "metadata": {
        "id": "Iit7OhlMMOoL"
      }
    },
    {
      "cell_type": "code",
      "source": [
        "class Node:\n",
        "    def __init__(self, data):\n",
        "        self.data = data\n",
        "        self.next = None\n",
        "\n",
        "class LinkedList:\n",
        "    def __init__(self):\n",
        "        self.head = None\n",
        "\n",
        "    def append(self, data):\n",
        "        new_node = Node(data)\n",
        "        if not self.head:\n",
        "            self.head = new_node\n",
        "            return\n",
        "        current = self.head\n",
        "        while current.next:\n",
        "            current = current.next\n",
        "        current.next = new_node\n",
        "\n",
        "    def display(self):\n",
        "        current = self.head\n",
        "        while current:\n",
        "            print(current.data, end=\" \")\n",
        "            current = current.next\n",
        "        print()\n",
        "\n",
        "# Create a linked list\n",
        "linked_list = LinkedList()\n",
        "linked_list.append(1)\n",
        "linked_list.append(2)\n",
        "linked_list.append(3)\n",
        "\n",
        "# Display the linked list\n",
        "print(\"Linked List:\")\n",
        "linked_list.display()"
      ],
      "metadata": {
        "colab": {
          "base_uri": "https://localhost:8080/"
        },
        "id": "t7YNMk9SMHhp",
        "outputId": "8dbcd350-f30b-48e8-b024-ac671914f2a8"
      },
      "execution_count": 15,
      "outputs": [
        {
          "output_type": "stream",
          "name": "stdout",
          "text": [
            "Linked List:\n",
            "1 2 3 \n"
          ]
        }
      ]
    },
    {
      "cell_type": "markdown",
      "source": [
        "2. Lists vc Tuples\n",
        "- Lists are mutable, tuples are immutable.\n",
        "- Lists are used when you need a collection of elements, which we can delete, append new items. And also, for complex data manipulations such as sorting, filtering, or mapping elements.\n",
        "\n",
        "- Tuples are more memory-efficient and faster to access compared to lists."
      ],
      "metadata": {
        "id": "xHFdebqOOv02"
      }
    },
    {
      "cell_type": "code",
      "source": [
        "list1 = [1,2,4,56,7]\n",
        "list1.append(5)\n",
        "print(list1)\n",
        "\n",
        "tuple1 = (1,2,45,7,8)"
      ],
      "metadata": {
        "colab": {
          "base_uri": "https://localhost:8080/"
        },
        "id": "DFirk7VX4cP3",
        "outputId": "6395649c-e742-435f-972b-a070ea52b64c"
      },
      "execution_count": 1,
      "outputs": [
        {
          "output_type": "stream",
          "name": "stdout",
          "text": [
            "[1, 2, 4, 56, 7, 5]\n"
          ]
        }
      ]
    },
    {
      "cell_type": "markdown",
      "source": [
        "3. Stacks vc Queues\n",
        "- Stacks for LIFO (Last in, First Out) - re do applications, useful for function calls and backtracking\n",
        "- Queue for FIFO (First in, First Out) - BFS, task scheduling application\n",
        "\n",
        "\n",
        "Queues - Enqueue: O(1)\n"
      ],
      "metadata": {
        "id": "WaOT3dRY32Ay"
      }
    },
    {
      "cell_type": "markdown",
      "source": [
        "# Other Questions & Algorithms"
      ],
      "metadata": {
        "id": "ReMCFtObugaT"
      }
    },
    {
      "cell_type": "markdown",
      "source": [
        "6 most important types of algorithms:\n",
        "\n",
        "1. Brute Force Algorithm\n",
        "2. Recursive Algorithm (Dynamic Programming, Greedy Algorithm, Divide and Conquer Algorithm, Backtracking Algorithm)\n",
        "3. Randomized algorithm\n",
        "4. Sorting Algorithm (Bubble Sort, Insertion sort, Merge sort, Quicksort)\n",
        "5. Searching Algorithm\n",
        "6. Hashing Algorithm"
      ],
      "metadata": {
        "id": "_qouq6nKvIgR"
      }
    },
    {
      "cell_type": "markdown",
      "source": [
        "1. Brute Force Algorithm\n",
        "- Brute force algorithms are straightforward techniques that systematically search through all possible solutions to a problem to find the optimal solution.\n",
        "- Simple implemention, but not the most efficient\n",
        "- Guaranteed Correctness"
      ],
      "metadata": {
        "id": "56MRU0wRU0xS"
      }
    },
    {
      "cell_type": "code",
      "source": [
        "def max_subarray_brute_force(arr):\n",
        "  max_subarray = []\n",
        "\n",
        "  for i in range(len(arr)):\n",
        ""
      ],
      "metadata": {
        "id": "hNRJEm5YUz96"
      },
      "execution_count": null,
      "outputs": []
    },
    {
      "cell_type": "markdown",
      "source": [
        "## 2. Recursive Algorithm (Dynamic Programming, Greedy Algorithm, Divide and Conquer Algorithm, Backtracking Algorithm)\n",
        "\n",
        "- Recursive algorithm - an approach to problem- solving where function calls itself with smaller instances of the same problem till it reaches abase case where solution is straightforward.\n",
        "\n",
        "\n",
        "\n",
        "a) Dynamic Programming - breaking complex problems and solving each problem only once.\n",
        "- Storing all of the solutions\n",
        "- Fibonacchi is example"
      ],
      "metadata": {
        "id": "FH4jY52Lui07"
      }
    },
    {
      "cell_type": "code",
      "source": [
        "def fibonacci(n, memo = {}):\n",
        "  if n in memo:\n",
        "    return memo[n]\n",
        "  if n<=1:\n",
        "    return n\n",
        "\n",
        "  memo[n] = fibonacci(n-1, memo)+ fibonacci(n-2, memo)\n",
        "  return memo[n]\n",
        "\n",
        "n = 10\n",
        "print(fibonacci(n))"
      ],
      "metadata": {
        "colab": {
          "base_uri": "https://localhost:8080/"
        },
        "id": "LSe_WCDsVJNF",
        "outputId": "ce7302c6-e0d3-447d-95d5-0909a3acd7be"
      },
      "execution_count": 2,
      "outputs": [
        {
          "output_type": "stream",
          "name": "stdout",
          "text": [
            "55\n"
          ]
        }
      ]
    },
    {
      "cell_type": "markdown",
      "source": [
        "b)Greedy Algorithm\n",
        "- Finding the best optimal solution AT THE MOMENT\n",
        "- Easy to describe, but not overall optimal\n",
        "- Used when the solution should be found quickly, even its not the best solution"
      ],
      "metadata": {
        "id": "T9LQQGRb2262"
      }
    },
    {
      "cell_type": "code",
      "source": [
        "# Coin change problem\n",
        "\n",
        "def coin_change(coins, amount):\n",
        "  coins.sort(reverse= True)\n",
        "  num_coins = 0\n",
        "  for coin in coins:\n",
        "    num_coins +=amount//coin\n",
        "    amount % coin\n",
        "  return num_coins if amount ==0 else -1\n",
        "\n",
        "coins = [1,2,5,10]\n",
        "amount = 23\n",
        "\n",
        "print(coin_change(coins, amount))"
      ],
      "metadata": {
        "colab": {
          "base_uri": "https://localhost:8080/"
        },
        "id": "VuP1Qd6A8OIk",
        "outputId": "9a7600c3-2b31-4466-fb96-41084eb1300d"
      },
      "execution_count": 4,
      "outputs": [
        {
          "output_type": "stream",
          "name": "stdout",
          "text": [
            "-1\n"
          ]
        }
      ]
    },
    {
      "cell_type": "markdown",
      "source": [
        "C) Divide and Conquer Algorithm\n",
        "\n",
        "- A problem is divided into smaller subproblems, and solved independently\n",
        "- Then all of the solutions will be combined to solve overall problem\n",
        "- Merge Sort is the good example"
      ],
      "metadata": {
        "id": "JXqk1gA289JB"
      }
    },
    {
      "cell_type": "code",
      "source": [
        "def merge_sort(arr):\n",
        "    if len(arr) <= 1:\n",
        "        return arr\n",
        "    mid = len(arr) // 2\n",
        "    left = merge_sort(arr[:mid])\n",
        "    right = merge_sort(arr[mid:])\n",
        "    return merge(left, right)\n",
        "\n",
        "def merge(left, right):\n",
        "    result = []\n",
        "    i = j = 0\n",
        "    while i < len(left) and j < len(right):\n",
        "        if left[i] < right[j]:\n",
        "            result.append(left[i])\n",
        "            i += 1\n",
        "        else:\n",
        "            result.append(right[j])\n",
        "            j += 1\n",
        "    result.extend(left[i:])\n",
        "    result.extend(right[j:])\n",
        "    return result\n",
        "\n",
        "# Example usage\n",
        "arr = [3, 1, 4, 1, 5, 9, 2, 6, 5, 3, 5]\n",
        "sorted_arr = merge_sort(arr)\n",
        "print(\"Sorted array:\", sorted_arr)\n"
      ],
      "metadata": {
        "colab": {
          "base_uri": "https://localhost:8080/"
        },
        "id": "z8Ke856y8_tN",
        "outputId": "b830a9bb-ba65-42b1-dabb-82ca5a377131"
      },
      "execution_count": 5,
      "outputs": [
        {
          "output_type": "stream",
          "name": "stdout",
          "text": [
            "Sorted array: [1, 1, 2, 3, 3, 4, 5, 5, 5, 6, 9]\n"
          ]
        }
      ]
    },
    {
      "cell_type": "markdown",
      "source": [
        "D) Backtracking algorithm\n",
        "- Backtracking is a method for finding solutions to combinatorial problems, such as constraint satisfaction problems, by recursively trying different options and abandoning a search path if it's determined to be invalid.\n",
        "\n",
        "- N-Queens Problem, Sudoku problem"
      ],
      "metadata": {
        "id": "rs99qVKX9ANG"
      }
    },
    {
      "cell_type": "code",
      "source": [
        "def solve_n_queens(n):\n",
        "    def backtrack(row):\n",
        "        if row == n:\n",
        "            solutions.append(list(board))\n",
        "            return\n",
        "        for col in range(n):\n",
        "            if is_valid(row, col):\n",
        "                board[row] = col\n",
        "                backtrack(row + 1)\n",
        "                board[row] = -1\n",
        "\n",
        "    def is_valid(row, col):\n",
        "        for i in range(row):\n",
        "            if board[i] == col or abs(board[i] - col) == row - i:\n",
        "                return False\n",
        "        return True\n",
        "\n",
        "    board = [-1] * n\n",
        "    solutions = []\n",
        "    backtrack(0)\n",
        "    return solutions\n",
        "\n",
        "# Example usage\n",
        "n = 4\n",
        "solutions = solve_n_queens(n)\n",
        "print(\"Solutions for\", n, \"queens problem:\", solutions)\n"
      ],
      "metadata": {
        "colab": {
          "base_uri": "https://localhost:8080/"
        },
        "id": "ex5lNwwF9DIS",
        "outputId": "570bfeaf-d1d9-4eae-d221-d35eb6a4ccc0"
      },
      "execution_count": 6,
      "outputs": [
        {
          "output_type": "stream",
          "name": "stdout",
          "text": [
            "Solutions for 4 queens problem: [[1, 3, 0, 2], [2, 0, 3, 1]]\n"
          ]
        }
      ]
    },
    {
      "cell_type": "markdown",
      "source": [
        "Key differences:\n",
        "- Greedy ALgorithm finds the best solution at each step\n",
        "- Dynamic Programming - divides into smaller subproblems and solves only once. Stores all of the solutions\n",
        "- Divide and conquer, also divides, but into the independent subproblems which will be solved and combined all of it to find overall solution\n",
        "- Backtracking - explores all possible choices."
      ],
      "metadata": {
        "id": "jn5ggu93_mvM"
      }
    },
    {
      "cell_type": "markdown",
      "source": [
        "3. Randomized algorithm\n",
        "\n",
        "- A randomized algorithm is a computational algorithm that makes use of random numbers to make decisions or solve problems.\n",
        "- Randomized algorithms are used to solve complex problems that are difficult to solve with traditional algorithms. They can often find solutions faster, and with greater accuracy than other types of algorithms.\n",
        "- Monte Carlo Algorithm:"
      ],
      "metadata": {
        "id": "fEa8CPpMVGZX"
      }
    },
    {
      "cell_type": "code",
      "source": [
        "import random\n",
        "\n",
        "def monte_carlo_pi(num_points):\n",
        "    points_inside_circle = 0\n",
        "\n",
        "    for _ in range(num_points):\n",
        "        x = random.random()\n",
        "        y = random.random()\n",
        "\n",
        "        if x**2 + y**2 <= 1:\n",
        "            points_inside_circle += 1\n",
        "\n",
        "    pi_estimate = 4 * points_inside_circle / num_points\n",
        "    return pi_estimate\n",
        "\n",
        "num_points = 1000000\n",
        "\n",
        "pi_estimate = monte_carlo_pi(num_points)\n",
        "print(\"Estimated value of pi:\", pi_estimate)\n"
      ],
      "metadata": {
        "colab": {
          "base_uri": "https://localhost:8080/"
        },
        "id": "9WeA4lGlVJxG",
        "outputId": "7ff00898-f07c-440d-c323-2d46dbf02640"
      },
      "execution_count": 13,
      "outputs": [
        {
          "output_type": "stream",
          "name": "stdout",
          "text": [
            "Estimated value of pi: 3.143372\n"
          ]
        }
      ]
    },
    {
      "cell_type": "markdown",
      "source": [
        "4. Sorting Algorithms (Bubble Sort, Insertion sort, Merge sort, Quicksort). Time and space Complexity"
      ],
      "metadata": {
        "id": "6PjtphYhuluq"
      }
    },
    {
      "cell_type": "code",
      "source": [],
      "metadata": {
        "id": "x06oV4DpVKZs"
      },
      "execution_count": null,
      "outputs": []
    },
    {
      "cell_type": "markdown",
      "source": [
        "5. Searching Algorithms"
      ],
      "metadata": {
        "id": "DrE3Iivbu8M_"
      }
    },
    {
      "cell_type": "code",
      "source": [],
      "metadata": {
        "id": "PkQ5JwcAVQ3R"
      },
      "execution_count": null,
      "outputs": []
    },
    {
      "cell_type": "markdown",
      "source": [
        "6. Hashing algorithm"
      ],
      "metadata": {
        "id": "N7LBKWq5VOTo"
      }
    },
    {
      "cell_type": "code",
      "source": [],
      "metadata": {
        "id": "RIw8KDGH4bOm"
      },
      "execution_count": null,
      "outputs": []
    },
    {
      "cell_type": "markdown",
      "source": [
        "# Coding Questions"
      ],
      "metadata": {
        "id": "Vk8EDU3pEFmc"
      }
    },
    {
      "cell_type": "markdown",
      "source": [
        "1. Palindrome checker\n",
        "- Question: Write a function to check if a given string is a palindrome (reads the same forwards and backwards).\n",
        "This question assesses string manipulation and basic algorithmic thinking."
      ],
      "metadata": {
        "id": "CSEnvUaCEdJc"
      }
    },
    {
      "cell_type": "code",
      "source": [
        "def is_palindrome(s):\n",
        "  s = ''.join(char.lower() for char in s if char.isalnum())\n",
        "  return s == s[::-1]\n",
        "\n",
        "print(is_palindrome(\"A man, a plan, a canal, Panama\"))  # Output: True\n",
        "print(is_palindrome('hiiissih'))\n"
      ],
      "metadata": {
        "colab": {
          "base_uri": "https://localhost:8080/"
        },
        "id": "MNOckMq0EHVe",
        "outputId": "5d906689-4515-4c81-e767-232d463997cd"
      },
      "execution_count": 22,
      "outputs": [
        {
          "output_type": "stream",
          "name": "stdout",
          "text": [
            "True\n",
            "False\n"
          ]
        }
      ]
    },
    {
      "cell_type": "markdown",
      "source": [
        "2. Sum of Digits\n",
        "- Question: Write a function that takes an integer as input and returns the sum of its digits.\n",
        "This question evaluates basic arithmetic operations and iteration."
      ],
      "metadata": {
        "id": "OIGMcd9tFZVJ"
      }
    },
    {
      "cell_type": "code",
      "source": [
        "def sum_digits(num):\n",
        "  n_str = str(num)\n",
        "  total = 0\n",
        "\n",
        "  for i in n_str:\n",
        "    total+=int(i)\n",
        "  return total\n",
        "\n",
        "print(sum_digits(123))\n",
        "print(sum_digits(122))"
      ],
      "metadata": {
        "colab": {
          "base_uri": "https://localhost:8080/"
        },
        "id": "bldFuFKIFDPK",
        "outputId": "74ee8337-cbdf-4bb2-f64c-79a17c0ae834"
      },
      "execution_count": 32,
      "outputs": [
        {
          "output_type": "stream",
          "name": "stdout",
          "text": [
            "6\n",
            "5\n"
          ]
        }
      ]
    },
    {
      "cell_type": "markdown",
      "source": [
        "3. Factorial calculation"
      ],
      "metadata": {
        "id": "SIiFIV2qGpuo"
      }
    },
    {
      "cell_type": "code",
      "source": [
        "def factorial(n):\n",
        "  if n ==0 or n==1:\n",
        "    return 1\n",
        "  else:\n",
        "    return n*factorial(n-1)\n",
        "\n",
        "print(factorial(5))"
      ],
      "metadata": {
        "colab": {
          "base_uri": "https://localhost:8080/"
        },
        "id": "p_Sw7wR3FtJh",
        "outputId": "7b51ccca-7c86-476b-82e0-a347eae80022"
      },
      "execution_count": 33,
      "outputs": [
        {
          "output_type": "stream",
          "name": "stdout",
          "text": [
            "120\n"
          ]
        }
      ]
    },
    {
      "cell_type": "code",
      "source": [],
      "metadata": {
        "id": "wz6s_N1JG3Sk"
      },
      "execution_count": null,
      "outputs": []
    }
  ]
}