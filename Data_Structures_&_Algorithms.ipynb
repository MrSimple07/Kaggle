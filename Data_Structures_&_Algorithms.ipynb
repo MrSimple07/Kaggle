{
  "nbformat": 4,
  "nbformat_minor": 0,
  "metadata": {
    "colab": {
      "provenance": [],
      "authorship_tag": "ABX9TyNmPEzfuXjwOeLzlPrisYBm",
      "include_colab_link": true
    },
    "kernelspec": {
      "name": "python3",
      "display_name": "Python 3"
    },
    "language_info": {
      "name": "python"
    }
  },
  "cells": [
    {
      "cell_type": "markdown",
      "metadata": {
        "id": "view-in-github",
        "colab_type": "text"
      },
      "source": [
        "<a href=\"https://colab.research.google.com/github/MrSimple07/Kaggle/blob/main/Data_Structures_%26_Algorithms.ipynb\" target=\"_parent\"><img src=\"https://colab.research.google.com/assets/colab-badge.svg\" alt=\"Open In Colab\"/></a>"
      ]
    },
    {
      "cell_type": "markdown",
      "source": [
        "# Big O notation\n",
        "\n",
        "- Time complexity 0 (n)"
      ],
      "metadata": {
        "id": "BJq2qUZnmZyL"
      }
    },
    {
      "cell_type": "code",
      "execution_count": 6,
      "metadata": {
        "colab": {
          "base_uri": "https://localhost:8080/"
        },
        "id": "r8DIFVSXmLI5",
        "outputId": "f4e3587d-ed26-49cb-e8a0-36407fb011ce"
      },
      "outputs": [
        {
          "output_type": "stream",
          "name": "stdout",
          "text": [
            "CPU times: user 4 µs, sys: 0 ns, total: 4 µs\n",
            "Wall time: 7.39 µs\n"
          ]
        },
        {
          "output_type": "execute_result",
          "data": {
            "text/plain": [
              "[4, 16, 25]"
            ]
          },
          "metadata": {},
          "execution_count": 6
        }
      ],
      "source": [
        "%time\n",
        "def get_squared_numbers(numbers):\n",
        "  squared_numbers = []\n",
        "  for n in numbers:\n",
        "    squared_numbers.append(n*n)\n",
        "  return squared_numbers\n",
        "\n",
        "numbers = [2,4,5]\n",
        "get_squared_numbers(numbers)"
      ]
    },
    {
      "cell_type": "markdown",
      "source": [
        "-  Time complexity 0 (1)"
      ],
      "metadata": {
        "id": "J4YhupbzrfsX"
      }
    },
    {
      "cell_type": "code",
      "source": [
        "def find_first_pe(prices, eps, index):\n",
        "  pe = prices[index]/eps[index]\n",
        "  return pe"
      ],
      "metadata": {
        "id": "s-OcKS5RnX1W"
      },
      "execution_count": 7,
      "outputs": []
    },
    {
      "cell_type": "markdown",
      "source": [
        "- Time Complexity 0 (n*n)\n",
        "\n",
        "time = a*n2 + b"
      ],
      "metadata": {
        "id": "pM4TIG0-sQ0d"
      }
    },
    {
      "cell_type": "code",
      "source": [
        "numbers = [2,3,5,7,4,5,6]\n",
        "\n",
        "for i in range(len(numbers)):\n",
        "  for j in range(i+1, len(numbers)):\n",
        "    if numbers[i] == numbers[j]:\n",
        "      print(numbers[i])\n",
        "      break"
      ],
      "metadata": {
        "colab": {
          "base_uri": "https://localhost:8080/"
        },
        "id": "8XlrcVxMr3ts",
        "outputId": "e189d193-8371-419d-dbbc-c23490bf0f6b"
      },
      "execution_count": 9,
      "outputs": [
        {
          "output_type": "stream",
          "name": "stdout",
          "text": [
            "5\n"
          ]
        }
      ]
    },
    {
      "cell_type": "markdown",
      "source": [
        "# Data Structures Python\n",
        "\n",
        "## Linear Data Structures and for Python\n",
        "- Arrays (list)\n",
        "- Linked Lists\n",
        "- Tuple\n",
        "- Stacks\n",
        "- Queues (collections deque)\n",
        "- Deques (collections deque)\n",
        "- Set\n",
        "\n",
        "## Nonlinear Data Structures\n",
        "- Trees\n",
        "- Graphs\n",
        "- Heaps\n",
        "- Hash Tables (dictionary)\n",
        "- trie (Prefix Tree)\n",
        "\n",
        "\n",
        "\n",
        "---\n",
        "\n",
        "\n",
        "\n",
        "### 1. Lists (Arrays)\n",
        "\n",
        "- It is like an arrays.\n",
        "- Ordered collection of data.\n",
        "- It is very flexible\n",
        "- Storing large collections of data  for fast element access (image pixels)\n",
        "\n",
        "\n",
        "```\n",
        "List = ['Someone', 'Something']\n",
        "```\n",
        "\n",
        "\n",
        "\n",
        "2. Dictionary\n",
        "- It is like hash tables with the ime complexity of O(1).\n",
        "- It holds key: value pairs.\n",
        "\n",
        "3. Tuple\n",
        "- it is like a list, but it is immutable. So, we cannot add or remove, once it is created"
      ],
      "metadata": {
        "id": "Qr61kNpe12t2"
      }
    },
    {
      "cell_type": "code",
      "source": [
        "#Dictionaries\n",
        "my_dict = {\"name\": \"John\", \"age\": 30, \"city\": \"New York\"}\n",
        "print(\"Dictionary:\", my_dict)\n",
        "\n",
        "print(my_dict['name'])\n",
        "\n",
        "my_dict['job']= 'ML Engineer'\n",
        "print(my_dict)\n",
        "\n",
        "for key, value in my_dict.items():\n",
        "  print(key, ':', value)\n",
        "\n",
        "#Tuples\n",
        "tuple = ('smt', 'someone')"
      ],
      "metadata": {
        "colab": {
          "base_uri": "https://localhost:8080/"
        },
        "id": "72QugLxV3ltE",
        "outputId": "8195ae32-3515-4f64-ed5d-1560bb4254bf"
      },
      "execution_count": 21,
      "outputs": [
        {
          "output_type": "stream",
          "name": "stdout",
          "text": [
            "Dictionary: {'name': 'John', 'age': 30, 'city': 'New York'}\n",
            "John\n",
            "{'name': 'John', 'age': 30, 'city': 'New York', 'job': 'ML Engineer'}\n",
            "name : John\n",
            "age : 30\n",
            "city : New York\n",
            "job : ML Engineer\n"
          ]
        }
      ]
    },
    {
      "cell_type": "markdown",
      "source": [
        "4. Set\n",
        "- Mutable and does not allow any duplicate element\n",
        "-  The data structure used in this is Hashing, a popular technique to perform insertion, deletion, and traversal in O(1) on average.\n",
        "- Sets automatically remove duplicate elements, ensuring that each element is unique\n",
        "- Sets support various mathematical operations\n",
        "- *union, add, remove, intersection, difference, symmetric_difference operations*"
      ],
      "metadata": {
        "id": "b57RqtcL4C_Y"
      }
    },
    {
      "cell_type": "code",
      "source": [
        "my_set= {1,2,3,4,5}\n",
        "\n",
        "my_set.add(6)\n",
        "print(my_set)\n",
        "\n",
        "set1 = {1, 2, 3, 4, 5}\n",
        "set2 = {4, 5, 6, 7, 8}\n",
        "\n",
        "# Union of sets\n",
        "union_set = set1.union(set2)\n",
        "print(\"Union of sets:\", union_set)\n",
        "\n",
        "# Intersection of sets\n",
        "intersection_set = set1.intersection(set2)\n",
        "print(\"Intersection of sets:\", intersection_set)\n",
        "\n",
        "# Difference of sets\n",
        "difference_set = set1.difference(set2)\n",
        "print(\"Difference of sets (set1 - set2):\", difference_set)\n",
        "\n",
        "# Symmetric difference of sets\n",
        "symmetric_difference_set = set1.symmetric_difference(set2)\n",
        "print(\"Symmetric difference of sets:\", symmetric_difference_set)"
      ],
      "metadata": {
        "colab": {
          "base_uri": "https://localhost:8080/"
        },
        "id": "mTWOgguB0gEF",
        "outputId": "8ed2f619-e367-4fe2-ab74-bf9d886b21bb"
      },
      "execution_count": 17,
      "outputs": [
        {
          "output_type": "stream",
          "name": "stdout",
          "text": [
            "{1, 2, 3, 4, 5, 6}\n",
            "Union of sets: {1, 2, 3, 4, 5, 6, 7, 8}\n",
            "Intersection of sets: {4, 5}\n",
            "Difference of sets (set1 - set2): {1, 2, 3}\n",
            "Symmetric difference of sets: {1, 2, 3, 6, 7, 8}\n"
          ]
        }
      ]
    },
    {
      "cell_type": "markdown",
      "source": [
        "5. Stacks\n",
        "- Useful for parsing expressions, tracking function calls in recursive algorithms, and managing undo/redo functionality in applications.\n",
        "- Stacks can be implemented using list.\n",
        "- append to add, and pop for removing."
      ],
      "metadata": {
        "id": "_K00zcwF4rxn"
      }
    },
    {
      "cell_type": "code",
      "source": [
        "stack = []\n",
        "stack.append(1)\n",
        "stack.append(2)\n",
        "\n",
        "popped_element = stack.pop()\n",
        "print(stack)\n",
        "print(popped_element)"
      ],
      "metadata": {
        "colab": {
          "base_uri": "https://localhost:8080/"
        },
        "id": "ZJAaJeYDJRbM",
        "outputId": "6ed110d3-ea6e-4c6b-f207-1d3439deb3be"
      },
      "execution_count": 12,
      "outputs": [
        {
          "output_type": "stream",
          "name": "stdout",
          "text": [
            "[1]\n",
            "2\n"
          ]
        }
      ]
    },
    {
      "cell_type": "markdown",
      "source": [
        "6. Queues\n",
        "\n",
        "- Applied in scenarios like managing task scheduling, breadth-first search algorithms, and handling requests in a first-come-first-serve manner in systems.\n",
        "- Queues can be implemented using Python's collections.deque, which provides efficient append() and popleft() operations."
      ],
      "metadata": {
        "id": "CIqwJ7bDJlTy"
      }
    },
    {
      "cell_type": "code",
      "source": [
        "from collections import deque\n",
        "\n",
        "queue = deque()\n",
        "queue.append(1)\n",
        "queue.append(2)\n",
        "\n",
        "dequeued_element = queue.popleft()   # Dequeuing an element\n",
        "print(dequeued_element)"
      ],
      "metadata": {
        "colab": {
          "base_uri": "https://localhost:8080/"
        },
        "id": "4CrDjoTxKUMF",
        "outputId": "f0967836-869b-4943-a4b3-797d2939543e"
      },
      "execution_count": 13,
      "outputs": [
        {
          "output_type": "stream",
          "name": "stdout",
          "text": [
            "1\n"
          ]
        }
      ]
    },
    {
      "cell_type": "markdown",
      "source": [
        "7. Linked List\n",
        "- A linked list is a linear data structure consisting of nodes, where each node contains data and a reference to the next node in the sequence\n",
        "- The last node typically points to 'None'\n",
        "\n",
        "\n",
        "Singly Linked Lists and Doubly Linked Lists\n",
        "- Singly has reference to the next node only. It requires less memory\n",
        "- Doubply Linked lists. It has references to both the next and the previous nodes. Consumes more memory"
      ],
      "metadata": {
        "id": "Xaft4CcQ4uQx"
      }
    },
    {
      "cell_type": "markdown",
      "source": [
        "# Nonlinear Data Structures\n",
        "1. Trees\n",
        "- Hierarchical data structures consisting of nodes connected by edges. Each tree has a root node with zero or more child nodes.\n",
        "\n",
        "Types:\n",
        "- a) Binary Tree - Each node has at most 2 children\n",
        "- b) Binary Search Trees (BST) - Left child is less than parent, and right child is greater. It is efficient search, insert, deletion operation\n",
        "- c) Red- Black trees - Balanced binary search trees ensuring logarithmic time complexity for searchm insertion, and deletion\n",
        "\n",
        "Uses:\n",
        "- File systems\n",
        "- Efficient Search, Insertion and deletion Operations in databases and programming\n",
        "- Decision Trees, Sorting Algorithms"
      ],
      "metadata": {
        "id": "BnKQ1VGGtbne"
      }
    },
    {
      "cell_type": "code",
      "source": [
        "class Node:\n",
        "    def __init__(self, data):\n",
        "        self.data = data\n",
        "        self.left = None\n",
        "        self.right = None\n",
        "\n",
        "# Create a binary tree\n",
        "root = Node(1)\n",
        "root.left = Node(2)\n",
        "root.right = Node(3)\n"
      ],
      "metadata": {
        "id": "aQWZd_ddqOS8"
      },
      "execution_count": 2,
      "outputs": []
    },
    {
      "cell_type": "markdown",
      "source": [
        "2. Graphs\n",
        "- Collection of nodes connected by edges\n",
        "\n",
        "Types:\n",
        "- Directed Graph - Edges have a direction (source and destination)\n",
        "- Undirected Graph - Edges don't havedirections\n",
        "- Weighted Graph - Edges have associated weights representing values like distance or costs\n",
        "\n",
        "Uses:\n",
        "- Breadth- First Search (BFS) and Depth-First Search (DFS) for traversal\n",
        "- Finding shortest path\n",
        "- Social Media, Connecting, maps, route planning"
      ],
      "metadata": {
        "id": "Q8CAPEktqM5s"
      }
    },
    {
      "cell_type": "code",
      "source": [
        "from collections import defaultdict\n",
        "\n",
        "graph = defaultdict(list)\n",
        "graph[0].append(1)\n",
        "graph[1].append(2)\n",
        "graph[2].append(0)"
      ],
      "metadata": {
        "id": "FzIjuD5Oqrr7"
      },
      "execution_count": 1,
      "outputs": []
    },
    {
      "cell_type": "markdown",
      "source": [
        "3. Hash tables (python dictionary)\n",
        "- Mapping keys to unique indexes, which makes fast lookups\n",
        "- Usually it is O(1) time complexity\n",
        "\n",
        "Uses:\n",
        "- Caching\n",
        "- Databases for fast key-value access\n"
      ],
      "metadata": {
        "id": "Tp-HprGXrEOl"
      }
    },
    {
      "cell_type": "code",
      "source": [
        "dict1 = {'name': 'Ali', 'age': '12', 'country': 'Utopia'}\n",
        "dict1['name']"
      ],
      "metadata": {
        "colab": {
          "base_uri": "https://localhost:8080/",
          "height": 36
        },
        "id": "Px7Dak2Ms-bq",
        "outputId": "3782abad-e1f5-42be-f741-b1ab29c223f4"
      },
      "execution_count": 3,
      "outputs": [
        {
          "output_type": "execute_result",
          "data": {
            "text/plain": [
              "'Ali'"
            ],
            "application/vnd.google.colaboratory.intrinsic+json": {
              "type": "string"
            }
          },
          "metadata": {},
          "execution_count": 3
        }
      ]
    },
    {
      "cell_type": "markdown",
      "source": [
        "# Some questions and Comparisons"
      ],
      "metadata": {
        "id": "sCzbRremMDsU"
      }
    },
    {
      "cell_type": "markdown",
      "source": [
        "1. Linked list vc Arrays\n",
        "- Insertion and Deletion: Linked lists are more efficient, especially in the middle of the sequence\n",
        "- Random Access: Arrays more efficient, because they can be accessed by index, while linked lists require traversal from the beginning for access\n",
        "- Memory: Arrays have a fixed size and allocate memory statically. Linked lists takes memory dynamically as nodes are added"
      ],
      "metadata": {
        "id": "Iit7OhlMMOoL"
      }
    },
    {
      "cell_type": "code",
      "source": [
        "class Node:\n",
        "    def __init__(self, data):\n",
        "        self.data = data\n",
        "        self.next = None\n",
        "\n",
        "class LinkedList:\n",
        "    def __init__(self):\n",
        "        self.head = None\n",
        "\n",
        "    def append(self, data):\n",
        "        new_node = Node(data)\n",
        "        if not self.head:\n",
        "            self.head = new_node\n",
        "            return\n",
        "        current = self.head\n",
        "        while current.next:\n",
        "            current = current.next\n",
        "        current.next = new_node\n",
        "\n",
        "    def display(self):\n",
        "        current = self.head\n",
        "        while current:\n",
        "            print(current.data, end=\" \")\n",
        "            current = current.next\n",
        "        print()\n",
        "\n",
        "# Create a linked list\n",
        "linked_list = LinkedList()\n",
        "linked_list.append(1)\n",
        "linked_list.append(2)\n",
        "linked_list.append(3)\n",
        "\n",
        "# Display the linked list\n",
        "print(\"Linked List:\")\n",
        "linked_list.display()"
      ],
      "metadata": {
        "colab": {
          "base_uri": "https://localhost:8080/"
        },
        "id": "t7YNMk9SMHhp",
        "outputId": "8dbcd350-f30b-48e8-b024-ac671914f2a8"
      },
      "execution_count": 15,
      "outputs": [
        {
          "output_type": "stream",
          "name": "stdout",
          "text": [
            "Linked List:\n",
            "1 2 3 \n"
          ]
        }
      ]
    },
    {
      "cell_type": "markdown",
      "source": [
        "2. Lists vc Tuples\n",
        "- Lists are mutable, tuples are immutable.\n",
        "- Lists are used when you need a collection of elements, which we can delete, append new items. And also, for complex data manipulations such as sorting, filtering, or mapping elements.\n",
        "\n",
        "- Tuples are more memory-efficient and faster to access compared to lists."
      ],
      "metadata": {
        "id": "xHFdebqOOv02"
      }
    },
    {
      "cell_type": "code",
      "source": [
        "list1 = [1,2,4,56,7]\n",
        "list1.append(5)\n",
        "print(list1)\n",
        "\n",
        "tuple1 = (1,2,45,7,8)"
      ],
      "metadata": {
        "colab": {
          "base_uri": "https://localhost:8080/"
        },
        "id": "DFirk7VX4cP3",
        "outputId": "6395649c-e742-435f-972b-a070ea52b64c"
      },
      "execution_count": 1,
      "outputs": [
        {
          "output_type": "stream",
          "name": "stdout",
          "text": [
            "[1, 2, 4, 56, 7, 5]\n"
          ]
        }
      ]
    },
    {
      "cell_type": "markdown",
      "source": [
        "3. Stacks vc Queues\n",
        "- Stacks for LIFO (Last in, First Out) - re do applications, useful for function calls and backtracking\n",
        "- Queue for FIFO (First in, First Out) - BFS, task scheduling application\n",
        "\n",
        "\n",
        "Queues - Enqueue: O(1)\n"
      ],
      "metadata": {
        "id": "WaOT3dRY32Ay"
      }
    },
    {
      "cell_type": "markdown",
      "source": [
        "# Other Questions & Algorithms"
      ],
      "metadata": {
        "id": "ReMCFtObugaT"
      }
    },
    {
      "cell_type": "markdown",
      "source": [
        "6 most important types of algorithms:\n",
        "\n",
        "1. Brute Force Algorithm\n",
        "2. Recursive Algorithm (Dynamic Programming, Greedy Algorithm, Divide and Conquer Algorithm, Backtracking Algorithm)\n",
        "3. Randomized algorithm\n",
        "4. Sorting Algorithm\n",
        "5. Searching Algorithm\n",
        "6. Hashing Algorithm"
      ],
      "metadata": {
        "id": "_qouq6nKvIgR"
      }
    },
    {
      "cell_type": "markdown",
      "source": [
        "1. Greedy Algorithm and Dynamic Programming: Differentiate, + and -"
      ],
      "metadata": {
        "id": "FH4jY52Lui07"
      }
    },
    {
      "cell_type": "markdown",
      "source": [
        "2. Sorting Algorithms (Bubble Sort, Insertion sort, Merge sort, Quicksort). Time and space Complexity"
      ],
      "metadata": {
        "id": "6PjtphYhuluq"
      }
    },
    {
      "cell_type": "markdown",
      "source": [
        "3."
      ],
      "metadata": {
        "id": "DrE3Iivbu8M_"
      }
    },
    {
      "cell_type": "code",
      "source": [],
      "metadata": {
        "id": "RIw8KDGH4bOm"
      },
      "execution_count": null,
      "outputs": []
    }
  ]
}