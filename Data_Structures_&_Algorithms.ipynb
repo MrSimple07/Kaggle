{
  "nbformat": 4,
  "nbformat_minor": 0,
  "metadata": {
    "colab": {
      "provenance": [],
      "authorship_tag": "ABX9TyP1+8MmTDRbKEScxVtQWB6F",
      "include_colab_link": true
    },
    "kernelspec": {
      "name": "python3",
      "display_name": "Python 3"
    },
    "language_info": {
      "name": "python"
    }
  },
  "cells": [
    {
      "cell_type": "markdown",
      "metadata": {
        "id": "view-in-github",
        "colab_type": "text"
      },
      "source": [
        "<a href=\"https://colab.research.google.com/github/MrSimple07/Kaggle/blob/main/Data_Structures_%26_Algorithms.ipynb\" target=\"_parent\"><img src=\"https://colab.research.google.com/assets/colab-badge.svg\" alt=\"Open In Colab\"/></a>"
      ]
    },
    {
      "cell_type": "markdown",
      "source": [
        "# Big O notation\n",
        "\n",
        "- Time complexity 0 (n)"
      ],
      "metadata": {
        "id": "BJq2qUZnmZyL"
      }
    },
    {
      "cell_type": "code",
      "execution_count": 6,
      "metadata": {
        "colab": {
          "base_uri": "https://localhost:8080/"
        },
        "id": "r8DIFVSXmLI5",
        "outputId": "f4e3587d-ed26-49cb-e8a0-36407fb011ce"
      },
      "outputs": [
        {
          "output_type": "stream",
          "name": "stdout",
          "text": [
            "CPU times: user 4 µs, sys: 0 ns, total: 4 µs\n",
            "Wall time: 7.39 µs\n"
          ]
        },
        {
          "output_type": "execute_result",
          "data": {
            "text/plain": [
              "[4, 16, 25]"
            ]
          },
          "metadata": {},
          "execution_count": 6
        }
      ],
      "source": [
        "%time\n",
        "def get_squared_numbers(numbers):\n",
        "  squared_numbers = []\n",
        "  for n in numbers:\n",
        "    squared_numbers.append(n*n)\n",
        "  return squared_numbers\n",
        "\n",
        "numbers = [2,4,5]\n",
        "get_squared_numbers(numbers)"
      ]
    },
    {
      "cell_type": "markdown",
      "source": [
        "-  Time complexity 0 (1)"
      ],
      "metadata": {
        "id": "J4YhupbzrfsX"
      }
    },
    {
      "cell_type": "code",
      "source": [
        "def find_first_pe(prices, eps, index):\n",
        "  pe = prices[index]/eps[index]\n",
        "  return pe"
      ],
      "metadata": {
        "id": "s-OcKS5RnX1W"
      },
      "execution_count": 7,
      "outputs": []
    },
    {
      "cell_type": "markdown",
      "source": [
        "- Time Complexity 0 (n*n)\n",
        "\n",
        "time = a*n2 + b"
      ],
      "metadata": {
        "id": "pM4TIG0-sQ0d"
      }
    },
    {
      "cell_type": "code",
      "source": [
        "numbers = [2,3,5,7,4,5,6]\n",
        "\n",
        "for i in range(len(numbers)):\n",
        "  for j in range(i+1, len(numbers)):\n",
        "    if numbers[i] == numbers[j]:\n",
        "      print(numbers[i])\n",
        "      break"
      ],
      "metadata": {
        "colab": {
          "base_uri": "https://localhost:8080/"
        },
        "id": "8XlrcVxMr3ts",
        "outputId": "e189d193-8371-419d-dbbc-c23490bf0f6b"
      },
      "execution_count": 9,
      "outputs": [
        {
          "output_type": "stream",
          "name": "stdout",
          "text": [
            "5\n"
          ]
        }
      ]
    },
    {
      "cell_type": "markdown",
      "source": [
        "# Data Structures Python\n",
        "1. Lists\n",
        "\n",
        "- It is like an arrays.\n",
        "- Ordered collection of data.\n",
        "- It is very flexible\n",
        "\n",
        "\n",
        "```\n",
        "List = ['Someone', 'Something']\n",
        "```\n",
        "\n",
        "\n",
        "\n",
        "2. Dictionary\n",
        "- It is like hash tables with the ime complexity of O(1).\n",
        "- It holds key: value pairs.\n",
        "\n",
        "3. Tuple\n",
        "- it is like a list, but it is immutable. So, we cannot add or remove, once it is created"
      ],
      "metadata": {
        "id": "Qr61kNpe12t2"
      }
    },
    {
      "cell_type": "code",
      "source": [
        "tuple = ('smt', 'someone')"
      ],
      "metadata": {
        "id": "72QugLxV3ltE"
      },
      "execution_count": null,
      "outputs": []
    },
    {
      "cell_type": "markdown",
      "source": [
        "4. Set\n",
        "- Mutable and does not allow any duplicate element\n",
        "-  The data structure used in this is Hashing, a popular technique to perform insertion, deletion, and traversal in O(1) on average."
      ],
      "metadata": {
        "id": "b57RqtcL4C_Y"
      }
    },
    {
      "cell_type": "code",
      "source": [
        "Set = set([1, 2, 'Geeks', 4, 'For', 6, 'Geeks'])\n"
      ],
      "metadata": {
        "id": "mTWOgguB0gEF"
      },
      "execution_count": 10,
      "outputs": []
    },
    {
      "cell_type": "markdown",
      "source": [
        "5. Stacks\n",
        "- Useful for parsing expressions, tracking function calls in recursive algorithms, and managing undo/redo functionality in applications.\n",
        "- Stacks can be implemented using list.\n",
        "- append to add, and pop for removing."
      ],
      "metadata": {
        "id": "_K00zcwF4rxn"
      }
    },
    {
      "cell_type": "code",
      "source": [
        "stack = []\n",
        "stack.append(1)\n",
        "stack.append(2)\n",
        "\n",
        "popped_element = stack.pop()\n",
        "print(stack)\n",
        "print(popped_element)"
      ],
      "metadata": {
        "colab": {
          "base_uri": "https://localhost:8080/"
        },
        "id": "ZJAaJeYDJRbM",
        "outputId": "6ed110d3-ea6e-4c6b-f207-1d3439deb3be"
      },
      "execution_count": 12,
      "outputs": [
        {
          "output_type": "stream",
          "name": "stdout",
          "text": [
            "[1]\n",
            "2\n"
          ]
        }
      ]
    },
    {
      "cell_type": "markdown",
      "source": [
        "6. Queues\n",
        "\n",
        "- Applied in scenarios like managing task scheduling, breadth-first search algorithms, and handling requests in a first-come-first-serve manner in systems.\n",
        "- Queues can be implemented using Python's collections.deque, which provides efficient append() and popleft() operations."
      ],
      "metadata": {
        "id": "CIqwJ7bDJlTy"
      }
    },
    {
      "cell_type": "code",
      "source": [
        "from collections import deque\n",
        "\n",
        "queue = deque()\n",
        "queue.append(1)\n",
        "queue.append(2)\n",
        "\n",
        "dequeued_element = queue.popleft()   # Dequeuing an element\n",
        "print(dequeued_element)"
      ],
      "metadata": {
        "colab": {
          "base_uri": "https://localhost:8080/"
        },
        "id": "4CrDjoTxKUMF",
        "outputId": "f0967836-869b-4943-a4b3-797d2939543e"
      },
      "execution_count": 13,
      "outputs": [
        {
          "output_type": "stream",
          "name": "stdout",
          "text": [
            "1\n"
          ]
        }
      ]
    },
    {
      "cell_type": "markdown",
      "source": [
        "6. Linked List"
      ],
      "metadata": {
        "id": "Xaft4CcQ4uQx"
      }
    },
    {
      "cell_type": "code",
      "source": [],
      "metadata": {
        "id": "RIw8KDGH4bOm"
      },
      "execution_count": null,
      "outputs": []
    }
  ]
}